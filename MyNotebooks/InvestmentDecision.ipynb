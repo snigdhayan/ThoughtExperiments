{
 "cells": [
  {
   "cell_type": "markdown",
   "id": "a967a0e9",
   "metadata": {},
   "source": [
    "# Investment Decision\n",
    "## Author: Snigdhayan Mahanta\n",
    "\n",
    "`Monte Carlo Simulation` can be a powerful technique to get a quantitive idea about future outcomes. Suppose an investor has 10000 EUR to invest in a project (e.g., a startup). For the investor there are two options:\n",
    "1. Option 1 - low rate of return and low risk of failure\n",
    "2. Option 2 - high rate of return and high risk of failure\n",
    "\n",
    "I used `Monte Carlo Simulation` using the `MonteCarlo` package of `R` to compute the average returns for the two options. I am not advocating any investment strategy based on this simulation. Please read the advisory at the end."
   ]
  },
  {
   "cell_type": "code",
   "execution_count": 1,
   "id": "44a53620",
   "metadata": {},
   "outputs": [],
   "source": [
    "library(MonteCarlo, quietly = TRUE)"
   ]
  },
  {
   "cell_type": "code",
   "execution_count": 2,
   "id": "b6c6e973",
   "metadata": {},
   "outputs": [],
   "source": [
    "# Define a function that calculates the ROI of an investment based on rate of return and risk of failure\n",
    "ROI <- function(rate, risk, investment){\n",
    "    \n",
    "  # add some variability to real risk of failure\n",
    "  real_risk <- risk\n",
    "  x <- real_risk + rnorm(1, 0, risk/10) # perturb risk\n",
    "  if (x > 0 & x < 100) {real_risk <- x}\n",
    "    \n",
    "  # generate investment outcome\n",
    "  outcome <- sample(0:1, size = 1, prob = c((real_risk/100), 1-(real_risk/100))) # 0 = failure, 1 = success\n",
    "  \n",
    "  # add some variability to real rate of return\n",
    "  real_rate <- rate + rnorm(1, 0, rate/100) # perturb rate\n",
    "    \n",
    "  # calculate ROI\n",
    "  result <- ((real_rate/100)*investment*outcome)\n",
    "  \n",
    "  # return result:\n",
    "  return(list(\"ROI\" = result))\n",
    "}"
   ]
  },
  {
   "cell_type": "code",
   "execution_count": 3,
   "id": "125a0975",
   "metadata": {},
   "outputs": [],
   "source": [
    "# Define parameter grid\n",
    "investment <- 10000 # 10k EUR to invest\n",
    "\n",
    "# Rate of return as percentage\n",
    "low_rate <- 80000 # 80000% rate of return\n",
    "high_rate <- 100000 # 100000% rate of return\n",
    "\n",
    "# Risk of failure as percentage\n",
    "low_risk <- 70 # 70% risk of failure\n",
    "high_risk <- 80 # 80% risk of failure\n",
    "\n",
    "rate <- c(low_rate, high_rate)\n",
    "risk <- c(low_risk, high_risk)"
   ]
  },
  {
   "cell_type": "code",
   "execution_count": 4,
   "id": "4291de83",
   "metadata": {},
   "outputs": [],
   "source": [
    "# Collect parameter grids in list\n",
    "param_list=list(\"rate\" = rate, \"risk\" = risk, \"investment\" = investment)"
   ]
  },
  {
   "cell_type": "code",
   "execution_count": 5,
   "id": "f0e6f6c2",
   "metadata": {},
   "outputs": [
    {
     "name": "stdout",
     "output_type": "stream",
     "text": [
      "Grid of  4  parameter constellations to be evaluated. \n",
      " \n",
      "Progress: \n",
      " \n",
      "  |======================================================================| 100%\n",
      " \n",
      "Simulation of function: \n",
      "\n",
      "function(rate, risk, investment){\n",
      "    \n",
      "  # add some variability to real risk of failure\n",
      "  real_risk <- risk\n",
      "  x <- real_risk + rnorm(1, 0, risk/10) # perturb risk\n",
      "  if (x > 0 & x < 100) {real_risk <- x}\n",
      "    \n",
      "  # generate investment outcome\n",
      "  outcome <- sample(0:1, size = 1, prob = c((real_risk/100), 1-(real_risk/100))) # 0 = failure, 1 = success\n",
      "  \n",
      "  # add some variability to real rate of return\n",
      "  real_rate <- rate + rnorm(1, 0, rate/100) # perturb rate\n",
      "    \n",
      "  # calculate ROI\n",
      "  result <- ((real_rate/100)*investment*outcome)\n",
      "  \n",
      "  # return result:\n",
      "  return(list(\"ROI\" = result))\n",
      "}\n",
      "<bytecode: 0x000000001f42b878>\n",
      "\n",
      "Required time: 0.06 secs for nrep = 100  repetitions on 1 CPUs \n",
      "\n",
      "Parameter grid: \n",
      "\n",
      "       rate : 80000 1e+05 \n",
      "       risk : 70 80 \n",
      " investment : 10000 \n",
      "\n",
      " \n",
      "1 output arrays of dimensions: 2 2 1 100"
     ]
    }
   ],
   "source": [
    "# Run simulation\n",
    "repetitions <- 100\n",
    "MC_result<-MonteCarlo(func = ROI, nrep = repetitions, param_list = param_list)\n",
    "summary(MC_result)"
   ]
  },
  {
   "cell_type": "code",
   "execution_count": 6,
   "id": "4b25d23f",
   "metadata": {},
   "outputs": [],
   "source": [
    "# Aggregate results\n",
    "return1 <- numeric(repetitions) # low rate, low risk\n",
    "return2 <- numeric(repetitions) # high rate, high risk\n",
    "\n",
    "for (i in c(1:repetitions)) {\n",
    "    return1[i] <- MC_result$results$ROI[4*(i-1)+1]\n",
    "    return2[i] <- MC_result$results$ROI[4*(i-1)+4]\n",
    "}"
   ]
  },
  {
   "cell_type": "code",
   "execution_count": 7,
   "id": "7eb27b5c",
   "metadata": {},
   "outputs": [
    {
     "data": {
      "image/png": "[encoded data removed]",
      "text/plain": [
       "Plot with title \"Low rate and low risk return (No. of failures = 68 out of 100)\""
      ]
     },
     "metadata": {
      "image/png": {
       "height": 420,
       "width": 420
      },
      "text/plain": {
       "height": 420,
       "width": 420
      }
     },
     "output_type": "display_data"
    }
   ],
   "source": [
    "# Histogram of option 1\n",
    "step1 <- 10000\n",
    "n_failures1 <- sum(return1==0)\n",
    "return1 <- return1[return1 > 0]\n",
    "lower1 <- min(return1) - step1\n",
    "upper1 <- max(return1) + step1\n",
    "title1 <- paste0(\"Low rate and low risk return (No. of failures = \", n_failures1, \" out of \", repetitions, \")\")\n",
    "\n",
    "hist(return1, \n",
    "     main = title1, \n",
    "     xlab = \"Successful (non-zero) returns\", \n",
    "     col = \"blue\",\n",
    "     breaks = seq(lower1, upper1, by = step1), \n",
    "     xlim = c(lower1, upper1))"
   ]
  },
  {
   "cell_type": "code",
   "execution_count": 8,
   "id": "b1519831",
   "metadata": {},
   "outputs": [
    {
     "data": {
      "image/png": "[encoded data removed]",
      "text/plain": [
       "Plot with title \"High rate and high risk return (No. of failures = 76 out of 100)\""
      ]
     },
     "metadata": {
      "image/png": {
       "height": 420,
       "width": 420
      },
      "text/plain": {
       "height": 420,
       "width": 420
      }
     },
     "output_type": "display_data"
    }
   ],
   "source": [
    "# Histogram of option 2\n",
    "step2 <- 10000\n",
    "n_failures2 <- sum(return2==0)\n",
    "return2 <- return2[return2 > 0]\n",
    "lower2 <- min(return2) - step2\n",
    "upper2 <- max(return2) + step2\n",
    "title2 <- paste0(\"High rate and high risk return (No. of failures = \", n_failures2, \" out of \", repetitions, \")\")\n",
    "\n",
    "hist(return2, \n",
    "     main = title2, \n",
    "     xlab = \"Successful (non-zero) returns\", \n",
    "     col = \"green\",\n",
    "     breaks = seq(lower2, upper2, by = step2), \n",
    "     xlim = c(lower2, upper2))"
   ]
  },
  {
   "cell_type": "code",
   "execution_count": 9,
   "id": "931574c0",
   "metadata": {},
   "outputs": [
    {
     "name": "stdout",
     "output_type": "stream",
     "text": [
      "[1] \"Average return (Rate = 80000%, Risk = 70%): 7994837\"\n"
     ]
    }
   ],
   "source": [
    "# Average return - low rate and low risk\n",
    "print(paste0(\"Average return \", \"(Rate = \", low_rate, \"%, Risk = \", low_risk, \"%): \", round(mean(return1))))"
   ]
  },
  {
   "cell_type": "code",
   "execution_count": 10,
   "id": "28ec64f6",
   "metadata": {},
   "outputs": [
    {
     "name": "stdout",
     "output_type": "stream",
     "text": [
      "[1] \"Average return (Rate = 1e+05%, Risk = 80%): 9971527\"\n"
     ]
    }
   ],
   "source": [
    "# Average return - high rate and high risk\n",
    "print(paste0(\"Average return \", \"(Rate = \", high_rate, \"%, Risk = \", high_risk, \"%): \", round(mean(return2))))"
   ]
  },
  {
   "cell_type": "markdown",
   "id": "483d0309",
   "metadata": {},
   "source": [
    "One can easily change the simulation parameters and analyze different scenarios. For an individual investor this information is merely of academic interest and I would refrain from advising anything based on these results. However, this simulation capability can be helpful for a venture capital firm that can invest in many independent startups."
   ]
  }
 ],
 "metadata": {
  "kernelspec": {
   "display_name": "R",
   "language": "R",
   "name": "ir"
  },
  "language_info": {
   "codemirror_mode": "r",
   "file_extension": ".r",
   "mimetype": "text/x-r-source",
   "name": "R",
   "pygments_lexer": "r",
   "version": "4.0.3"
  }
 },
 "nbformat": 4,
 "nbformat_minor": 5
}
