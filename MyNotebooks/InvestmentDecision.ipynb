{
 "cells": [
  {
   "cell_type": "markdown",
   "id": "c8e7fa9a",
   "metadata": {},
   "source": [
    "# Investment Decision\n",
    "## Author: Snigdhayan Mahanta\n",
    "\n",
    "`Monte Carlo Simulation` can be a powerful technique to get a quantitive idea about future outcomes based on simulation. I tried out the `MonteCarlo` package of `R` to assess its efficacy. Suppose one has 10000 EUR to invest in a project. There are two options:\n",
    "1. Option 1 - low rate of return and low risk of failure\n",
    "2. Option 2 - high rate of return and high risk of failure\n",
    "\n",
    "I used `Monte Carlo Simulation` using some fictitious values for the above parameters to compute the average returns for the two options."
   ]
  },
  {
   "cell_type": "code",
   "execution_count": 1,
   "id": "da0da53e",
   "metadata": {},
   "outputs": [],
   "source": [
    "library(MonteCarlo, quietly = TRUE)"
   ]
  },
  {
   "cell_type": "code",
   "execution_count": 2,
   "id": "464a832f",
   "metadata": {},
   "outputs": [],
   "source": [
    "# Define a function that calculates the ROI on a risky investment, e.g., investment on a startup\n",
    "ROI <- function(rate, risk, investment){\n",
    "  # generate investment outcome:\n",
    "  outcome <- sample(0:1, size=1, prob=c((risk/100), 1-(risk/100))) # 0 = failure, 1 = success\n",
    "  \n",
    "  # calculate ROI:\n",
    "  result <- ((rate/100)*investment*outcome)\n",
    "  \n",
    "  # return result:\n",
    "  return(list(\"ROI\" = result))\n",
    "}"
   ]
  },
  {
   "cell_type": "code",
   "execution_count": 3,
   "id": "f6b658ca",
   "metadata": {},
   "outputs": [],
   "source": [
    "# define parameter grid:\n",
    "investment <- 10000 # 10k EUR to invest\n",
    "\n",
    "# Rate of return as percentage\n",
    "low_rate <- 400 # 400% rate of return\n",
    "high_rate <- 800 # 800% rate of return\n",
    "\n",
    "# Risk of failure as percentage\n",
    "low_risk <- 60 # 60% risk of failure\n",
    "high_risk <- 80 # 80% risk of failure\n",
    "\n",
    "rate <- c(low_rate, high_rate)\n",
    "risk <- c(low_risk, high_risk)"
   ]
  },
  {
   "cell_type": "code",
   "execution_count": 4,
   "id": "cc423576",
   "metadata": {},
   "outputs": [],
   "source": [
    "# collect parameter grids in list:\n",
    "param_list=list(\"rate\" = rate, \"risk\" = risk, \"investment\" = investment)"
   ]
  },
  {
   "cell_type": "code",
   "execution_count": 5,
   "id": "fe26d803",
   "metadata": {},
   "outputs": [
    {
     "name": "stdout",
     "output_type": "stream",
     "text": [
      "Grid of  4  parameter constellations to be evaluated. \n",
      " \n",
      "Progress: \n",
      " \n",
      "  |======================================================================| 100%\n",
      " \n",
      "Simulation of function: \n",
      "\n",
      "function(rate, risk, investment){\n",
      "  # generate investment outcome:\n",
      "  outcome <- sample(0:1, size=1, prob=c((risk/100), 1-(risk/100))) # 0 = failure, 1 = success\n",
      "  \n",
      "  # calculate ROI:\n",
      "  result <- ((rate/100)*investment*outcome)\n",
      "  \n",
      "  # return result:\n",
      "  return(list(\"ROI\" = result))\n",
      "}\n",
      "<bytecode: 0x000000001f80cd50>\n",
      "\n",
      "Required time: 0.12 secs for nrep = 1000  repetitions on 1 CPUs \n",
      "\n",
      "Parameter grid: \n",
      "\n",
      "       rate : 400 800 \n",
      "       risk : 60 80 \n",
      " investment : 10000 \n",
      "\n",
      " \n",
      "1 output arrays of dimensions: 2 2 1 1000"
     ]
    }
   ],
   "source": [
    "# run simulation:\n",
    "repetitions <- 1000\n",
    "MC_result<-MonteCarlo(func = ROI, nrep = repetitions, param_list = param_list)\n",
    "summary(MC_result)"
   ]
  },
  {
   "cell_type": "code",
   "execution_count": 6,
   "id": "3ef0f701",
   "metadata": {},
   "outputs": [],
   "source": [
    "# Aggregate results\n",
    "x1 <- numeric(repetitions) # low rate, low risk\n",
    "x2 <- numeric(repetitions) # high rate, high risk\n",
    "\n",
    "for (i in c(1:repetitions)) {\n",
    "    x1[i] <- MC_result$results$ROI[4*(i-1)+1]\n",
    "    x2[i] <- MC_result$results$ROI[4*(i-1)+4]\n",
    "}"
   ]
  },
  {
   "cell_type": "code",
   "execution_count": 7,
   "id": "fb249c1d",
   "metadata": {},
   "outputs": [
    {
     "data": {
      "text/html": [
       "15920"
      ],
      "text/latex": [
       "15920"
      ],
      "text/markdown": [
       "15920"
      ],
      "text/plain": [
       "[1] 15920"
      ]
     },
     "metadata": {},
     "output_type": "display_data"
    }
   ],
   "source": [
    "# Average return - low rate and low risk\n",
    "mean(x1)"
   ]
  },
  {
   "cell_type": "code",
   "execution_count": 8,
   "id": "a2b73caf",
   "metadata": {},
   "outputs": [
    {
     "data": {
      "text/html": [
       "16640"
      ],
      "text/latex": [
       "16640"
      ],
      "text/markdown": [
       "16640"
      ],
      "text/plain": [
       "[1] 16640"
      ]
     },
     "metadata": {},
     "output_type": "display_data"
    }
   ],
   "source": [
    "# Average return - high rate and high risk\n",
    "mean(x2)"
   ]
  },
  {
   "cell_type": "markdown",
   "id": "8ffd21bd",
   "metadata": {},
   "source": [
    "One can easily change the simulation parameters and analyze different scenarios."
   ]
  }
 ],
 "metadata": {
  "kernelspec": {
   "display_name": "R",
   "language": "R",
   "name": "ir"
  },
  "language_info": {
   "codemirror_mode": "r",
   "file_extension": ".r",
   "mimetype": "text/x-r-source",
   "name": "R",
   "pygments_lexer": "r",
   "version": "4.0.3"
  }
 },
 "nbformat": 4,
 "nbformat_minor": 5
}
