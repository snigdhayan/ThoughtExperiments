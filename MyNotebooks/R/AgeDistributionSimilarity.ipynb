{
 "cells": [
  {
   "cell_type": "markdown",
   "id": "34616b82",
   "metadata": {},
   "source": [
    "# Age Distribution Similarity\n",
    "## Author: Snigdhayan Mahanta\n",
    "\n",
    "Consider two companies of similar size in terms of the number of employees. Suppose the task is to assess the similarity between the workforce age profiles of the two companies. \n",
    "\n",
    "For this purpose I generated two companies of similar size with slightly different age distributions (skewed normal distributions). I computed the `KL Divergence` between the actual age distributions (using the library `Philentropy` - https://rdrr.io/cran/philentropy/f/README.md) and then estimated it by a naive sampling strategy (approximating the true distributions by normal distributions). "
   ]
  },
  {
   "cell_type": "code",
   "execution_count": 1,
   "id": "4d57bed1",
   "metadata": {},
   "outputs": [],
   "source": [
    "# Include library\n",
    "library(\"philentropy\")"
   ]
  },
  {
   "cell_type": "code",
   "execution_count": 2,
   "id": "frozen-lounge",
   "metadata": {},
   "outputs": [],
   "source": [
    "# Create companies with slight different age distributions\n",
    "pop_size <- 100000\n",
    "set.seed(123)\n",
    "\n",
    "# Create skewed normal distributions\n",
    "population1 <- c(rnorm(pop_size*0.5, mean = 32, sd = 3), runif(pop_size*0.5, min = 20, max = 30))\n",
    "population2 <- c(rnorm(pop_size*0.5, mean = 30, sd = 6), runif(pop_size*0.5, min = 20, max = 30))"
   ]
  },
  {
   "cell_type": "code",
   "execution_count": 3,
   "id": "cfec3761",
   "metadata": {},
   "outputs": [
    {
     "data": {
      "image/png": "[encoded data removed]",
      "text/plain": [
       "Plot with title \"Histogram of population1\""
      ]
     },
     "metadata": {
      "image/png": {
       "height": 420,
       "width": 420
      }
     },
     "output_type": "display_data"
    },
    {
     "data": {
      "image/png": "[encoded data removed]",
      "text/plain": [
       "Plot with title \"Histogram of population2\""
      ]
     },
     "metadata": {
      "image/png": {
       "height": 420,
       "width": 420
      }
     },
     "output_type": "display_data"
    }
   ],
   "source": [
    "# Plot histogram\n",
    "n_buckets <- 20\n",
    "hist(population1, breaks = n_buckets)\n",
    "hist(population2, breaks = n_buckets)"
   ]
  },
  {
   "cell_type": "code",
   "execution_count": 4,
   "id": "8381ab59",
   "metadata": {},
   "outputs": [],
   "source": [
    "# Compute densities\n",
    "pd1 <- density(population1, n = n_buckets)\n",
    "pd1 <- pd1$y\n",
    "\n",
    "pd2 <- density(population2, n = n_buckets)\n",
    "pd2 <- pd2$y"
   ]
  },
  {
   "cell_type": "code",
   "execution_count": 5,
   "id": "9fc41d31",
   "metadata": {},
   "outputs": [
    {
     "name": "stderr",
     "output_type": "stream",
     "text": [
      "Metric: 'kullback-leibler' using unit: 'log2'; comparing: 2 vectors.\n",
      "\n"
     ]
    }
   ],
   "source": [
    "# Compute actual KL Divergence\n",
    "actual_kl <- KL(rbind(pd1, pd2), unit = \"log2\")"
   ]
  },
  {
   "cell_type": "code",
   "execution_count": 6,
   "id": "e81775e4",
   "metadata": {},
   "outputs": [],
   "source": [
    "# Define sampling mechanism - no. of sampling trials and sample size for each trial\n",
    "trials = 100\n",
    "sample_size = 1000"
   ]
  },
  {
   "cell_type": "code",
   "execution_count": 7,
   "id": "descending-backup",
   "metadata": {},
   "outputs": [],
   "source": [
    "# Generate sample statistics\n",
    "sampleMeans1 <- numeric(trials)\n",
    "sampleMeans2 <- numeric(trials)\n",
    "\n",
    "for (i in c(1:trials)) {\n",
    "  sample1 <- sample(population1, size = sample_size, replace = TRUE)  \n",
    "  sampleMeans1[i] <- mean(sample1)\n",
    "    \n",
    "  sample2 <- sample(population2, size = sample_size, replace = TRUE)\n",
    "  sampleMeans2[i] <- mean(sample2)\n",
    "}\n",
    "\n",
    "mean1 <- mean(sampleMeans1)\n",
    "mean2 <- mean(sampleMeans2)\n",
    "\n",
    "sd1 <- sd(sampleMeans1)*sqrt(sample_size)\n",
    "sd2 <- sd(sampleMeans2)*sqrt(sample_size)"
   ]
  },
  {
   "cell_type": "code",
   "execution_count": 8,
   "id": "substantial-encoding",
   "metadata": {},
   "outputs": [
    {
     "name": "stderr",
     "output_type": "stream",
     "text": [
      "Metric: 'kullback-leibler' using unit: 'log2'; comparing: 2 vectors.\n",
      "\n"
     ]
    }
   ],
   "source": [
    "# Estimate the KL Divergence assuming the original distributions to be normal\n",
    "pd1 <- density(rnorm(pop_size, mean = mean1, sd = sd1), n = n_buckets)\n",
    "pd1 <- pd1$y\n",
    "\n",
    "pd2 <- density(rnorm(pop_size, mean = mean2, sd = sd2), n = n_buckets)\n",
    "pd2 <- pd2$y\n",
    "\n",
    "estimated_kl <- KL(rbind(pd1, pd2), unit = \"log2\")"
   ]
  },
  {
   "cell_type": "code",
   "execution_count": 9,
   "id": "imperial-sample",
   "metadata": {},
   "outputs": [
    {
     "data": {
      "text/html": [
       "<table class=\"dataframe\">\n",
       "<caption>A matrix: 2 × 2 of type chr</caption>\n",
       "<thead>\n",
       "\t<tr><th></th><th scope=col>kullback-leibler</th><th scope=col>kullback-leibler</th></tr>\n",
       "</thead>\n",
       "<tbody>\n",
       "\t<tr><th scope=row> </th><td>Actual          </td><td>Estimated        </td></tr>\n",
       "\t<tr><th scope=row>KL Divergence</th><td>1.95006601063145</td><td>0.140545319998268</td></tr>\n",
       "</tbody>\n",
       "</table>\n"
      ],
      "text/latex": [
       "A matrix: 2 × 2 of type chr\n",
       "\\begin{tabular}{r|ll}\n",
       "  & kullback-leibler & kullback-leibler\\\\\n",
       "\\hline\n",
       "\t  & Actual           & Estimated        \\\\\n",
       "\tKL Divergence & 1.95006601063145 & 0.140545319998268\\\\\n",
       "\\end{tabular}\n"
      ],
      "text/markdown": [
       "\n",
       "A matrix: 2 × 2 of type chr\n",
       "\n",
       "| <!--/--> | kullback-leibler | kullback-leibler |\n",
       "|---|---|---|\n",
       "| <!----> | Actual           | Estimated         |\n",
       "| KL Divergence | 1.95006601063145 | 0.140545319998268 |\n",
       "\n"
      ],
      "text/plain": [
       "              kullback-leibler kullback-leibler \n",
       "              Actual           Estimated        \n",
       "KL Divergence 1.95006601063145 0.140545319998268"
      ]
     },
     "metadata": {},
     "output_type": "display_data"
    }
   ],
   "source": [
    "# Compare the estimated value with the actual value\n",
    "result <- rbind(\" \" = c(\"Actual\", \"Estimated\"),\n",
    "                \"KL Divergence\" = c(actual_kl, estimated_kl))\n",
    "result"
   ]
  },
  {
   "cell_type": "markdown",
   "id": "ffba250d",
   "metadata": {},
   "source": [
    "`KL Divergence` can be used as a measure of dissimilarity or deviation from a desired distribution. However, the naive sampling strategy to estimate it is far from satisfactory."
   ]
  }
 ],
 "metadata": {
  "kernelspec": {
   "display_name": "R",
   "language": "R",
   "name": "ir"
  },
  "language_info": {
   "codemirror_mode": "r",
   "file_extension": ".r",
   "mimetype": "text/x-r-source",
   "name": "R",
   "pygments_lexer": "r",
   "version": "4.1.2"
  }
 },
 "nbformat": 4,
 "nbformat_minor": 5
}
