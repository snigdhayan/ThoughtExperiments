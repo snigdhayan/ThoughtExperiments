{
 "cells": [
  {
   "cell_type": "markdown",
   "id": "f8758294",
   "metadata": {},
   "source": [
    "# Quantifying Business Decisions\n",
    "## Author: Snigdhayan Mahanta\n",
    "\n",
    "Many business decisions are based on an estimate for the mean value of a business parameter, e.g., average number of monthly labor hours available during a calendar year. Some decision-makers take into consideration additionally the volatility, which can be measured in terms of standard deviation. Nevertheless, mean and standard deviation can only explain a small part of the entire story. Therefore, it can be helpful to analyze further and try to estimate the \"expected deviation\" between the actual time series dataset and the predicted time series dataset.\n",
    "\n",
    "`Minkowski distance` is a generalizaton of the `Euclidean distance` between two time series datasets. I created a function to generate a couple of random time series datasets that have the same mean and standard deviation. The first time series dataset can be regarded as the predicted dataset and the second one as the actual dataset. I used `Monte Carlo Simulation` using the `MonteCarlo` package of `R` to compute the average `Minkowski distance` between the two time series datasets. If the `Minkowski distance` can be correlated with the financial impact of a business decision, then future business decisions can take into account this inherent uncertainty of the financial impact of the decision. "
   ]
  },
  {
   "cell_type": "code",
   "execution_count": 1,
   "id": "44a53620",
   "metadata": {},
   "outputs": [],
   "source": [
    "library(MonteCarlo, quietly = TRUE)"
   ]
  },
  {
   "cell_type": "code",
   "execution_count": 2,
   "id": "4a66d951",
   "metadata": {},
   "outputs": [],
   "source": [
    "# Define a function to create a curated time series dataset\n",
    "create_ts <- function(size, mean, stdev) { \n",
    "    data <- rnorm(size, mean = mean, sd = stdev)\n",
    "    ts <- ts(data, start = c(2012, 1), frequency = 12)\n",
    "    return(ts)\n",
    "}"
   ]
  },
  {
   "cell_type": "code",
   "execution_count": 3,
   "id": "b6c6e973",
   "metadata": {},
   "outputs": [],
   "source": [
    "# Define a function that calculates the Minkowski distance between two random time series datasets\n",
    "compute_Minkowski <- function(size, mean, stdev, root) {\n",
    "    ts_forecast <- create_ts(size, mean, stdev)\n",
    "    ts_actual <- create_ts(size, mean, stdev)\n",
    "    \n",
    "    Minkowski <- (sum((ts_actual - ts_forecast)^root))^(1/root) # if root = 2, then Minkowski = Euclidean\n",
    "    return(list(\"Minkowski_dist\" = Minkowski))\n",
    "}"
   ]
  },
  {
   "cell_type": "code",
   "execution_count": 4,
   "id": "125a0975",
   "metadata": {},
   "outputs": [],
   "source": [
    "# Define parameter grid\n",
    "size <- 100 # no. of data points\n",
    "mean <- 0\n",
    "stdev <- 10\n",
    "root <- c(2, 10, 100) # if root = 2, then Minkowski = Euclidean"
   ]
  },
  {
   "cell_type": "code",
   "execution_count": 5,
   "id": "4291de83",
   "metadata": {},
   "outputs": [],
   "source": [
    "# Collect parameter grids in list\n",
    "param_list=list(\"size\" = size, \"mean\" = mean, \"stdev\" = stdev, \"root\" = root)"
   ]
  },
  {
   "cell_type": "code",
   "execution_count": 6,
   "id": "f0e6f6c2",
   "metadata": {},
   "outputs": [
    {
     "name": "stdout",
     "output_type": "stream",
     "text": [
      "Grid of  3  parameter constellations to be evaluated. \n",
      " \n",
      "Progress: \n",
      " \n",
      "  |======================================================================| 100%\n",
      " \n",
      "Simulation of function: \n",
      "\n",
      "function(size, mean, stdev, root) {\n",
      "    ts_forecast <- create_ts(size, mean, stdev)\n",
      "    ts_actual <- create_ts(size, mean, stdev)\n",
      "    \n",
      "    Minkowski <- (sum((ts_actual - ts_forecast)^root))^(1/root) # if root = 2, then Minkowski = Euclidean\n",
      "    return(list(\"Minkowski_dist\" = Minkowski))\n",
      "}\n",
      "<bytecode: 0x000000001f2ca628>\n",
      "\n",
      "Required time: 0.35 secs for nrep = 100  repetitions on 1 CPUs \n",
      "\n",
      "Parameter grid: \n",
      "\n",
      "  size : 100 \n",
      "  mean : 0 \n",
      " stdev : 10 \n",
      "  root : 2 10 100 \n",
      "\n",
      " \n",
      "1 output arrays of dimensions: 1 1 1 3 100"
     ]
    }
   ],
   "source": [
    "# Run simulation\n",
    "repetitions <- 100\n",
    "MC_result<-MonteCarlo(func = compute_Minkowski, nrep = repetitions, param_list = param_list)\n",
    "summary(MC_result)"
   ]
  },
  {
   "cell_type": "code",
   "execution_count": 7,
   "id": "4b25d23f",
   "metadata": {},
   "outputs": [],
   "source": [
    "# Aggregate results\n",
    "return1 <- numeric(repetitions) \n",
    "return2 <- numeric(repetitions) \n",
    "return3 <- numeric(repetitions) \n",
    "\n",
    "for (i in c(1:repetitions)) {\n",
    "    return1[i] <- MC_result$results$Minkowski_dist[3*(i-1)+1]\n",
    "    return2[i] <- MC_result$results$Minkowski_dist[3*(i-1)+2]\n",
    "    return3[i] <- MC_result$results$Minkowski_dist[3*(i-1)+3]\n",
    "}"
   ]
  },
  {
   "cell_type": "code",
   "execution_count": 8,
   "id": "f20dddc9",
   "metadata": {},
   "outputs": [
    {
     "name": "stdout",
     "output_type": "stream",
     "text": [
      "[1] \"The mean Minkowski distance (p=2) is 140.63\"\n"
     ]
    }
   ],
   "source": [
    "print(paste0(\"The mean Minkowski distance (p=2) is \", round(mean(return1), 2)))"
   ]
  },
  {
   "cell_type": "code",
   "execution_count": 9,
   "id": "2b6696f8",
   "metadata": {},
   "outputs": [
    {
     "name": "stdout",
     "output_type": "stream",
     "text": [
      "[1] \"The mean Minkowski distance (p=10) is 41.35\"\n"
     ]
    }
   ],
   "source": [
    "print(paste0(\"The mean Minkowski distance (p=10) is \", round(mean(return2), 2)))"
   ]
  },
  {
   "cell_type": "code",
   "execution_count": 10,
   "id": "133216bd",
   "metadata": {},
   "outputs": [
    {
     "name": "stdout",
     "output_type": "stream",
     "text": [
      "[1] \"The mean Minkowski distance (p=100) is 38.7\"\n"
     ]
    }
   ],
   "source": [
    "print(paste0(\"The mean Minkowski distance (p=100) is \", round(mean(return3), 2)))"
   ]
  },
  {
   "cell_type": "code",
   "execution_count": 11,
   "id": "cb3dbd6f",
   "metadata": {},
   "outputs": [
    {
     "name": "stdout",
     "output_type": "stream",
     "text": [
      "[1] \"The standard deviation of Minkowski distance (p=2) measurements is 9.97\"\n"
     ]
    }
   ],
   "source": [
    "print(paste0(\"The standard deviation of Minkowski distance (p=2) measurements is \", round(sd(return1), 2)))"
   ]
  },
  {
   "cell_type": "code",
   "execution_count": 12,
   "id": "0c87f94f",
   "metadata": {},
   "outputs": [
    {
     "name": "stdout",
     "output_type": "stream",
     "text": [
      "[1] \"The standard deviation of Minkowski distance (p=10) measurements is 5.39\"\n"
     ]
    }
   ],
   "source": [
    "print(paste0(\"The standard deviation of Minkowski distance (p=10) measurements is \", round(sd(return2), 2)))"
   ]
  },
  {
   "cell_type": "code",
   "execution_count": 13,
   "id": "e3e36f54",
   "metadata": {},
   "outputs": [
    {
     "name": "stdout",
     "output_type": "stream",
     "text": [
      "[1] \"The standard deviation of Minkowski distance (p=100) measurements is 5.37\"\n"
     ]
    }
   ],
   "source": [
    "print(paste0(\"The standard deviation of Minkowski distance (p=100) measurements is \", round(sd(return3), 2)))"
   ]
  }
 ],
 "metadata": {
  "kernelspec": {
   "display_name": "R",
   "language": "R",
   "name": "ir"
  },
  "language_info": {
   "codemirror_mode": "r",
   "file_extension": ".r",
   "mimetype": "text/x-r-source",
   "name": "R",
   "pygments_lexer": "r",
   "version": "4.1.0"
  }
 },
 "nbformat": 4,
 "nbformat_minor": 5
}
