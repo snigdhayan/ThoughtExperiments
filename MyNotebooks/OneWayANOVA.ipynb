{
 "cells": [
  {
   "cell_type": "markdown",
   "id": "aaac3829",
   "metadata": {},
   "source": [
    "# One-way Analysis of Variance (ANOVA)\n",
    "## Author: Snigdhayan Mahanta\n",
    "\n",
    "Consider 2 or more groups of sample data. The ANOVA tests the null hypothesis that the samples in all groups are drawn from populations with identical means. It can be used to ascertain whether the averages of the incomes of the populations in 3 different cities are identical. I have provided a simple illustration of this test using dummy data below."
   ]
  },
  {
   "cell_type": "code",
   "execution_count": 1,
   "id": "ca542845",
   "metadata": {},
   "outputs": [],
   "source": [
    "# Data parameters of 3 normally distributed datasets - sample size, mean and standard deviation\n",
    "size <- 1000\n",
    "\n",
    "mean1 <- 60000\n",
    "mean2 <- 75000 \n",
    "mean3 <- 90000\n",
    "\n",
    "sd1 <- 20000\n",
    "sd2 <- 20000\n",
    "sd3 <- 20000"
   ]
  },
  {
   "cell_type": "code",
   "execution_count": 2,
   "id": "b8138a70",
   "metadata": {},
   "outputs": [],
   "source": [
    "# Create sample dataframe with specified parameters\n",
    "data1 <- rnorm(size, mean1, sd1)\n",
    "data2 <- rnorm(size, mean2, sd2)\n",
    "data3 <- rnorm(size, mean3, sd3)\n",
    "\n",
    "df <- data.frame(\"Group_1\" = data1, \"Group_2\" = data2, \"Group_3\" = data3)"
   ]
  },
  {
   "cell_type": "code",
   "execution_count": 3,
   "id": "92186dc9",
   "metadata": {},
   "outputs": [
    {
     "data": {
      "image/png": "[encoded data removed]",
      "text/plain": [
       "Plot with title \"Histogram\""
      ]
     },
     "metadata": {
      "image/png": {
       "height": 420,
       "width": 420
      },
      "text/plain": {
       "height": 420,
       "width": 420
      }
     },
     "output_type": "display_data"
    }
   ],
   "source": [
    "# Visualize the data\n",
    "lower <- min(df)\n",
    "upper <- max(df)\n",
    "\n",
    "Histogram1 <- hist(df$Group_1, plot = FALSE)\n",
    "Histogram2 <- hist(df$Group_2, plot = FALSE)\n",
    "Histogram3 <- hist(df$Group_3, plot = FALSE)\n",
    "\n",
    "plot(Histogram1, col = rgb(0, 0, 1, 1/10), xlab = \"Values\", main = \"Histogram\", xlim = c(lower, upper)) \n",
    "plot(Histogram2, col = rgb(0, 1, 0, 1/10), xlab = \"Values\", main = \"Histogram\", xlim = c(lower, upper), add = TRUE) \n",
    "plot(Histogram3, col = rgb(1, 0, 0, 1/10), xlab = \"Values\", main = \"Histogram\", xlim = c(lower, upper), add = TRUE) "
   ]
  },
  {
   "cell_type": "code",
   "execution_count": 4,
   "id": "703fa18a",
   "metadata": {},
   "outputs": [],
   "source": [
    "# Prepare data for analysis of variance (ANOVA)\n",
    "df_stack <- data.frame(stack(df[1:ncol(df)]))\n",
    "names(df_stack)[names(df_stack) == \"values\"] <- \"Value\"\n",
    "names(df_stack)[names(df_stack) == \"ind\"] <- \"Group\""
   ]
  },
  {
   "cell_type": "code",
   "execution_count": 5,
   "id": "47c010df",
   "metadata": {},
   "outputs": [
    {
     "data": {
      "text/plain": [
       "\n",
       "\tFligner-Killeen test of homogeneity of variances\n",
       "\n",
       "data:  Value by Group\n",
       "Fligner-Killeen:med chi-squared = 0.94273, df = 2, p-value = 0.6242\n"
      ]
     },
     "metadata": {},
     "output_type": "display_data"
    }
   ],
   "source": [
    "# Check if the variance within individual groups are comparable\n",
    "flignerTest <- fligner.test(Value ~ Group, data = df_stack)\n",
    "flignerTest # if the 'p-value' exceeds significance level, then the variances are comparable"
   ]
  },
  {
   "cell_type": "code",
   "execution_count": 6,
   "id": "89d1b883",
   "metadata": {},
   "outputs": [
    {
     "data": {
      "text/plain": [
       "              Df    Sum Sq   Mean Sq F value Pr(>F)    \n",
       "Group          2 4.306e+11 2.153e+11     542 <2e-16 ***\n",
       "Residuals   2997 1.191e+12 3.973e+08                   \n",
       "---\n",
       "Signif. codes:  0 '***' 0.001 '**' 0.01 '*' 0.05 '.' 0.1 ' ' 1"
      ]
     },
     "metadata": {},
     "output_type": "display_data"
    }
   ],
   "source": [
    "# Compute the analysis of variance (ANOVA)\n",
    "res.aov <- aov(Value ~ Group, data = df_stack)\n",
    "# Summary of the analysis\n",
    "summaryAnova <- summary(res.aov)\n",
    "summaryAnova # if 'Pr(>F)' falls below the significance level, then reject the null hypothesis"
   ]
  },
  {
   "cell_type": "code",
   "execution_count": 7,
   "id": "37db7431",
   "metadata": {},
   "outputs": [
    {
     "data": {
      "text/plain": [
       "  Tukey multiple comparisons of means\n",
       "    95% family-wise confidence level\n",
       "\n",
       "Fit: aov(formula = Value ~ Group, data = df_stack)\n",
       "\n",
       "$Group\n",
       "                    diff      lwr      upr p adj\n",
       "Group_2-Group_1 15239.60 13149.50 17329.69     0\n",
       "Group_3-Group_1 29338.91 27248.81 31429.01     0\n",
       "Group_3-Group_2 14099.31 12009.22 16189.41     0\n"
      ]
     },
     "metadata": {},
     "output_type": "display_data"
    }
   ],
   "source": [
    "# Tukey test to differentiate the means if null hypothesis is rejected\n",
    "TukeyTest <- TukeyHSD(res.aov)\n",
    "TukeyTest # ascertain the significance of the differences between the observed means"
   ]
  },
  {
   "cell_type": "markdown",
   "id": "ab35c8b6",
   "metadata": {},
   "source": [
    "One can now repeat the test by changing the values of the data parameters, i.e., sample size, mean and standard deviation."
   ]
  }
 ],
 "metadata": {
  "kernelspec": {
   "display_name": "R",
   "language": "R",
   "name": "ir"
  },
  "language_info": {
   "codemirror_mode": "r",
   "file_extension": ".r",
   "mimetype": "text/x-r-source",
   "name": "R",
   "pygments_lexer": "r",
   "version": "4.0.3"
  }
 },
 "nbformat": 4,
 "nbformat_minor": 5
}
