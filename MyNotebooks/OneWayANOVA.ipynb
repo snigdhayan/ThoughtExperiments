{
 "cells": [
  {
   "cell_type": "markdown",
   "id": "156724ca",
   "metadata": {},
   "source": [
    "# One-way Analysis of Variance (ANOVA)\n",
    "## Author: Snigdhayan Mahanta\n",
    "\n",
    "Consider 2 or more groups of sample data. The ANOVA tests the null hypothesis that the samples in all groups are drawn from populations with identical means. I have provided a simple illustration of the one-way ANOVA test using dummy data below."
   ]
  },
  {
   "cell_type": "code",
   "execution_count": 1,
   "id": "ca542845",
   "metadata": {},
   "outputs": [],
   "source": [
    "# Data parameters of 3 normally distributed datasets - sample size, mean and standard deviation\n",
    "size <- 10000\n",
    "\n",
    "mean1 <- 80\n",
    "mean2 <- 100 \n",
    "mean3 <- 120\n",
    "\n",
    "sd1 <- 10\n",
    "sd2 <- 10\n",
    "sd3 <- 10"
   ]
  },
  {
   "cell_type": "code",
   "execution_count": 2,
   "id": "b8138a70",
   "metadata": {},
   "outputs": [],
   "source": [
    "# Create sample dataframe with specified parameters\n",
    "data1 <- rnorm(size, mean1, sd1)\n",
    "data2 <- rnorm(size, mean2, sd2)\n",
    "data3 <- rnorm(size, mean3, sd3)\n",
    "\n",
    "df <- data.frame(\"Type_1\" = data1, \"Type_2\" = data2, \"Type_3\" = data3)"
   ]
  },
  {
   "cell_type": "code",
   "execution_count": 3,
   "id": "92186dc9",
   "metadata": {},
   "outputs": [
    {
     "data": {
      "image/png": "[encoded data removed]",
      "text/plain": [
       "Plot with title \"Histogram\""
      ]
     },
     "metadata": {
      "image/png": {
       "height": 420,
       "width": 420
      },
      "text/plain": {
       "height": 420,
       "width": 420
      }
     },
     "output_type": "display_data"
    }
   ],
   "source": [
    "# Visualize the data\n",
    "lower <- min(df)\n",
    "upper <- max(df)\n",
    "\n",
    "Histogram1 <- hist(df$Type_1, plot = FALSE)\n",
    "Histogram2 <- hist(df$Type_2, plot = FALSE)\n",
    "Histogram3 <- hist(df$Type_3, plot = FALSE)\n",
    "\n",
    "plot(Histogram1, col = rgb(0,0,1,1/10), xlab = \"Values\", main = \"Histogram\", xlim = c(lower,upper)) \n",
    "plot(Histogram2, col = rgb(0,1,0,1/10), xlab = \"Values\", main = \"Histogram\", xlim = c(lower,upper), add = TRUE) \n",
    "plot(Histogram3, col = rgb(1,0,0,1/10), xlab = \"Values\", main = \"Histogram\", xlim = c(lower,upper), add = TRUE) "
   ]
  },
  {
   "cell_type": "code",
   "execution_count": 4,
   "id": "703fa18a",
   "metadata": {},
   "outputs": [],
   "source": [
    "# Prepare data for analysis of variance (ANOVA)\n",
    "df_stack <- data.frame(stack(df[1:3]))\n",
    "names(df_stack)[names(df_stack) == \"values\"] <- \"Value\"\n",
    "names(df_stack)[names(df_stack) == \"ind\"] <- \"Category\""
   ]
  },
  {
   "cell_type": "code",
   "execution_count": 5,
   "id": "47c010df",
   "metadata": {},
   "outputs": [
    {
     "data": {
      "text/plain": [
       "\n",
       "\tFligner-Killeen test of homogeneity of variances\n",
       "\n",
       "data:  Value by Category\n",
       "Fligner-Killeen:med chi-squared = 3.2978, df = 2, p-value = 0.1923\n"
      ]
     },
     "metadata": {},
     "output_type": "display_data"
    }
   ],
   "source": [
    "# Check if the variance within individual groups are comparable\n",
    "flignerTest <- fligner.test(Value ~ Category, data = df_stack)\n",
    "flignerTest # if the 'p-value' exceeds significance level, then the variances are comparable"
   ]
  },
  {
   "cell_type": "code",
   "execution_count": 6,
   "id": "89d1b883",
   "metadata": {},
   "outputs": [
    {
     "data": {
      "text/plain": [
       "               Df  Sum Sq Mean Sq F value Pr(>F)    \n",
       "Category        2 7986279 3993140   39904 <2e-16 ***\n",
       "Residuals   29997 3001735     100                   \n",
       "---\n",
       "Signif. codes:  0 '***' 0.001 '**' 0.01 '*' 0.05 '.' 0.1 ' ' 1"
      ]
     },
     "metadata": {},
     "output_type": "display_data"
    }
   ],
   "source": [
    "# Compute the analysis of variance (ANOVA)\n",
    "res.aov <- aov(Value ~ Category, data = df_stack)\n",
    "# Summary of the analysis\n",
    "summaryAnova <- summary(res.aov)\n",
    "summaryAnova # if 'Pr(>F)' falls below the significance level, then reject the null hypothesis"
   ]
  },
  {
   "cell_type": "code",
   "execution_count": 7,
   "id": "37db7431",
   "metadata": {},
   "outputs": [
    {
     "data": {
      "text/plain": [
       "  Tukey multiple comparisons of means\n",
       "    95% family-wise confidence level\n",
       "\n",
       "Fit: aov(formula = Value ~ Category, data = df_stack)\n",
       "\n",
       "$Category\n",
       "                  diff      lwr      upr p adj\n",
       "Type_2-Type_1 19.83029 19.49872 20.16185     0\n",
       "Type_3-Type_1 39.96530 39.63373 40.29686     0\n",
       "Type_3-Type_2 20.13501 19.80345 20.46657     0\n"
      ]
     },
     "metadata": {},
     "output_type": "display_data"
    }
   ],
   "source": [
    "# Tukey test to differentiate the means if null hypothesis is rejected\n",
    "TukeyTest <- TukeyHSD(res.aov)\n",
    "TukeyTest # ascertain the significance of the differences between the observed means"
   ]
  },
  {
   "cell_type": "markdown",
   "id": "909b0f95",
   "metadata": {},
   "source": [
    "One can repeat the tests by changing the values of the means and standard deviations."
   ]
  }
 ],
 "metadata": {
  "kernelspec": {
   "display_name": "R",
   "language": "R",
   "name": "ir"
  },
  "language_info": {
   "codemirror_mode": "r",
   "file_extension": ".r",
   "mimetype": "text/x-r-source",
   "name": "R",
   "pygments_lexer": "r",
   "version": "4.0.3"
  }
 },
 "nbformat": 4,
 "nbformat_minor": 5
}
