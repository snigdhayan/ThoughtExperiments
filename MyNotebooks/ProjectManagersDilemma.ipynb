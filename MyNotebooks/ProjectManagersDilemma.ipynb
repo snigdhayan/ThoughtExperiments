{
 "cells": [
  {
   "cell_type": "markdown",
   "id": "ed60ae01",
   "metadata": {},
   "source": [
    "# Project Manager's Dilemma\n",
    "## Author: Snigdhayan Mahanta\n",
    "\n",
    "From a quantitative viewpoint one can say that a project manager is constantly trying to optimize the project scope based on the constraints that are either defined by the system requirements or by resource related constraints (e.g., budget, personnel, etc.). A project manager has to constantly adjust project parameters and manage expectations of stakeholders to ensure the success of a project. Thanks to agile practises the challenges faced by a project manager have changed and let us consider a few of them.\n",
    "\n",
    "A project can have too few requirements (not well-defined) or too many requirements (overconstrained). In either case the success of the project is in jeopardy. From a mathematical viewpoint an optimization problem can have too few constraints (no finite solution exists) or too many constraints (no feasible solution exists).\n",
    "\n",
    "I demonstrated this fact in a small experiment below. Let us consider optimization problems with 50 variables. I randomly created 100 optimization problmes with 50 variables and a varying number of constraints (between 5 and 100 with an increment of 5). Then I checked what percentage of them admit an optimal solution. Finally, I plotted the percentage of cases, where an optimal solution exists, as a function of the number of constraints. The expected pattern is clearly noticeable."
   ]
  },
  {
   "cell_type": "code",
   "execution_count": 1,
   "id": "4045aca4",
   "metadata": {},
   "outputs": [],
   "source": [
    "# Load library 'lpsolve'\n",
    "library(lpSolve)"
   ]
  },
  {
   "cell_type": "code",
   "execution_count": 2,
   "id": "186237e5",
   "metadata": {},
   "outputs": [],
   "source": [
    "# Define the experiment as a function\n",
    "experiment <- function(trials, n_variables, n_constraints) {\n",
    "  results <- integer(trials)\n",
    "  for (i in c(1:trials)) {\n",
    "    # Create a random optimization problem for the given number of variables and constraints\n",
    "    f.obj <- sample(seq.int(-10,10), size = n_variables, replace = TRUE)\n",
    "    vector <- sample(seq.int(-10,10), size = n_variables*n_constraints, replace = TRUE)\n",
    "    f.con <- matrix(vector, ncol = n_variables, byrow = TRUE)\n",
    "    f.dir <- sample(c(\"==\", \"<=\", \">=\"), size = n_constraints, replace = TRUE)\n",
    "    f.rhs <- sample(seq.int(-10,10), size = n_constraints, replace = TRUE)\n",
    "    \n",
    "    # Run solver without integrality requirement\n",
    "    res_int <- lp(\"max\", f.obj, f.con, f.dir, f.rhs)\n",
    "    soln <- res_int$solution\n",
    "    if (res_int$status==0) {results[i] <- res_int$objval}\n",
    "    else {results[i] <- NA}\n",
    "  }\n",
    "  \n",
    "  # Compute and return the percentage of cases, where an optimum exists\n",
    "  valid_results <- results[!is.na(results)]\n",
    "  return(length(valid_results)/trials*100)\n",
    "}"
   ]
  },
  {
   "cell_type": "code",
   "execution_count": 3,
   "id": "23a251ae",
   "metadata": {},
   "outputs": [],
   "source": [
    "# Define the experiment parameters\n",
    "trials <- 100 # no. of trials\n",
    "n_variables <- 50 # no. of variables\n",
    "n_constraints_list <- seq.int(from = 5, to = 100, by = 5) # no. of constraints varying between 5 and 100"
   ]
  },
  {
   "cell_type": "code",
   "execution_count": 4,
   "id": "0386a08d",
   "metadata": {},
   "outputs": [],
   "source": [
    "# Conduct the experiment and plot the results\n",
    "percentages <- integer(length(n_constraints_list))\n",
    "for (n in c(1:length(n_constraints_list))) {\n",
    "  percentages[n] <- experiment(trials, n_variables, n_constraints_list[n])\n",
    "}"
   ]
  },
  {
   "cell_type": "code",
   "execution_count": 5,
   "id": "5e143159",
   "metadata": {},
   "outputs": [
    {
     "data": {
      "image/png": "[encoded data removed]",
      "text/plain": [
       "plot without title"
      ]
     },
     "metadata": {
      "image/png": {
       "height": 420,
       "width": 420
      }
     },
     "output_type": "display_data"
    }
   ],
   "source": [
    "# Plot the results\n",
    "plot(x = n_constraints_list, \n",
    "     y = percentages, \n",
    "     type = \"b\", \n",
    "     xlab = \"Number of constraints\", \n",
    "     ylab = \"Percentage (optimal solution exists)\")"
   ]
  },
  {
   "cell_type": "markdown",
   "id": "7fa67129",
   "metadata": {},
   "source": [
    "Initially, there are too few constraints for the system to admit a finite optimal solution. In the middle there are a few cases, where a finite optimal solution exists. Note that the percentage is still small and in most cases the system still does not admit an optimal solution. Finally, beyond a certain number of constraints the system gets overconstrained and admits no feasible solution. "
   ]
  }
 ],
 "metadata": {
  "kernelspec": {
   "display_name": "R",
   "language": "R",
   "name": "ir"
  },
  "language_info": {
   "codemirror_mode": "r",
   "file_extension": ".r",
   "mimetype": "text/x-r-source",
   "name": "R",
   "pygments_lexer": "r",
   "version": "3.6.3"
  }
 },
 "nbformat": 4,
 "nbformat_minor": 5
}
