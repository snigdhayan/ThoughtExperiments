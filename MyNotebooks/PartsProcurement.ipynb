{
 "cells": [
  {
   "cell_type": "markdown",
   "id": "06fcdc5f",
   "metadata": {},
   "source": [
    "# Parts Procurement\n",
    "## Author: Snigdhayan Mahanta\n",
    "\n",
    "Suppose a company produces a product that needs 3 distinct parts of types P1, P2 and P3 from suppliers. Each product needs \n",
    "- 2 parts of type P1\n",
    "- 3 parts of type P2 \n",
    "- 5 parts of type P3\n",
    "\n",
    "Suppose that the costs of the parts are as follows:\n",
    "- each part of type P1 costs 50 EUR\n",
    "- each part of type P2 costs 10 EUR\n",
    "- each part of type P3 costs 5 EUR\n",
    "\n",
    "The company has an overall budget of 100000 EUR and it wants to avoid wastage of purchased parts. If there are only 2000 parts of type P1 available in the market, how many parts of each type should the company purchase?"
   ]
  },
  {
   "cell_type": "code",
   "execution_count": 1,
   "id": "758903fe",
   "metadata": {},
   "outputs": [],
   "source": [
    "# Load library 'lpSolve'\n",
    "library(lpSolve)"
   ]
  },
  {
   "cell_type": "code",
   "execution_count": 2,
   "id": "8e11764e",
   "metadata": {},
   "outputs": [],
   "source": [
    "# Set up problem - let x1 be the number of parts of type P1 to be purchased, x2 that of type P2 and x3 that of type P3\n",
    "#   maximize      x1 + x2 + x3  - this is the tolal number of parts to be purchased\n",
    "#   subject to    3 x1 - 2 x2 + 0 x3 = 0 - for every 2 parts of type P1, 3 parts of type P2 are needed\n",
    "#                 5 x1 + 0 x2 - 2 x3 = 0 - for every 2 parts of type P1, 5 parts of type P3 are needed\n",
    "#                 50 x1 + 10 x2 + 5 x3 <= 100000 - the total available budget is 100000 EUR\n",
    "#                 x1 <= 2000 - there are only 2000 parts of type P1 available in the market\n",
    "\n",
    "f.obj <- c(1, 1, 1)\n",
    "f.con <- matrix(c(3, -2, 0, 5, 0, -2, 50, 10, 5, 1, 0, 0), nrow = 4, byrow = TRUE)\n",
    "f.dir <- c(\"=\", \"=\", \"<=\", \"<=\")\n",
    "f.rhs <- c(0, 0, 100000, 2000)"
   ]
  },
  {
   "cell_type": "code",
   "execution_count": 3,
   "id": "c6555a5f",
   "metadata": {},
   "outputs": [
    {
     "name": "stdout",
     "output_type": "stream",
     "text": [
      "Success: the objective function is 6451.613 \n"
     ]
    },
    {
     "data": {
      "text/html": [
       "<style>\n",
       ".list-inline {list-style: none; margin:0; padding: 0}\n",
       ".list-inline>li {display: inline-block}\n",
       ".list-inline>li:not(:last-child)::after {content: \"\\00b7\"; padding: 0 .5ex}\n",
       "</style>\n",
       "<ol class=list-inline><li>1290.32258064516</li><li>1935.48387096774</li><li>3225.8064516129</li></ol>\n"
      ],
      "text/latex": [
       "\\begin{enumerate*}\n",
       "\\item 1290.32258064516\n",
       "\\item 1935.48387096774\n",
       "\\item 3225.8064516129\n",
       "\\end{enumerate*}\n"
      ],
      "text/markdown": [
       "1. 1290.32258064516\n",
       "2. 1935.48387096774\n",
       "3. 3225.8064516129\n",
       "\n",
       "\n"
      ],
      "text/plain": [
       "[1] 1290.323 1935.484 3225.806"
      ]
     },
     "metadata": {},
     "output_type": "display_data"
    }
   ],
   "source": [
    "# Run solver to find a solution (possibly non-integral)\n",
    "res <- lp(\"max\", f.obj, f.con, f.dir, f.rhs)\n",
    "print(res)\n",
    "\n",
    "# Non-integral solution\n",
    "res$solution"
   ]
  },
  {
   "cell_type": "code",
   "execution_count": 4,
   "id": "b95e968e",
   "metadata": {},
   "outputs": [
    {
     "name": "stdout",
     "output_type": "stream",
     "text": [
      "Success: the objective function is 6450 \n"
     ]
    }
   ],
   "source": [
    "# Run solver requiring that all three variables be integers\n",
    "res_int <- lp(\"max\", f.obj, f.con, f.dir, f.rhs, int.vec = 1:3)\n",
    "procurement_cost <- 50*res_int$solution[1] + 10*res_int$solution[2] + 5*res_int$solution[3]\n",
    "n_products <- res_int$solution[1]/2\n",
    "print(res_int)"
   ]
  },
  {
   "cell_type": "code",
   "execution_count": 5,
   "id": "1f6a9767",
   "metadata": {},
   "outputs": [
    {
     "name": "stdout",
     "output_type": "stream",
     "text": [
      "[1] \"The company should purchase as follows: x1 = 1290, x2 = 1935, x3 = 3225\"\n"
     ]
    }
   ],
   "source": [
    "# The desired integral solution\n",
    "print(paste0(\"The company should purchase as follows: x1 = \", \n",
    "             res_int$solution[1], \n",
    "             \", x2 = \", \n",
    "             res_int$solution[2], \n",
    "             \", x3 = \", \n",
    "             res_int$solution[3]))"
   ]
  },
  {
   "cell_type": "code",
   "execution_count": 6,
   "id": "4e31a8e0",
   "metadata": {},
   "outputs": [
    {
     "name": "stdout",
     "output_type": "stream",
     "text": [
      "[1] \"The company can manufacture 645 products with a procurement cost of 99975 EUR.\"\n"
     ]
    }
   ],
   "source": [
    "print(paste(\"The company can manufacture\", n_products, \"products with a procurement cost of\", procurement_cost, \"EUR.\"))"
   ]
  },
  {
   "cell_type": "markdown",
   "id": "561ae056",
   "metadata": {},
   "source": [
    "In this particular case the constraint that there are only 2000 parts of type P1 available had no consequence because budget is the real limiting factor. However, keeping everything else constant, if this value is reduced to 1000, then it would be the limiting factor and not the budget."
   ]
  }
 ],
 "metadata": {
  "kernelspec": {
   "display_name": "R",
   "language": "R",
   "name": "ir"
  },
  "language_info": {
   "codemirror_mode": "r",
   "file_extension": ".r",
   "mimetype": "text/x-r-source",
   "name": "R",
   "pygments_lexer": "r",
   "version": "3.6.3"
  }
 },
 "nbformat": 4,
 "nbformat_minor": 5
}
