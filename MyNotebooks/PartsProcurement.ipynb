{
 "cells": [
  {
   "cell_type": "markdown",
   "id": "ba99a574",
   "metadata": {},
   "source": [
    "# Parts Procurement\n",
    "## Author: Snigdhayan Mahanta\n",
    "\n",
    "Suppose a company produces a product that needs 3 distinct parts of types P1, P2 and P3 from suppliers. Each product needs \n",
    "- 2 parts of type P1\n",
    "- 3 parts of type P2 \n",
    "- 5 parts of type P3\n",
    "\n",
    "Suppose that the costs of the parts are as follows:\n",
    "- each part of type P1 costs 50 EUR\n",
    "- each part of type P2 costs 10 EUR\n",
    "- each part of type P3 costs 5 EUR\n",
    "\n",
    "The company has an overall budget of 1000 EUR and it wants to avoid wastage of purchased parts. If there are only 30 parts of type P1 available in the market, how many parts should the company purchase altogether?"
   ]
  },
  {
   "cell_type": "code",
   "execution_count": 1,
   "id": "758903fe",
   "metadata": {},
   "outputs": [],
   "source": [
    "library(lpSolve)"
   ]
  },
  {
   "cell_type": "code",
   "execution_count": 2,
   "id": "8e11764e",
   "metadata": {},
   "outputs": [],
   "source": [
    "# Set up problem \n",
    "#   maximize      x1 + x2 + x3  - this is the tolal number of parts to be purchase\n",
    "#   subject to    3 x1 - 2 x2 + 0 x3 = 0 - for every 2 parts of type P1, 3 parts of type P2 are needed\n",
    "#                 5 x1 + 0 x2 - 2 x3 = 0 - for every 2 parts of type P1, 5 parts of type P3 are needed\n",
    "#                 50 x1 + 10 x2 + 5 x3 <= 1000 - the total available budget is 1000 EUR\n",
    "#                 x1 <= 30 - there are only 30 parts of type P1 available in the market\n",
    "\n",
    "f.obj <- c(1, 1, 1)\n",
    "f.con <- matrix(c(3, -2, 0, 5, 0, -2, 50, 10, 5, 1, 0, 0), nrow = 4, byrow = TRUE)\n",
    "f.dir <- c(\"=\", \"=\", \"<=\", \"<=\")\n",
    "f.rhs <- c(0, 0, 1000, 30)"
   ]
  },
  {
   "cell_type": "code",
   "execution_count": 3,
   "id": "c6555a5f",
   "metadata": {},
   "outputs": [
    {
     "name": "stdout",
     "output_type": "stream",
     "text": [
      "Success: the objective function is 64.51613 \n"
     ]
    },
    {
     "data": {
      "text/html": [
       "<style>\n",
       ".list-inline {list-style: none; margin:0; padding: 0}\n",
       ".list-inline>li {display: inline-block}\n",
       ".list-inline>li:not(:last-child)::after {content: \"\\00b7\"; padding: 0 .5ex}\n",
       "</style>\n",
       "<ol class=list-inline><li>12.9032258064516</li><li>19.3548387096774</li><li>32.258064516129</li></ol>\n"
      ],
      "text/latex": [
       "\\begin{enumerate*}\n",
       "\\item 12.9032258064516\n",
       "\\item 19.3548387096774\n",
       "\\item 32.258064516129\n",
       "\\end{enumerate*}\n"
      ],
      "text/markdown": [
       "1. 12.9032258064516\n",
       "2. 19.3548387096774\n",
       "3. 32.258064516129\n",
       "\n",
       "\n"
      ],
      "text/plain": [
       "[1] 12.90323 19.35484 32.25806"
      ]
     },
     "metadata": {},
     "output_type": "display_data"
    }
   ],
   "source": [
    "# Run solver to find a solution (possibly non-integral)\n",
    "res <- lp(\"max\", f.obj, f.con, f.dir, f.rhs)\n",
    "print(res)\n",
    "\n",
    "# Non-integral solution\n",
    "res$solution"
   ]
  },
  {
   "cell_type": "code",
   "execution_count": 4,
   "id": "b95e968e",
   "metadata": {},
   "outputs": [
    {
     "name": "stdout",
     "output_type": "stream",
     "text": [
      "Success: the objective function is 60 \n"
     ]
    },
    {
     "data": {
      "text/html": [
       "<style>\n",
       ".list-inline {list-style: none; margin:0; padding: 0}\n",
       ".list-inline>li {display: inline-block}\n",
       ".list-inline>li:not(:last-child)::after {content: \"\\00b7\"; padding: 0 .5ex}\n",
       "</style>\n",
       "<ol class=list-inline><li>12</li><li>18</li><li>30</li></ol>\n"
      ],
      "text/latex": [
       "\\begin{enumerate*}\n",
       "\\item 12\n",
       "\\item 18\n",
       "\\item 30\n",
       "\\end{enumerate*}\n"
      ],
      "text/markdown": [
       "1. 12\n",
       "2. 18\n",
       "3. 30\n",
       "\n",
       "\n"
      ],
      "text/plain": [
       "[1] 12 18 30"
      ]
     },
     "metadata": {},
     "output_type": "display_data"
    }
   ],
   "source": [
    "# Run solver requiring that all three variables be integers\n",
    "res_int <- lp(\"max\", f.obj, f.con, f.dir, f.rhs, int.vec = 1:3)\n",
    "print(res_int)\n",
    "\n",
    "# Integral solution\n",
    "res_int$solution"
   ]
  },
  {
   "cell_type": "markdown",
   "id": "8df7c80f",
   "metadata": {},
   "source": [
    "Hence we see that the problem admits an integral solution."
   ]
  }
 ],
 "metadata": {
  "kernelspec": {
   "display_name": "R",
   "language": "R",
   "name": "ir"
  },
  "language_info": {
   "codemirror_mode": "r",
   "file_extension": ".r",
   "mimetype": "text/x-r-source",
   "name": "R",
   "pygments_lexer": "r",
   "version": "3.6.3"
  }
 },
 "nbformat": 4,
 "nbformat_minor": 5
}
