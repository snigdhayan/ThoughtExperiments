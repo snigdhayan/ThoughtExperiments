{
 "cells": [
  {
   "cell_type": "markdown",
   "id": "7aa53d29",
   "metadata": {},
   "source": [
    "# Portfolio Selection Strategies\n",
    "## Author: Snigdhayan Mahanta\n",
    "Suppose there are 100 projects to choose from and only 10 projects can be funded with the available budget. What should be the strategy to select the projects for execution? To simplify the problem I ignored project duration and hence time value of money does not appear in out cost and value calculations. I also ignored project quality since it is not easily quantifiable. Each project consists of the following attributes:\n",
    "\n",
    "1. `Value` - this is a higher abstraction of scope that the project execution achieves (cash inflow)\n",
    "2. `Risk` - this is the probability of failure of the project (should be greater than `inherent risk`)\n",
    "3. `Cost` - this is some abstract estimate of the project expenses (cash outflow)\n",
    "\n",
    "I also created a configurable `risk tolerance` parameter. A project is considered for portfolio selection only if its associated `risk` falls below the value of this parameter. Based on this information I can think of two simple strategies:\n",
    "\n",
    "1. Risk-adjusted strategy - rank the projects according to `expected value` (taking into account the risk probabilities).\n",
    "2. Value-driven strategy - rank the projects according to `normalized value` (value divided by cost) ignoring risk.\n",
    "\n",
    "Roughly speaking, the first approach is an additive model and the second approach is a multiplicative model. After creating a random portfolio of projects satisfying the boundary conditions, I applied the two selection strategies and compared the outcomes. "
   ]
  },
  {
   "cell_type": "code",
   "execution_count": 1,
   "id": "d8e88806",
   "metadata": {},
   "outputs": [],
   "source": [
    "import numpy as np\n",
    "import matplotlib.pyplot as plt\n",
    "import pandas as pd"
   ]
  },
  {
   "cell_type": "code",
   "execution_count": 2,
   "id": "bf04676f",
   "metadata": {},
   "outputs": [],
   "source": [
    "# Default parameters\n",
    "default_value = 1000 \n",
    "default_risk = 0.5 \n",
    "default_cost = 100\n",
    "inherent_risk = 20 # minimum risk involved in any project\n",
    "risk_tolerance = 80 # should be greater than inherent_risk"
   ]
  },
  {
   "cell_type": "code",
   "execution_count": 3,
   "id": "8ed66b14",
   "metadata": {},
   "outputs": [],
   "source": [
    "# Definition of project\n",
    "class project:\n",
    "    '''\n",
    "    project has attributes 'value', 'risk' and 'cost'\n",
    "    \n",
    "    '''\n",
    "    \n",
    "    value = default_value\n",
    "    risk = default_risk # probability of failure\n",
    "    cost = default_cost\n",
    "    \n",
    "    def __init__(self):\n",
    "        self.value = np.random.choice(a=range(100, 10000))\n",
    "        self.risk = np.random.choice(a=range(inherent_risk, risk_tolerance))/100\n",
    "        self.cost = np.random.choice(a=range(100, 1000))\n",
    "\n",
    "    def execute(self):\n",
    "        return np.random.choice(a=[0,1], p=[self.risk, 1-self.risk]) # 0 = failure, 1 = success  \n",
    "    \n",
    "    def expected_value(self):\n",
    "        return (self.value-self.cost)*(1-self.risk) - self.cost*self.risk\n",
    "    \n",
    "    def normalized_value(self):\n",
    "        return self.value/self.cost\n",
    "    \n",
    "    def earned_value(self):\n",
    "        return self.execute()*self.value - self.cost"
   ]
  },
  {
   "cell_type": "code",
   "execution_count": 4,
   "id": "56dbec16",
   "metadata": {},
   "outputs": [],
   "source": [
    "# Portfolio creation function\n",
    "def create_portfolio(n_projects):\n",
    "    '''\n",
    "    create a portfolio of projects\n",
    "\n",
    "    '''\n",
    "    \n",
    "    expected_values_dict = {}\n",
    "    normalized_values_dict = {}\n",
    "    earned_values_dict = {}\n",
    "    \n",
    "    for i in range(1, n_projects+1):\n",
    "        proj = project()\n",
    "        key_1 = i \n",
    "        key_2 = i\n",
    "        key_3 = i\n",
    "        expected_values_dict[key_1] = proj.expected_value()\n",
    "        normalized_values_dict[key_2] = proj.normalized_value()\n",
    "        earned_values_dict[key_3] = proj.earned_value()\n",
    "        \n",
    "    return expected_values_dict, normalized_values_dict, earned_values_dict"
   ]
  },
  {
   "cell_type": "code",
   "execution_count": 5,
   "id": "2d35802b",
   "metadata": {},
   "outputs": [],
   "source": [
    "# Simulation parameters\n",
    "n_projects = 100\n",
    "n_selected = 10\n",
    "exp_vals, norm_vals, earn_vals = create_portfolio(n_projects)"
   ]
  },
  {
   "cell_type": "code",
   "execution_count": 6,
   "id": "fc47c782",
   "metadata": {},
   "outputs": [],
   "source": [
    "# Strategy 1 - select projects based on expected value\n",
    "exp_vals = dict(sorted(exp_vals.items(), key=lambda item: item[1], reverse=True))\n",
    "exp_vals = list(exp_vals.items())\n",
    "exp_vals = exp_vals[0:n_selected]\n",
    "selected_projects_1 = [element[0] for element in exp_vals]"
   ]
  },
  {
   "cell_type": "code",
   "execution_count": 7,
   "id": "5104817d",
   "metadata": {},
   "outputs": [],
   "source": [
    "# Strategy 2 - select projects based on normalized value\n",
    "norm_vals = dict(sorted(norm_vals.items(), key=lambda item: item[1], reverse=True))\n",
    "norm_vals = list(norm_vals.items())\n",
    "norm_vals = norm_vals[0:n_selected]\n",
    "selected_projects_2 = [element[0] for element in norm_vals]"
   ]
  },
  {
   "cell_type": "code",
   "execution_count": 8,
   "id": "ed628cdb",
   "metadata": {},
   "outputs": [
    {
     "data": {
      "text/html": [
       "<div>\n",
       "<style scoped>\n",
       "    .dataframe tbody tr th:only-of-type {\n",
       "        vertical-align: middle;\n",
       "    }\n",
       "\n",
       "    .dataframe tbody tr th {\n",
       "        vertical-align: top;\n",
       "    }\n",
       "\n",
       "    .dataframe thead th {\n",
       "        text-align: right;\n",
       "    }\n",
       "</style>\n",
       "<table border=\"1\" class=\"dataframe\">\n",
       "  <thead>\n",
       "    <tr style=\"text-align: right;\">\n",
       "      <th></th>\n",
       "      <th>Strategy 1 - Expected Values</th>\n",
       "      <th>Strategy 2 - Normalized Values</th>\n",
       "    </tr>\n",
       "  </thead>\n",
       "  <tbody>\n",
       "    <tr>\n",
       "      <th>0</th>\n",
       "      <td>(96, 6156.400000000001)</td>\n",
       "      <td>(22, 87.1214953271028)</td>\n",
       "    </tr>\n",
       "    <tr>\n",
       "      <th>1</th>\n",
       "      <td>(34, 6134.530000000001)</td>\n",
       "      <td>(28, 55.42458100558659)</td>\n",
       "    </tr>\n",
       "    <tr>\n",
       "      <th>2</th>\n",
       "      <td>(39, 6079.8)</td>\n",
       "      <td>(66, 49.324786324786324)</td>\n",
       "    </tr>\n",
       "    <tr>\n",
       "      <th>3</th>\n",
       "      <td>(92, 5520.96)</td>\n",
       "      <td>(31, 38.093525179856115)</td>\n",
       "    </tr>\n",
       "    <tr>\n",
       "      <th>4</th>\n",
       "      <td>(28, 5178.34)</td>\n",
       "      <td>(21, 37.16959064327485)</td>\n",
       "    </tr>\n",
       "    <tr>\n",
       "      <th>5</th>\n",
       "      <td>(54, 4948.0)</td>\n",
       "      <td>(27, 35.313653136531364)</td>\n",
       "    </tr>\n",
       "    <tr>\n",
       "      <th>6</th>\n",
       "      <td>(58, 4769.400000000001)</td>\n",
       "      <td>(38, 34.062780269058294)</td>\n",
       "    </tr>\n",
       "    <tr>\n",
       "      <th>7</th>\n",
       "      <td>(99, 4738.659999999999)</td>\n",
       "      <td>(60, 33.873831775700936)</td>\n",
       "    </tr>\n",
       "    <tr>\n",
       "      <th>8</th>\n",
       "      <td>(61, 4647.98)</td>\n",
       "      <td>(56, 33.80916030534351)</td>\n",
       "    </tr>\n",
       "    <tr>\n",
       "      <th>9</th>\n",
       "      <td>(38, 4486.52)</td>\n",
       "      <td>(32, 29.708108108108107)</td>\n",
       "    </tr>\n",
       "  </tbody>\n",
       "</table>\n",
       "</div>"
      ],
      "text/plain": [
       "  Strategy 1 - Expected Values Strategy 2 - Normalized Values\n",
       "0      (96, 6156.400000000001)         (22, 87.1214953271028)\n",
       "1      (34, 6134.530000000001)        (28, 55.42458100558659)\n",
       "2                 (39, 6079.8)       (66, 49.324786324786324)\n",
       "3                (92, 5520.96)       (31, 38.093525179856115)\n",
       "4                (28, 5178.34)        (21, 37.16959064327485)\n",
       "5                 (54, 4948.0)       (27, 35.313653136531364)\n",
       "6      (58, 4769.400000000001)       (38, 34.062780269058294)\n",
       "7      (99, 4738.659999999999)       (60, 33.873831775700936)\n",
       "8                (61, 4647.98)        (56, 33.80916030534351)\n",
       "9                (38, 4486.52)       (32, 29.708108108108107)"
      ]
     },
     "execution_count": 8,
     "metadata": {},
     "output_type": "execute_result"
    }
   ],
   "source": [
    "# Comparison of the two selection strategies\n",
    "data = {'Strategy 1 - Expected Values': exp_vals, 'Strategy 2 - Normalized Values': norm_vals}\n",
    "project_selection = pd.DataFrame(data=data)\n",
    "project_selection"
   ]
  },
  {
   "cell_type": "code",
   "execution_count": 9,
   "id": "2e558c5c",
   "metadata": {},
   "outputs": [
    {
     "data": {
      "text/plain": [
       "[28, 38]"
      ]
     },
     "execution_count": 9,
     "metadata": {},
     "output_type": "execute_result"
    }
   ],
   "source": [
    "# Projects selected by both strategies\n",
    "common_selection = list(set(selected_projects_1).intersection(selected_projects_2))\n",
    "common_selection"
   ]
  },
  {
   "cell_type": "code",
   "execution_count": 10,
   "id": "23720a02",
   "metadata": {},
   "outputs": [
    {
     "data": {
      "image/png": "[encoded data removed]",
      "text/plain": [
       "<Figure size 1200x640 with 1 Axes>"
      ]
     },
     "metadata": {},
     "output_type": "display_data"
    }
   ],
   "source": [
    "# Visualize the expected vs the earned values\n",
    "labels = [\"Project \"+str(p) for p in selected_projects_1]\n",
    "x = np.arange(len(labels))  # the label locations\n",
    "\n",
    "y1 = [earn_vals[n] for n in selected_projects_1]\n",
    "avg_earn_val = round(sum(y1)/len(y1),2)\n",
    "\n",
    "y2 = [element[1] for element in exp_vals]\n",
    "avg_exp_val = round(sum(y2)/len(y2),2)\n",
    "\n",
    "width = 0.35  # the width of the bars\n",
    "\n",
    "fig, ax = plt.subplots(figsize=(15, 8), dpi=80, facecolor='w', edgecolor='k')\n",
    "rects1 = ax.bar(x - width/2, y1, width, label='Earned')\n",
    "rects2 = ax.bar(x + width/2, y2, width, label='Expected')\n",
    "\n",
    "# Add some text for labels, title and custom x-axis tick labels, etc.\n",
    "ax.set_xlabel('Selected Projects')\n",
    "ax.set_ylabel('Values')\n",
    "ax.set_title('Expected vs Earned Values')\n",
    "ax.set_xticks(x)\n",
    "ax.set_xticklabels(labels)\n",
    "legends = [F'Average earned value = {avg_earn_val}', \n",
    "           F'Average expected value = {avg_exp_val}']\n",
    "ax.legend(legends, loc='upper right')\n",
    "\n",
    "#ax.bar_label(rects1, padding=3)\n",
    "# ax.bar_label(rects2, padding=3)\n",
    "\n",
    "#fig.tight_layout()\n",
    "#figure(figsize=(15, 5), dpi=80, facecolor='w', edgecolor='k')\n",
    "\n",
    "plt.show()"
   ]
  },
  {
   "cell_type": "code",
   "execution_count": 11,
   "id": "6afccfff",
   "metadata": {},
   "outputs": [
    {
     "data": {
      "image/png": "[encoded data removed]",
      "text/plain": [
       "<Figure size 1200x640 with 1 Axes>"
      ]
     },
     "metadata": {},
     "output_type": "display_data"
    }
   ],
   "source": [
    "# Visualize the comparison of the two strategies\n",
    "#labels = [str(p) for p in range(1, n_selected+1)]\n",
    "labels = list(zip(selected_projects_1, selected_projects_2))\n",
    "x = np.arange(len(labels))  # the label locations\n",
    "\n",
    "y1 = [earn_vals[n] for n in selected_projects_1]\n",
    "avg_earn_val_1 = round(sum(y1)/len(y1),2)\n",
    "\n",
    "y2 = [earn_vals[n] for n in selected_projects_2]\n",
    "avg_earn_val_2 = round(sum(y2)/len(y2),2)\n",
    "\n",
    "width = 0.35  # the width of the bars\n",
    "\n",
    "fig, ax = plt.subplots(figsize=(15, 8), dpi=80, facecolor='w', edgecolor='k')\n",
    "rects1 = ax.bar(x - width/2, y1, width, label=selected_projects_1)\n",
    "rects2 = ax.bar(x + width/2, y2, width, label=selected_projects_2)\n",
    "\n",
    "# Add some text for labels, title and custom x-axis tick labels, etc.\n",
    "ax.set_xlabel('(Strategy 1 Project, Strategy 2 Project)')\n",
    "ax.set_ylabel('Earned Values')\n",
    "ax.set_title('Strategy 1 - Expected Value vs. Strategy 2 - Normalized Value')\n",
    "ax.set_xticks(x)\n",
    "ax.set_xticklabels(labels)\n",
    "legends = [F'Average earned value via strategy 1 = {avg_earn_val_1}', \n",
    "           F'Average earned value via strategy 2 = {avg_earn_val_2}']\n",
    "ax.legend(legends, loc='upper right')\n",
    "\n",
    "#ax.bar_label(rects1, padding=3)\n",
    "#ax.bar_label(rects2, padding=3)\n",
    "\n",
    "#fig.tight_layout()\n",
    "\n",
    "plt.show()"
   ]
  }
 ],
 "metadata": {
  "kernelspec": {
   "display_name": "Python 3",
   "language": "python",
   "name": "python3"
  },
  "language_info": {
   "codemirror_mode": {
    "name": "ipython",
    "version": 3
   },
   "file_extension": ".py",
   "mimetype": "text/x-python",
   "name": "python",
   "nbconvert_exporter": "python",
   "pygments_lexer": "ipython3",
   "version": "3.7.10"
  }
 },
 "nbformat": 4,
 "nbformat_minor": 5
}
