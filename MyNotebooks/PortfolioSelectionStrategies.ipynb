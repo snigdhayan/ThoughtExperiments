{
 "cells": [
  {
   "cell_type": "markdown",
   "id": "5c2d8e5f",
   "metadata": {},
   "source": [
    "# Portfolio Selection Strategies\n",
    "## Author: Snigdhayan Mahanta\n",
    "Suppose there are 100 projects to choose from and only 10 projects can be funded with the available budget. What should be the strategy to select the projects for execution? To simplify the problem I ignored the project duration so that the `discount rate` can be left out of cost and value calculations. I also ignored the project quality since it is not easily quantifiable. Hence each project consists of the following attributes:\n",
    "\n",
    "1. `Value` - this is a higher abstraction of scope that the project execution achieves (cash inflow)\n",
    "2. `Risk` - this is the probability of failure of the project (should be greater than `inherent risk`)\n",
    "3. `Cost` - this is some abstract estimate of the project expenses (cash outflow)\n",
    "\n",
    "I created a configurable `risk tolerance` parameter. A project is considered for portfolio selection only if its associated `risk` falls below the value of this parameter. Based on this information I can think of two simple strategies:\n",
    "\n",
    "1. Risk-adjusted strategy - rank the projects according to `expected value` (taking into account the risk probabilities).\n",
    "2. Value-driven strategy - rank the projects according to `normalized value` (value divided by cost) ignoring risk.\n",
    "\n",
    "Roughly speaking, the first approach is an additive model and the second approach is a multiplicative model. After creating a random portfolio of projects satisfying the boundary conditions, I applied the two selection strategies and compared the outcomes. "
   ]
  },
  {
   "cell_type": "code",
   "execution_count": 1,
   "id": "d8e88806",
   "metadata": {},
   "outputs": [],
   "source": [
    "import numpy as np\n",
    "import matplotlib.pyplot as plt\n",
    "import pandas as pd"
   ]
  },
  {
   "cell_type": "code",
   "execution_count": 2,
   "id": "bf04676f",
   "metadata": {},
   "outputs": [],
   "source": [
    "# Global parameters\n",
    "inherent_risk = 20 # minimum risk involved in any project as a percentage\n",
    "risk_tolerance = 80 # configurable but should be greater than inherent_risk"
   ]
  },
  {
   "cell_type": "code",
   "execution_count": 3,
   "id": "8ed66b14",
   "metadata": {},
   "outputs": [],
   "source": [
    "# Definition of project\n",
    "class project:\n",
    "    '''\n",
    "    project has attributes 'value', 'risk' and 'cost'\n",
    "    \n",
    "    '''\n",
    "    \n",
    "    def __init__(self):\n",
    "        self.value = np.random.choice(a=range(100, 10000))\n",
    "        self.risk = np.random.choice(a=range(inherent_risk, risk_tolerance))/100\n",
    "        self.cost = np.random.choice(a=range(100, 1000))\n",
    "\n",
    "    def execute(self):\n",
    "        return np.random.choice(a=[0,1], p=[self.risk, 1-self.risk]) # 0 = failure, 1 = success  \n",
    "    \n",
    "    def expected_value(self):\n",
    "        return (self.value-self.cost)*(1-self.risk) - self.cost*self.risk\n",
    "    \n",
    "    def normalized_value(self):\n",
    "        return self.value/self.cost\n",
    "    \n",
    "    def earned_value(self):\n",
    "        return self.execute()*self.value - self.cost"
   ]
  },
  {
   "cell_type": "code",
   "execution_count": 4,
   "id": "56dbec16",
   "metadata": {},
   "outputs": [],
   "source": [
    "# Portfolio creation function\n",
    "def create_portfolio(n_projects):\n",
    "    '''\n",
    "    create a portfolio of projects\n",
    "\n",
    "    '''\n",
    "    \n",
    "    expected_values_dict = {}\n",
    "    normalized_values_dict = {}\n",
    "    earned_values_dict = {}\n",
    "    \n",
    "    for i in range(1, n_projects+1):\n",
    "        proj = project()\n",
    "        key_1 = i \n",
    "        key_2 = i\n",
    "        key_3 = i\n",
    "        expected_values_dict[key_1] = proj.expected_value()\n",
    "        normalized_values_dict[key_2] = proj.normalized_value()\n",
    "        earned_values_dict[key_3] = proj.earned_value()\n",
    "        \n",
    "    return expected_values_dict, normalized_values_dict, earned_values_dict"
   ]
  },
  {
   "cell_type": "code",
   "execution_count": 5,
   "id": "2d35802b",
   "metadata": {},
   "outputs": [],
   "source": [
    "# Simulation parameters\n",
    "n_projects = 100\n",
    "n_selected = 10\n",
    "exp_vals, norm_vals, earn_vals = create_portfolio(n_projects)"
   ]
  },
  {
   "cell_type": "code",
   "execution_count": 6,
   "id": "fc47c782",
   "metadata": {},
   "outputs": [],
   "source": [
    "# Strategy 1 - select projects based on expected value\n",
    "exp_vals = dict(sorted(exp_vals.items(), key=lambda item: item[1], reverse=True))\n",
    "exp_vals = list(exp_vals.items())\n",
    "exp_vals = exp_vals[0:n_selected]\n",
    "selected_projects_1 = [element[0] for element in exp_vals]"
   ]
  },
  {
   "cell_type": "code",
   "execution_count": 7,
   "id": "5104817d",
   "metadata": {},
   "outputs": [],
   "source": [
    "# Strategy 2 - select projects based on normalized value\n",
    "norm_vals = dict(sorted(norm_vals.items(), key=lambda item: item[1], reverse=True))\n",
    "norm_vals = list(norm_vals.items())\n",
    "norm_vals = norm_vals[0:n_selected]\n",
    "selected_projects_2 = [element[0] for element in norm_vals]"
   ]
  },
  {
   "cell_type": "code",
   "execution_count": 8,
   "id": "ed628cdb",
   "metadata": {},
   "outputs": [
    {
     "data": {
      "text/html": [
       "<div>\n",
       "<style scoped>\n",
       "    .dataframe tbody tr th:only-of-type {\n",
       "        vertical-align: middle;\n",
       "    }\n",
       "\n",
       "    .dataframe tbody tr th {\n",
       "        vertical-align: top;\n",
       "    }\n",
       "\n",
       "    .dataframe thead th {\n",
       "        text-align: right;\n",
       "    }\n",
       "</style>\n",
       "<table border=\"1\" class=\"dataframe\">\n",
       "  <thead>\n",
       "    <tr style=\"text-align: right;\">\n",
       "      <th></th>\n",
       "      <th>Strategy 1 - Expected Values</th>\n",
       "      <th>Strategy 2 - Normalized Values</th>\n",
       "    </tr>\n",
       "  </thead>\n",
       "  <tbody>\n",
       "    <tr>\n",
       "      <th>0</th>\n",
       "      <td>(81, 6739.200000000001)</td>\n",
       "      <td>(15, 73.4622641509434)</td>\n",
       "    </tr>\n",
       "    <tr>\n",
       "      <th>1</th>\n",
       "      <td>(57, 6652.959999999999)</td>\n",
       "      <td>(44, 48.215384615384615)</td>\n",
       "    </tr>\n",
       "    <tr>\n",
       "      <th>2</th>\n",
       "      <td>(1, 5944.259999999999)</td>\n",
       "      <td>(4, 46.89705882352941)</td>\n",
       "    </tr>\n",
       "    <tr>\n",
       "      <th>3</th>\n",
       "      <td>(45, 5871.889999999999)</td>\n",
       "      <td>(77, 41.8421052631579)</td>\n",
       "    </tr>\n",
       "    <tr>\n",
       "      <th>4</th>\n",
       "      <td>(48, 5202.27)</td>\n",
       "      <td>(60, 38.315555555555555)</td>\n",
       "    </tr>\n",
       "    <tr>\n",
       "      <th>5</th>\n",
       "      <td>(55, 5200.9400000000005)</td>\n",
       "      <td>(35, 34.057377049180324)</td>\n",
       "    </tr>\n",
       "    <tr>\n",
       "      <th>6</th>\n",
       "      <td>(76, 5134.33)</td>\n",
       "      <td>(38, 27.191666666666666)</td>\n",
       "    </tr>\n",
       "    <tr>\n",
       "      <th>7</th>\n",
       "      <td>(77, 5123.7)</td>\n",
       "      <td>(58, 25.762264150943395)</td>\n",
       "    </tr>\n",
       "    <tr>\n",
       "      <th>8</th>\n",
       "      <td>(8, 5074.71)</td>\n",
       "      <td>(89, 24.95924764890282)</td>\n",
       "    </tr>\n",
       "    <tr>\n",
       "      <th>9</th>\n",
       "      <td>(30, 4987.5199999999995)</td>\n",
       "      <td>(92, 24.0431654676259)</td>\n",
       "    </tr>\n",
       "  </tbody>\n",
       "</table>\n",
       "</div>"
      ],
      "text/plain": [
       "  Strategy 1 - Expected Values Strategy 2 - Normalized Values\n",
       "0      (81, 6739.200000000001)         (15, 73.4622641509434)\n",
       "1      (57, 6652.959999999999)       (44, 48.215384615384615)\n",
       "2       (1, 5944.259999999999)         (4, 46.89705882352941)\n",
       "3      (45, 5871.889999999999)         (77, 41.8421052631579)\n",
       "4                (48, 5202.27)       (60, 38.315555555555555)\n",
       "5     (55, 5200.9400000000005)       (35, 34.057377049180324)\n",
       "6                (76, 5134.33)       (38, 27.191666666666666)\n",
       "7                 (77, 5123.7)       (58, 25.762264150943395)\n",
       "8                 (8, 5074.71)        (89, 24.95924764890282)\n",
       "9     (30, 4987.5199999999995)         (92, 24.0431654676259)"
      ]
     },
     "execution_count": 8,
     "metadata": {},
     "output_type": "execute_result"
    }
   ],
   "source": [
    "# Comparison of the two selection strategies\n",
    "data = {'Strategy 1 - Expected Values': exp_vals, 'Strategy 2 - Normalized Values': norm_vals}\n",
    "project_selection = pd.DataFrame(data=data)\n",
    "project_selection"
   ]
  },
  {
   "cell_type": "code",
   "execution_count": 9,
   "id": "2e558c5c",
   "metadata": {},
   "outputs": [
    {
     "data": {
      "text/plain": [
       "[77]"
      ]
     },
     "execution_count": 9,
     "metadata": {},
     "output_type": "execute_result"
    }
   ],
   "source": [
    "# Projects selected by both strategies\n",
    "common_selection = list(set(selected_projects_1).intersection(selected_projects_2))\n",
    "common_selection"
   ]
  },
  {
   "cell_type": "code",
   "execution_count": 10,
   "id": "23720a02",
   "metadata": {},
   "outputs": [
    {
     "data": {
      "image/png": "[encoded data removed]",
      "text/plain": [
       "<Figure size 1200x640 with 1 Axes>"
      ]
     },
     "metadata": {},
     "output_type": "display_data"
    }
   ],
   "source": [
    "# Visualize the expected vs the earned values\n",
    "labels = [\"Project \"+str(p) for p in selected_projects_1]\n",
    "x = np.arange(len(labels))  # the label locations\n",
    "\n",
    "y1 = [earn_vals[n] for n in selected_projects_1]\n",
    "tot_earn_val = round(sum(y1),2)\n",
    "\n",
    "y2 = [element[1] for element in exp_vals]\n",
    "tot_exp_val = round(sum(y2),2)\n",
    "\n",
    "width = 0.35  # the width of the bars\n",
    "\n",
    "fig, ax = plt.subplots(figsize=(15, 8), dpi=80, facecolor='w', edgecolor='k')\n",
    "rects1 = ax.bar(x - width/2, y1, width, label='Earned')\n",
    "rects2 = ax.bar(x + width/2, y2, width, label='Expected')\n",
    "\n",
    "# Add some text for labels, title and custom x-axis tick labels, etc.\n",
    "ax.set_xlabel('Selected Projects')\n",
    "ax.set_ylabel('Values')\n",
    "ax.set_title('Expected vs Earned Values')\n",
    "ax.set_xticks(x)\n",
    "ax.set_xticklabels(labels)\n",
    "legends = [F'Total earned value = {tot_earn_val}', \n",
    "           F'Total expected value = {tot_exp_val}']\n",
    "ax.legend(legends, loc='upper right')\n",
    "\n",
    "#ax.bar_label(rects1, padding=3)\n",
    "# ax.bar_label(rects2, padding=3)\n",
    "\n",
    "#fig.tight_layout()\n",
    "#figure(figsize=(15, 5), dpi=80, facecolor='w', edgecolor='k')\n",
    "\n",
    "plt.show()"
   ]
  },
  {
   "cell_type": "code",
   "execution_count": 11,
   "id": "6afccfff",
   "metadata": {},
   "outputs": [
    {
     "data": {
      "image/png": "[encoded data removed]",
      "text/plain": [
       "<Figure size 1200x640 with 1 Axes>"
      ]
     },
     "metadata": {},
     "output_type": "display_data"
    }
   ],
   "source": [
    "# Visualize the comparison of the two strategies\n",
    "#labels = [str(p) for p in range(1, n_selected+1)]\n",
    "labels = list(zip(selected_projects_1, selected_projects_2))\n",
    "x = np.arange(len(labels))  # the label locations\n",
    "\n",
    "y1 = [earn_vals[n] for n in selected_projects_1]\n",
    "tot_earn_val_1 = round(sum(y1),2)\n",
    "\n",
    "y2 = [earn_vals[n] for n in selected_projects_2]\n",
    "tot_earn_val_2 = round(sum(y2),2)\n",
    "\n",
    "width = 0.35  # the width of the bars\n",
    "\n",
    "fig, ax = plt.subplots(figsize=(15, 8), dpi=80, facecolor='w', edgecolor='k')\n",
    "rects1 = ax.bar(x - width/2, y1, width, label=selected_projects_1)\n",
    "rects2 = ax.bar(x + width/2, y2, width, label=selected_projects_2)\n",
    "\n",
    "# Add some text for labels, title and custom x-axis tick labels, etc.\n",
    "ax.set_xlabel('(Strategy 1 Project, Strategy 2 Project)')\n",
    "ax.set_ylabel('Earned Values')\n",
    "ax.set_title('Strategy 1 - Expected Value vs. Strategy 2 - Normalized Value')\n",
    "ax.set_xticks(x)\n",
    "ax.set_xticklabels(labels)\n",
    "legends = [F'Total earned value via strategy 1 = {tot_earn_val_1}', \n",
    "           F'Total earned value via strategy 2 = {tot_earn_val_2}']\n",
    "ax.legend(legends, loc='upper right')\n",
    "\n",
    "#ax.bar_label(rects1, padding=3)\n",
    "#ax.bar_label(rects2, padding=3)\n",
    "\n",
    "#fig.tight_layout()\n",
    "\n",
    "plt.show()"
   ]
  }
 ],
 "metadata": {
  "kernelspec": {
   "display_name": "Python 3",
   "language": "python",
   "name": "python3"
  },
  "language_info": {
   "codemirror_mode": {
    "name": "ipython",
    "version": 3
   },
   "file_extension": ".py",
   "mimetype": "text/x-python",
   "name": "python",
   "nbconvert_exporter": "python",
   "pygments_lexer": "ipython3",
   "version": "3.7.10"
  }
 },
 "nbformat": 4,
 "nbformat_minor": 5
}
