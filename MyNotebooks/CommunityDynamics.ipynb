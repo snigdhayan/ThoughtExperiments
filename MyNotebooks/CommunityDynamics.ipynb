{
 "cells": [
  {
   "cell_type": "markdown",
   "id": "harmful-independence",
   "metadata": {},
   "source": [
    "# Community dynamics\n",
    "\n",
    "I represent a community of groups as a matrix. Each cell represents a group and the cell entry is the number of its members. \n",
    "The aim is to simulate the evolution of the community and its groups under some natural dynamics. \n",
    "In several runs of the simulation I noticed that the shapes of the histograms depicted below remain approximately the same.\n",
    "For the first histogram describing the initial state of the community this fact is not very surprising based on my simulation \n",
    "parameters. Moreover, the standard deviation also increases after the simulation run."
   ]
  },
  {
   "cell_type": "code",
   "execution_count": 1,
   "id": "hungarian-kelly",
   "metadata": {},
   "outputs": [],
   "source": [
    "# Create a community of groups as a matrix\n",
    "nRow <- 10\n",
    "nCol <- 10\n",
    "threshold <- 50 # if the number of members of a group equals or exceeds the threshold then I call it large\n",
    "randomData <- sample(x = c(0:threshold), size = nRow*nCol, replace = TRUE) # initial group size capped at threshold\n",
    "myData <- rep(randomData, nRow*nCol)\n",
    "myMatrix <- matrix(data = myData, nrow = nRow, ncol = nCol)"
   ]
  },
  {
   "cell_type": "code",
   "execution_count": 2,
   "id": "military-trance",
   "metadata": {},
   "outputs": [],
   "source": [
    "# Label groups as repeller,  neutral and attractor by -1, 0 and 1 respectively\n",
    "att = 0.2 # fraction of attractors\n",
    "rep = 0.1 # fraction of repellers\n",
    "neutral = 1 - att - rep # fraction of neutral groups\n",
    "\n",
    "attRep <- sample(x = c(-1, 0, 1), size = nRow*nCol, replace = TRUE, prob = c(rep, neutral, att)) # randomly label the groups\n",
    "myAttRep <- rep(attRep, nRow*nCol)\n",
    "myAttRepMatrix <- matrix(data = myAttRep, nrow = nRow, ncol = nCol)\n",
    "\n",
    "# The choice to move or not\n",
    "moveChoice <- c(-1, 0, 1) # -1 and 1 represent choices to move and 0 represents the choice to stay"
   ]
  },
  {
   "cell_type": "code",
   "execution_count": 3,
   "id": "drawn-procedure",
   "metadata": {},
   "outputs": [],
   "source": [
    "# Iteration - the propensity of the members to move is controlled by the type of the group (attractor, repeller or neutral)\n",
    "iteration <- function(matrix, attRepMatrix) {\n",
    "  for (i in c(1:NROW(matrix))) {\n",
    "    for (j in c(1:NCOL(matrix))) {\n",
    "        if (attRepMatrix[i,j] == -1) { # high probability to move out of the group\n",
    "            x <- sample(x = moveChoice, 1, replace = TRUE, prob = c(0.4,0.2,0.4))\n",
    "            y <- sample(x = moveChoice, 1, replace = TRUE, prob = c(0.4,0.2,0.4))\n",
    "        }\n",
    "        if (attRepMatrix[i,j] == 0) { # balanced probabilities\n",
    "            x <- sample(x = moveChoice, 1, replace = TRUE, prob = c(0.25,0.5,0.25))\n",
    "            y <- sample(x = moveChoice, 1, replace = TRUE, prob = c(0.25,0.5,0.25))\n",
    "        }\n",
    "        if (attRepMatrix[i,j] == 1) { # high probability to stay in the group\n",
    "            x <- sample(x = moveChoice, 1, replace = TRUE, prob = c(0.1,0.8,0.1))\n",
    "            y <- sample(x = moveChoice, 1, replace = TRUE, prob = c(0.1,0.8,0.1))\n",
    "        }\n",
    "        n_movers <- sample(x = c(0:matrix[i,j]), size = 1)\n",
    "        if ((i+x) >= 1 # x-coordinate lower bound check\n",
    "            & (i+x) <= NROW(matrix) # x-coordinate upper bound check\n",
    "            & (j+y) >= 1 # y-coordinate lower bound check\n",
    "            & (j+y) <= NCOL(matrix)) { # y-coordinate upper bound check\n",
    "            matrix[i,j] <- matrix[i,j] - n_movers # leave the current group\n",
    "            matrix[i+x,j+y] <- matrix[i+x,j+y] + n_movers # join the neighboring group\n",
    "        }\n",
    "        else matrix[i,j] <- matrix[i,j] - n_movers # leave the community altogether\n",
    "    }\n",
    "  }\n",
    "  return(matrix)\n",
    "}"
   ]
  },
  {
   "cell_type": "code",
   "execution_count": 4,
   "id": "fossil-principal",
   "metadata": {},
   "outputs": [],
   "source": [
    "# Number of iterations\n",
    "n_trials <- 1000\n",
    "\n",
    "# The dynamics represents the growth (birth or immigration) and the contraction (death or emigration) of the community members\n",
    "dynamics <- c(-10:12) # slightly skewed toward growth"
   ]
  },
  {
   "cell_type": "code",
   "execution_count": 5,
   "id": "retained-sucking",
   "metadata": {},
   "outputs": [],
   "source": [
    "# Simulation - run the iteration for a certain number of times\n",
    "simulation <- function(n_trials, matrix, attRepMatrix) {\n",
    "    for (i in c(1:n_trials)) {\n",
    "        randomDynamics <- sample(x = dynamics, size = nRow*nCol, replace = TRUE)\n",
    "        dynamicsMatrix <- matrix(data = randomDynamics, nrow = nRow, ncol = nCol)\n",
    "        intermediateMatrix <- matrix + dynamicsMatrix # add dynamics due to birth, death, immigration, emigration, etc.\n",
    "        intermediateMatrix[intermediateMatrix < 0] <- 0 # ensure that there is no negative group membership\n",
    "        simulatedMatrix <- iteration(matrix = intermediateMatrix, attRepMatrix = attRepMatrix)\n",
    "        }\n",
    "    return(simulatedMatrix)\n",
    "}"
   ]
  },
  {
   "cell_type": "code",
   "execution_count": 6,
   "id": "funny-complexity",
   "metadata": {},
   "outputs": [
    {
     "name": "stdout",
     "output_type": "stream",
     "text": [
      "      [,1] [,2] [,3] [,4] [,5] [,6] [,7] [,8] [,9] [,10]\n",
      " [1,]   43   28    1   33   43   14   13    6   10    33\n",
      " [2,]   25   15   10   14   25   37    8   23   14    16\n",
      " [3,]   36   12   27   42   36   37   38   13    5    12\n",
      " [4,]   37   16   28   50   19    5   41   22   26    41\n",
      " [5,]   39   25   49   33    1   42   43   11   23    35\n",
      " [6,]   33   34   25   40   18    5    6   38   36    38\n",
      " [7,]   45   26    1    3   39   45   37   41   25    26\n",
      " [8,]    1   48   28   28   35   18   30   49   21     6\n",
      " [9,]   21   18   22    4   46    5   34   23    7    27\n",
      "[10,]   31    7   31   49   27   21   40   20   41    16\n",
      "[1] \"No. of empty groups before simulation =  0\"\n",
      "[1] \"No. of large groups before simulation =  1\"\n",
      "[1] \"No. of community members before simulation =  2570\"\n",
      "[1] \"Standard deviation before simulation =  13.79\"\n"
     ]
    },
    {
     "data": {
      "image/png": "[encoded data removed]",
      "text/plain": [
       "Plot with title \"State of community before simulation\""
      ]
     },
     "metadata": {},
     "output_type": "display_data"
    }
   ],
   "source": [
    "# Print the initial state of the community\n",
    "print(myMatrix)\n",
    "print(paste(\"No. of empty groups before simulation = \", sum(myMatrix == 0)))\n",
    "print(paste(\"No. of large groups before simulation = \", sum(myMatrix >= threshold)))\n",
    "print(paste(\"No. of community members before simulation = \", sum(myMatrix)))\n",
    "print(paste(\"Standard deviation before simulation = \", round(sd(myMatrix), 2)))\n",
    "hist(myMatrix, col = \"gray\", xlab = \"No. of group members\", ylab = \"No. of groups\", \n",
    "     breaks = 10, main = \"State of community before simulation\")"
   ]
  },
  {
   "cell_type": "code",
   "execution_count": 7,
   "id": "naughty-dancing",
   "metadata": {},
   "outputs": [
    {
     "data": {
      "text/html": [
       "<table>\n",
       "<tbody>\n",
       "\t<tr><td>-1</td><td>0 </td><td> 1</td><td> 0</td><td>1 </td><td>1 </td><td>-1</td><td>0 </td><td> 0</td><td> 0</td></tr>\n",
       "\t<tr><td>-1</td><td>0 </td><td> 1</td><td> 1</td><td>0 </td><td>0 </td><td> 1</td><td>0 </td><td>-1</td><td> 0</td></tr>\n",
       "\t<tr><td>-1</td><td>0 </td><td>-1</td><td> 1</td><td>1 </td><td>0 </td><td> 0</td><td>1 </td><td> 1</td><td> 0</td></tr>\n",
       "\t<tr><td> 1</td><td>0 </td><td> 0</td><td> 0</td><td>0 </td><td>0 </td><td>-1</td><td>0 </td><td> 0</td><td> 0</td></tr>\n",
       "\t<tr><td>-1</td><td>0 </td><td> 0</td><td> 0</td><td>0 </td><td>0 </td><td> 0</td><td>0 </td><td> 0</td><td> 1</td></tr>\n",
       "\t<tr><td> 0</td><td>1 </td><td> 0</td><td> 0</td><td>0 </td><td>0 </td><td> 0</td><td>1 </td><td> 0</td><td> 0</td></tr>\n",
       "\t<tr><td> 0</td><td>0 </td><td> 0</td><td> 0</td><td>0 </td><td>0 </td><td> 1</td><td>0 </td><td> 0</td><td> 0</td></tr>\n",
       "\t<tr><td> 0</td><td>0 </td><td> 0</td><td>-1</td><td>1 </td><td>0 </td><td> 0</td><td>0 </td><td> 1</td><td> 0</td></tr>\n",
       "\t<tr><td> 0</td><td>0 </td><td> 0</td><td> 0</td><td>0 </td><td>0 </td><td> 0</td><td>0 </td><td> 0</td><td>-1</td></tr>\n",
       "\t<tr><td> 0</td><td>0 </td><td> 0</td><td> 0</td><td>0 </td><td>0 </td><td> 0</td><td>0 </td><td> 0</td><td> 0</td></tr>\n",
       "</tbody>\n",
       "</table>\n"
      ],
      "text/latex": [
       "\\begin{tabular}{llllllllll}\n",
       "\t -1 & 0  &  1 &  0 & 1  & 1  & -1 & 0  &  0 &  0\\\\\n",
       "\t -1 & 0  &  1 &  1 & 0  & 0  &  1 & 0  & -1 &  0\\\\\n",
       "\t -1 & 0  & -1 &  1 & 1  & 0  &  0 & 1  &  1 &  0\\\\\n",
       "\t  1 & 0  &  0 &  0 & 0  & 0  & -1 & 0  &  0 &  0\\\\\n",
       "\t -1 & 0  &  0 &  0 & 0  & 0  &  0 & 0  &  0 &  1\\\\\n",
       "\t  0 & 1  &  0 &  0 & 0  & 0  &  0 & 1  &  0 &  0\\\\\n",
       "\t  0 & 0  &  0 &  0 & 0  & 0  &  1 & 0  &  0 &  0\\\\\n",
       "\t  0 & 0  &  0 & -1 & 1  & 0  &  0 & 0  &  1 &  0\\\\\n",
       "\t  0 & 0  &  0 &  0 & 0  & 0  &  0 & 0  &  0 & -1\\\\\n",
       "\t  0 & 0  &  0 &  0 & 0  & 0  &  0 & 0  &  0 &  0\\\\\n",
       "\\end{tabular}\n"
      ],
      "text/markdown": [
       "\n",
       "| -1 | 0  |  1 |  0 | 1  | 1  | -1 | 0  |  0 |  0 |\n",
       "| -1 | 0  |  1 |  1 | 0  | 0  |  1 | 0  | -1 |  0 |\n",
       "| -1 | 0  | -1 |  1 | 1  | 0  |  0 | 1  |  1 |  0 |\n",
       "|  1 | 0  |  0 |  0 | 0  | 0  | -1 | 0  |  0 |  0 |\n",
       "| -1 | 0  |  0 |  0 | 0  | 0  |  0 | 0  |  0 |  1 |\n",
       "|  0 | 1  |  0 |  0 | 0  | 0  |  0 | 1  |  0 |  0 |\n",
       "|  0 | 0  |  0 |  0 | 0  | 0  |  1 | 0  |  0 |  0 |\n",
       "|  0 | 0  |  0 | -1 | 1  | 0  |  0 | 0  |  1 |  0 |\n",
       "|  0 | 0  |  0 |  0 | 0  | 0  |  0 | 0  |  0 | -1 |\n",
       "|  0 | 0  |  0 |  0 | 0  | 0  |  0 | 0  |  0 |  0 |\n",
       "\n"
      ],
      "text/plain": [
       "      [,1] [,2] [,3] [,4] [,5] [,6] [,7] [,8] [,9] [,10]\n",
       " [1,] -1   0     1    0   1    1    -1   0     0    0   \n",
       " [2,] -1   0     1    1   0    0     1   0    -1    0   \n",
       " [3,] -1   0    -1    1   1    0     0   1     1    0   \n",
       " [4,]  1   0     0    0   0    0    -1   0     0    0   \n",
       " [5,] -1   0     0    0   0    0     0   0     0    1   \n",
       " [6,]  0   1     0    0   0    0     0   1     0    0   \n",
       " [7,]  0   0     0    0   0    0     1   0     0    0   \n",
       " [8,]  0   0     0   -1   1    0     0   0     1    0   \n",
       " [9,]  0   0     0    0   0    0     0   0     0   -1   \n",
       "[10,]  0   0     0    0   0    0     0   0     0    0   "
      ]
     },
     "metadata": {},
     "output_type": "display_data"
    }
   ],
   "source": [
    "# Print the matrix of attractors, repellers and neutral groups\n",
    "myAttRepMatrix"
   ]
  },
  {
   "cell_type": "code",
   "execution_count": 8,
   "id": "extensive-license",
   "metadata": {},
   "outputs": [
    {
     "name": "stdout",
     "output_type": "stream",
     "text": [
      "      [,1] [,2] [,3] [,4] [,5] [,6] [,7] [,8] [,9] [,10]\n",
      " [1,]    3   75    4   28   33   31   23    7    5     5\n",
      " [2,]   24   20   15   10    2   44    9    8   17     4\n",
      " [3,]   42   22    6   28   65   28   33   27    1     5\n",
      " [4,]   15   23    7    3   25    1   44   33   31    53\n",
      " [5,]   26   21   48   35   11   15   32    7   15    50\n",
      " [6,]    9   74   21   70   48    9   38   41   25    23\n",
      " [7,]   70   26    0   33   55   14   46   36   28    23\n",
      " [8,]   37   12   13   43    2   37   25    4   23     5\n",
      " [9,]   32   13   11   11   47    5   29   97    3     7\n",
      "[10,]   10   17   23    5   23   11   29   30   14    11\n",
      "[1] \"No. of empty groups after simulation =  1\"\n",
      "[1] \"No. of large groups after simulation =  9\"\n",
      "[1] \"No. of community members after simulation =  2437\"\n",
      "[1] \"Standard deviation after simulation =  19.14\"\n"
     ]
    },
    {
     "data": {
      "image/png": "[encoded data removed]",
      "text/plain": [
       "Plot with title \"State of community after simulation\""
      ]
     },
     "metadata": {},
     "output_type": "display_data"
    }
   ],
   "source": [
    "# Run the simulation and print the changed state of the community\n",
    "newMyMatrix <- simulation(n_trials = n_trials, matrix = myMatrix, attRepMatrix = myAttRepMatrix)\n",
    "\n",
    "print(newMyMatrix)\n",
    "print(paste(\"No. of empty groups after simulation = \", sum(newMyMatrix == 0)))\n",
    "print(paste(\"No. of large groups after simulation = \", sum(newMyMatrix >= threshold)))\n",
    "print(paste(\"No. of community members after simulation = \", sum(newMyMatrix)))\n",
    "print(paste(\"Standard deviation after simulation = \", round(sd(newMyMatrix), 2)))\n",
    "hist(newMyMatrix, col = \"gray\", xlab = \"No. of group members\", ylab = \"No. of groups\", \n",
    "     breaks = 10, main = \"State of community after simulation\")"
   ]
  }
 ],
 "metadata": {
  "kernelspec": {
   "display_name": "R",
   "language": "R",
   "name": "ir"
  },
  "language_info": {
   "codemirror_mode": "r",
   "file_extension": ".r",
   "mimetype": "text/x-r-source",
   "name": "R",
   "pygments_lexer": "r",
   "version": "3.6.1"
  }
 },
 "nbformat": 4,
 "nbformat_minor": 5
}
