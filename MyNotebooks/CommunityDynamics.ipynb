{
 "cells": [
  {
   "cell_type": "markdown",
   "id": "functional-birthday",
   "metadata": {},
   "source": [
    "# Community dynamics\n",
    "## Author: Snigdhayan Mahanta\n",
    "I represent a community of groups as a matrix. Each cell represents a group and the cell entry is the number of its members. \n",
    "The aim is to simulate the evolution of the community and its groups under some natural dynamics. \n",
    "In several runs of the simulation I noticed that the shapes of the histograms depicted below remain approximately the same.\n",
    "For the first histogram describing the initial state of the community this fact is not very surprising based on my simulation \n",
    "parameters. Moreover, the standard deviation also increases after the simulation run."
   ]
  },
  {
   "cell_type": "code",
   "execution_count": 1,
   "id": "hungarian-kelly",
   "metadata": {},
   "outputs": [],
   "source": [
    "# Create a community of groups as a matrix\n",
    "nRow <- 10\n",
    "nCol <- 10\n",
    "threshold <- 50 # if the number of members of a group equals or exceeds the threshold then I call it large\n",
    "randomData <- sample(x = c(0:threshold), size = nRow*nCol, replace = TRUE) # initial group size capped at threshold\n",
    "myData <- rep(randomData, nRow*nCol)\n",
    "myMatrix <- matrix(data = myData, nrow = nRow, ncol = nCol)"
   ]
  },
  {
   "cell_type": "code",
   "execution_count": 2,
   "id": "military-trance",
   "metadata": {},
   "outputs": [],
   "source": [
    "# Label groups as repeller,  neutral and attractor by -1, 0 and 1 respectively\n",
    "att = 0.2 # fraction of attractors\n",
    "rep = 0.1 # fraction of repellers\n",
    "neutral = 1 - att - rep # fraction of neutral groups\n",
    "\n",
    "attRep <- sample(x = c(-1, 0, 1), size = nRow*nCol, replace = TRUE, prob = c(rep, neutral, att)) # randomly label the groups\n",
    "myAttRep <- rep(attRep, nRow*nCol)\n",
    "myAttRepMatrix <- matrix(data = myAttRep, nrow = nRow, ncol = nCol)\n",
    "\n",
    "# The choice to move or not\n",
    "moveChoice <- c(-1, 0, 1) # -1 and 1 represent choices to move and 0 represents the choice to stay"
   ]
  },
  {
   "cell_type": "code",
   "execution_count": 3,
   "id": "drawn-procedure",
   "metadata": {},
   "outputs": [],
   "source": [
    "# Iteration - the propensity of the members to move is controlled by the type of the group (attractor, repeller or neutral)\n",
    "iteration <- function(matrix, attRepMatrix) {\n",
    "  for (i in c(1:NROW(matrix))) {\n",
    "    for (j in c(1:NCOL(matrix))) {\n",
    "        if (attRepMatrix[i,j] == -1) { # high probability to move out of the group\n",
    "            x <- sample(x = moveChoice, 1, replace = TRUE, prob = c(0.4,0.2,0.4))\n",
    "            y <- sample(x = moveChoice, 1, replace = TRUE, prob = c(0.4,0.2,0.4))\n",
    "        }\n",
    "        if (attRepMatrix[i,j] == 0) { # balanced probabilities\n",
    "            x <- sample(x = moveChoice, 1, replace = TRUE, prob = c(0.25,0.5,0.25))\n",
    "            y <- sample(x = moveChoice, 1, replace = TRUE, prob = c(0.25,0.5,0.25))\n",
    "        }\n",
    "        if (attRepMatrix[i,j] == 1) { # high probability to stay in the group\n",
    "            x <- sample(x = moveChoice, 1, replace = TRUE, prob = c(0.1,0.8,0.1))\n",
    "            y <- sample(x = moveChoice, 1, replace = TRUE, prob = c(0.1,0.8,0.1))\n",
    "        }\n",
    "        n_movers <- sample(x = c(0:matrix[i,j]), size = 1)\n",
    "        if ((i+x) >= 1 # x-coordinate lower bound check\n",
    "            & (i+x) <= NROW(matrix) # x-coordinate upper bound check\n",
    "            & (j+y) >= 1 # y-coordinate lower bound check\n",
    "            & (j+y) <= NCOL(matrix)) { # y-coordinate upper bound check\n",
    "            matrix[i,j] <- matrix[i,j] - n_movers # leave the current group\n",
    "            matrix[i+x,j+y] <- matrix[i+x,j+y] + n_movers # join the neighboring group\n",
    "        }\n",
    "        else matrix[i,j] <- matrix[i,j] - n_movers # leave the community altogether\n",
    "    }\n",
    "  }\n",
    "  return(matrix)\n",
    "}"
   ]
  },
  {
   "cell_type": "code",
   "execution_count": 4,
   "id": "fossil-principal",
   "metadata": {},
   "outputs": [],
   "source": [
    "# Number of iterations\n",
    "n_trials <- 1000\n",
    "\n",
    "# The dynamics represents the growth (birth or immigration) and the contraction (death or emigration) of the community members\n",
    "dynamics <- c(-10:12) # slightly skewed toward growth"
   ]
  },
  {
   "cell_type": "code",
   "execution_count": 5,
   "id": "retained-sucking",
   "metadata": {},
   "outputs": [],
   "source": [
    "# Simulation - run the iteration for a certain number of times\n",
    "simulation <- function(n_trials, matrix, attRepMatrix) {\n",
    "    for (i in c(1:n_trials)) {\n",
    "        randomDynamics <- sample(x = dynamics, size = nRow*nCol, replace = TRUE)\n",
    "        dynamicsMatrix <- matrix(data = randomDynamics, nrow = nRow, ncol = nCol)\n",
    "        intermediateMatrix <- matrix + dynamicsMatrix # add dynamics due to birth, death, immigration, emigration, etc.\n",
    "        intermediateMatrix[intermediateMatrix < 0] <- 0 # ensure that there is no negative group membership\n",
    "        simulatedMatrix <- iteration(matrix = intermediateMatrix, attRepMatrix = attRepMatrix)\n",
    "        }\n",
    "    return(simulatedMatrix)\n",
    "}"
   ]
  },
  {
   "cell_type": "code",
   "execution_count": 6,
   "id": "funny-complexity",
   "metadata": {},
   "outputs": [
    {
     "name": "stdout",
     "output_type": "stream",
     "text": [
      "      [,1] [,2] [,3] [,4] [,5] [,6] [,7] [,8] [,9] [,10]\n",
      " [1,]   22   29   49    2   30    5   41   28    1    48\n",
      " [2,]   50   30   18   45   13   37    8   18   21    27\n",
      " [3,]   16   19   45   49   16   20    8   33   15    11\n",
      " [4,]    2   23   13   14    9   13   45   41   18    35\n",
      " [5,]    7   50   43   44   49   37   30   14   40     8\n",
      " [6,]   15   34   10    9   17   30    1   22   23     5\n",
      " [7,]   46   26   34    1   44   16   16    7   11    16\n",
      " [8,]    6    2   44   36   34   46   50    5   29    48\n",
      " [9,]   39    6   27   24   50   13   38   50   37     7\n",
      "[10,]   36   49    5   15   15   28   20   35    9    29\n",
      "[1] \"No. of empty groups before simulation =  0\"\n",
      "[1] \"No. of large groups before simulation =  5\"\n",
      "[1] \"No. of community members before simulation =  2504\"\n",
      "[1] \"Standard deviation before simulation =  15.33\"\n"
     ]
    },
    {
     "data": {
      "image/png": "[encoded data removed]",
      "text/plain": [
       "Plot with title \"State of community before simulation\""
      ]
     },
     "metadata": {},
     "output_type": "display_data"
    }
   ],
   "source": [
    "# Print the initial state of the community\n",
    "print(myMatrix)\n",
    "print(paste(\"No. of empty groups before simulation = \", sum(myMatrix == 0)))\n",
    "print(paste(\"No. of large groups before simulation = \", sum(myMatrix >= threshold)))\n",
    "print(paste(\"No. of community members before simulation = \", sum(myMatrix)))\n",
    "print(paste(\"Standard deviation before simulation = \", round(sd(myMatrix), 2)))\n",
    "hist(myMatrix, col = \"gray\", xlab = \"No. of group members\", ylab = \"No. of groups\", \n",
    "     breaks = 10, main = \"State of community before simulation\")"
   ]
  },
  {
   "cell_type": "code",
   "execution_count": 7,
   "id": "naughty-dancing",
   "metadata": {},
   "outputs": [
    {
     "data": {
      "text/html": [
       "<table>\n",
       "<tbody>\n",
       "\t<tr><td> 0</td><td> 0</td><td> 1</td><td> 0</td><td> 0</td><td>-1</td><td> 0</td><td>0 </td><td>0 </td><td> 0</td></tr>\n",
       "\t<tr><td> 1</td><td> 0</td><td> 0</td><td> 0</td><td> 0</td><td> 1</td><td> 1</td><td>0 </td><td>0 </td><td> 0</td></tr>\n",
       "\t<tr><td> 0</td><td> 0</td><td> 0</td><td> 1</td><td> 0</td><td> 0</td><td> 0</td><td>0 </td><td>1 </td><td> 0</td></tr>\n",
       "\t<tr><td> 0</td><td>-1</td><td> 0</td><td> 0</td><td> 0</td><td> 0</td><td> 0</td><td>1 </td><td>0 </td><td> 1</td></tr>\n",
       "\t<tr><td> 0</td><td> 0</td><td> 0</td><td> 0</td><td>-1</td><td>-1</td><td> 0</td><td>0 </td><td>0 </td><td> 0</td></tr>\n",
       "\t<tr><td> 0</td><td> 0</td><td> 0</td><td> 0</td><td> 0</td><td> 0</td><td>-1</td><td>0 </td><td>0 </td><td> 0</td></tr>\n",
       "\t<tr><td> 1</td><td> 0</td><td> 1</td><td> 0</td><td> 1</td><td> 0</td><td> 0</td><td>0 </td><td>0 </td><td> 0</td></tr>\n",
       "\t<tr><td> 1</td><td> 0</td><td> 1</td><td> 0</td><td> 1</td><td>-1</td><td> 1</td><td>1 </td><td>1 </td><td> 0</td></tr>\n",
       "\t<tr><td> 0</td><td> 1</td><td>-1</td><td> 1</td><td> 0</td><td> 0</td><td> 1</td><td>0 </td><td>0 </td><td>-1</td></tr>\n",
       "\t<tr><td>-1</td><td> 0</td><td> 1</td><td>-1</td><td> 0</td><td> 0</td><td> 0</td><td>0 </td><td>1 </td><td> 0</td></tr>\n",
       "</tbody>\n",
       "</table>\n"
      ],
      "text/latex": [
       "\\begin{tabular}{llllllllll}\n",
       "\t  0 &  0 &  1 &  0 &  0 & -1 &  0 & 0  & 0  &  0\\\\\n",
       "\t  1 &  0 &  0 &  0 &  0 &  1 &  1 & 0  & 0  &  0\\\\\n",
       "\t  0 &  0 &  0 &  1 &  0 &  0 &  0 & 0  & 1  &  0\\\\\n",
       "\t  0 & -1 &  0 &  0 &  0 &  0 &  0 & 1  & 0  &  1\\\\\n",
       "\t  0 &  0 &  0 &  0 & -1 & -1 &  0 & 0  & 0  &  0\\\\\n",
       "\t  0 &  0 &  0 &  0 &  0 &  0 & -1 & 0  & 0  &  0\\\\\n",
       "\t  1 &  0 &  1 &  0 &  1 &  0 &  0 & 0  & 0  &  0\\\\\n",
       "\t  1 &  0 &  1 &  0 &  1 & -1 &  1 & 1  & 1  &  0\\\\\n",
       "\t  0 &  1 & -1 &  1 &  0 &  0 &  1 & 0  & 0  & -1\\\\\n",
       "\t -1 &  0 &  1 & -1 &  0 &  0 &  0 & 0  & 1  &  0\\\\\n",
       "\\end{tabular}\n"
      ],
      "text/markdown": [
       "\n",
       "|  0 |  0 |  1 |  0 |  0 | -1 |  0 | 0  | 0  |  0 |\n",
       "|  1 |  0 |  0 |  0 |  0 |  1 |  1 | 0  | 0  |  0 |\n",
       "|  0 |  0 |  0 |  1 |  0 |  0 |  0 | 0  | 1  |  0 |\n",
       "|  0 | -1 |  0 |  0 |  0 |  0 |  0 | 1  | 0  |  1 |\n",
       "|  0 |  0 |  0 |  0 | -1 | -1 |  0 | 0  | 0  |  0 |\n",
       "|  0 |  0 |  0 |  0 |  0 |  0 | -1 | 0  | 0  |  0 |\n",
       "|  1 |  0 |  1 |  0 |  1 |  0 |  0 | 0  | 0  |  0 |\n",
       "|  1 |  0 |  1 |  0 |  1 | -1 |  1 | 1  | 1  |  0 |\n",
       "|  0 |  1 | -1 |  1 |  0 |  0 |  1 | 0  | 0  | -1 |\n",
       "| -1 |  0 |  1 | -1 |  0 |  0 |  0 | 0  | 1  |  0 |\n",
       "\n"
      ],
      "text/plain": [
       "      [,1] [,2] [,3] [,4] [,5] [,6] [,7] [,8] [,9] [,10]\n",
       " [1,]  0    0    1    0    0   -1    0   0    0     0   \n",
       " [2,]  1    0    0    0    0    1    1   0    0     0   \n",
       " [3,]  0    0    0    1    0    0    0   0    1     0   \n",
       " [4,]  0   -1    0    0    0    0    0   1    0     1   \n",
       " [5,]  0    0    0    0   -1   -1    0   0    0     0   \n",
       " [6,]  0    0    0    0    0    0   -1   0    0     0   \n",
       " [7,]  1    0    1    0    1    0    0   0    0     0   \n",
       " [8,]  1    0    1    0    1   -1    1   1    1     0   \n",
       " [9,]  0    1   -1    1    0    0    1   0    0    -1   \n",
       "[10,] -1    0    1   -1    0    0    0   0    1     0   "
      ]
     },
     "metadata": {},
     "output_type": "display_data"
    }
   ],
   "source": [
    "# Print the matrix of attractors, repellers and neutral groups\n",
    "myAttRepMatrix"
   ]
  },
  {
   "cell_type": "code",
   "execution_count": 8,
   "id": "extensive-license",
   "metadata": {},
   "outputs": [
    {
     "name": "stdout",
     "output_type": "stream",
     "text": [
      "      [,1] [,2] [,3] [,4] [,5] [,6] [,7] [,8] [,9] [,10]\n",
      " [1,]   13   59   22   19   17    4   11   15    2    37\n",
      " [2,]   49   25    1   42   29   46   20   83    2    41\n",
      " [3,]   22   14   53   94   28    2   41    9   22    16\n",
      " [4,]   17    5    3    1    3   38    5   82    2    60\n",
      " [5,]    0   49   16   60   60   31   48    0   20     5\n",
      " [6,]    3   24    7    8   23   27    0   24   18     0\n",
      " [7,]   55    3   67   12   48    3   11   27    4     8\n",
      " [8,]    7    0   61   36   48   42   66   37   28    53\n",
      " [9,]   44    3   15   48   33   11   35   40    5     7\n",
      "[10,]   50   50    4   18   23   43   23   45    5     4\n",
      "[1] \"No. of empty groups after simulation =  5\"\n",
      "[1] \"No. of large groups after simulation =  15\"\n",
      "[1] \"No. of community members after simulation =  2599\"\n",
      "[1] \"Standard deviation after simulation =  22.04\"\n"
     ]
    },
    {
     "data": {
      "image/png": "[encoded data removed]",
      "text/plain": [
       "Plot with title \"State of community after simulation\""
      ]
     },
     "metadata": {},
     "output_type": "display_data"
    }
   ],
   "source": [
    "# Run the simulation and print the changed state of the community\n",
    "newMyMatrix <- simulation(n_trials = n_trials, matrix = myMatrix, attRepMatrix = myAttRepMatrix)\n",
    "\n",
    "print(newMyMatrix)\n",
    "print(paste(\"No. of empty groups after simulation = \", sum(newMyMatrix == 0)))\n",
    "print(paste(\"No. of large groups after simulation = \", sum(newMyMatrix >= threshold)))\n",
    "print(paste(\"No. of community members after simulation = \", sum(newMyMatrix)))\n",
    "print(paste(\"Standard deviation after simulation = \", round(sd(newMyMatrix), 2)))\n",
    "hist(newMyMatrix, col = \"gray\", xlab = \"No. of group members\", ylab = \"No. of groups\", \n",
    "     breaks = 10, main = \"State of community after simulation\")"
   ]
  }
 ],
 "metadata": {
  "kernelspec": {
   "display_name": "R",
   "language": "R",
   "name": "ir"
  },
  "language_info": {
   "codemirror_mode": "r",
   "file_extension": ".r",
   "mimetype": "text/x-r-source",
   "name": "R",
   "pygments_lexer": "r",
   "version": "3.6.1"
  }
 },
 "nbformat": 4,
 "nbformat_minor": 5
}
