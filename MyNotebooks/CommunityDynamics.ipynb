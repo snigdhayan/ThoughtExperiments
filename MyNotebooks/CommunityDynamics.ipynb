{
 "cells": [
  {
   "cell_type": "markdown",
   "id": "433f9662",
   "metadata": {},
   "source": [
    "# Community dynamics\n",
    "## Author: Snigdhayan Mahanta\n",
    "I created a community of groups as a matrix. Each cell represents a group and the cell entry is the number of its members. \n",
    "I simulated the evolution of the community and its groups under some natural system dynamics. In several runs of the simulation I noticed that the shapes of the histograms depicted below remain approximately the same. For the first histogram describing the initial state of the community this fact is not very surprising based on my simulation parameters."
   ]
  },
  {
   "cell_type": "code",
   "execution_count": 1,
   "id": "hungarian-kelly",
   "metadata": {},
   "outputs": [],
   "source": [
    "# Create a community of groups as a matrix\n",
    "nRow <- 10\n",
    "nCol <- 10\n",
    "threshold <- 50 # if the number of members of a group equals or exceeds the threshold then I call it large\n",
    "randomData <- sample(x = c(0:threshold), size = nRow*nCol, replace = TRUE) # initial group size capped at threshold\n",
    "myData <- rep(randomData, nRow*nCol)\n",
    "myMatrix <- matrix(data = myData, nrow = nRow, ncol = nCol)"
   ]
  },
  {
   "cell_type": "code",
   "execution_count": 2,
   "id": "military-trance",
   "metadata": {},
   "outputs": [],
   "source": [
    "# Label groups as repeller,  neutral and attractor by -1, 0 and 1 respectively\n",
    "att = 0.2 # fraction of attractors\n",
    "rep = 0.1 # fraction of repellers\n",
    "neutral = 1 - att - rep # fraction of neutral groups\n",
    "\n",
    "attRep <- sample(x = c(-1, 0, 1), size = nRow*nCol, replace = TRUE, prob = c(rep, neutral, att)) # randomly label the groups\n",
    "myAttRep <- rep(attRep, nRow*nCol)\n",
    "myAttRepMatrix <- matrix(data = myAttRep, nrow = nRow, ncol = nCol)\n",
    "\n",
    "# The choice to move or not\n",
    "moveChoice <- c(-1, 0, 1) # -1 and 1 represent choices to move and 0 represents the choice to stay"
   ]
  },
  {
   "cell_type": "code",
   "execution_count": 3,
   "id": "drawn-procedure",
   "metadata": {},
   "outputs": [],
   "source": [
    "# Iteration - the propensity of the members to move is controlled by the type of the group (attractor, repeller or neutral)\n",
    "iteration <- function(matrix, attRepMatrix) {\n",
    "  for (i in c(1:NROW(matrix))) {\n",
    "    for (j in c(1:NCOL(matrix))) {\n",
    "        if (attRepMatrix[i,j] == -1) { # high probability to move out of the group\n",
    "            x <- sample(x = moveChoice, 1, replace = TRUE, prob = c(0.4,0.2,0.4))\n",
    "            y <- sample(x = moveChoice, 1, replace = TRUE, prob = c(0.4,0.2,0.4))\n",
    "        }\n",
    "        if (attRepMatrix[i,j] == 0) { # balanced probabilities\n",
    "            x <- sample(x = moveChoice, 1, replace = TRUE, prob = c(0.25,0.5,0.25))\n",
    "            y <- sample(x = moveChoice, 1, replace = TRUE, prob = c(0.25,0.5,0.25))\n",
    "        }\n",
    "        if (attRepMatrix[i,j] == 1) { # high probability to stay in the group\n",
    "            x <- sample(x = moveChoice, 1, replace = TRUE, prob = c(0.1,0.8,0.1))\n",
    "            y <- sample(x = moveChoice, 1, replace = TRUE, prob = c(0.1,0.8,0.1))\n",
    "        }\n",
    "        n_movers <- sample(x = c(0:matrix[i,j]), size = 1)\n",
    "        if ((i+x) >= 1 # x-coordinate lower bound check\n",
    "            & (i+x) <= NROW(matrix) # x-coordinate upper bound check\n",
    "            & (j+y) >= 1 # y-coordinate lower bound check\n",
    "            & (j+y) <= NCOL(matrix)) { # y-coordinate upper bound check\n",
    "            matrix[i,j] <- matrix[i,j] - n_movers # leave the current group\n",
    "            matrix[i+x,j+y] <- matrix[i+x,j+y] + n_movers # join the neighboring group\n",
    "        }\n",
    "        else matrix[i,j] <- matrix[i,j] - n_movers # leave the community altogether\n",
    "    }\n",
    "  }\n",
    "  return(matrix)\n",
    "}"
   ]
  },
  {
   "cell_type": "code",
   "execution_count": 4,
   "id": "fossil-principal",
   "metadata": {},
   "outputs": [],
   "source": [
    "# Number of iterations\n",
    "n_trials <- 1000\n",
    "\n",
    "# The dynamics represents the growth (birth or immigration) and the contraction (death or emigration) of the community members\n",
    "dynamics <- c(-10:12) # slightly skewed toward growth"
   ]
  },
  {
   "cell_type": "code",
   "execution_count": 5,
   "id": "retained-sucking",
   "metadata": {},
   "outputs": [],
   "source": [
    "# Simulation - run the iteration for a certain number of times\n",
    "simulation <- function(n_trials, matrix, attRepMatrix) {\n",
    "    for (i in c(1:n_trials)) {\n",
    "        randomDynamics <- sample(x = dynamics, size = nRow*nCol, replace = TRUE)\n",
    "        dynamicsMatrix <- matrix(data = randomDynamics, nrow = nRow, ncol = nCol)\n",
    "        intermediateMatrix <- matrix + dynamicsMatrix # add dynamics due to birth, death, immigration, emigration, etc.\n",
    "        intermediateMatrix[intermediateMatrix < 0] <- 0 # ensure that there is no negative group membership\n",
    "        simulatedMatrix <- iteration(matrix = intermediateMatrix, attRepMatrix = attRepMatrix)\n",
    "        }\n",
    "    return(simulatedMatrix)\n",
    "}"
   ]
  },
  {
   "cell_type": "code",
   "execution_count": 6,
   "id": "funny-complexity",
   "metadata": {},
   "outputs": [
    {
     "name": "stdout",
     "output_type": "stream",
     "text": [
      "      [,1] [,2] [,3] [,4] [,5] [,6] [,7] [,8] [,9] [,10]\n",
      " [1,]   19   19   46   28   49    4   45   23   47    25\n",
      " [2,]    1    0   39   39    4   22   17   33   44    21\n",
      " [3,]   17    3   20   34   32   38   42    4   14     9\n",
      " [4,]   32   45   12   20   24   29   43   48   41    48\n",
      " [5,]   30    5   30   29   12   22   32   24   15    26\n",
      " [6,]   11   29    8   34   41    1   17   37    3    26\n",
      " [7,]   47   15   34   35   44   33   23   23   15     6\n",
      " [8,]   31    6   43   36   18   29   15   11   37    20\n",
      " [9,]   24   18   50   36   19   31   21    9   26    29\n",
      "[10,]   25    4    6   30   21    7   37   10   30    50\n",
      "[1] \"No. of empty groups before simulation =  1\"\n",
      "[1] \"No. of large groups before simulation =  2\"\n",
      "[1] \"No. of community members before simulation =  2516\"\n",
      "[1] \"Standard deviation before simulation =  13.68\"\n"
     ]
    },
    {
     "data": {
      "image/png": "[encoded data removed]",
      "text/plain": [
       "Plot with title \"State of community before simulation\""
      ]
     },
     "metadata": {
      "image/png": {
       "height": 420,
       "width": 420
      }
     },
     "output_type": "display_data"
    }
   ],
   "source": [
    "# Print the initial state of the community\n",
    "print(myMatrix)\n",
    "print(paste(\"No. of empty groups before simulation = \", sum(myMatrix == 0)))\n",
    "print(paste(\"No. of large groups before simulation = \", sum(myMatrix >= threshold)))\n",
    "print(paste(\"No. of community members before simulation = \", sum(myMatrix)))\n",
    "print(paste(\"Standard deviation before simulation = \", round(sd(myMatrix), 2)))\n",
    "hist(myMatrix, col = \"blue\", xlab = \"No. of group members\", ylab = \"No. of groups\", \n",
    "     breaks = 10, main = \"State of community before simulation\",\n",
    "     cex.main = 2, cex.lab = 1.5, cex.axis = 1.5)"
   ]
  },
  {
   "cell_type": "code",
   "execution_count": 7,
   "id": "naughty-dancing",
   "metadata": {},
   "outputs": [
    {
     "data": {
      "text/html": [
       "<table class=\"dataframe\">\n",
       "<caption>A matrix: 10 × 10 of type dbl</caption>\n",
       "<tbody>\n",
       "\t<tr><td>0</td><td>1</td><td>0</td><td>-1</td><td> 1</td><td> 0</td><td> 0</td><td>0</td><td>-1</td><td>0</td></tr>\n",
       "\t<tr><td>0</td><td>0</td><td>0</td><td> 0</td><td> 0</td><td> 0</td><td> 0</td><td>0</td><td> 0</td><td>0</td></tr>\n",
       "\t<tr><td>0</td><td>0</td><td>0</td><td> 0</td><td> 1</td><td> 0</td><td> 0</td><td>0</td><td> 0</td><td>0</td></tr>\n",
       "\t<tr><td>0</td><td>0</td><td>0</td><td> 0</td><td> 0</td><td> 0</td><td> 1</td><td>0</td><td> 1</td><td>0</td></tr>\n",
       "\t<tr><td>0</td><td>0</td><td>0</td><td> 0</td><td> 0</td><td> 0</td><td> 0</td><td>1</td><td> 0</td><td>0</td></tr>\n",
       "\t<tr><td>1</td><td>1</td><td>0</td><td> 0</td><td> 1</td><td> 1</td><td> 0</td><td>0</td><td> 0</td><td>0</td></tr>\n",
       "\t<tr><td>0</td><td>0</td><td>0</td><td> 0</td><td> 1</td><td> 0</td><td>-1</td><td>0</td><td>-1</td><td>0</td></tr>\n",
       "\t<tr><td>0</td><td>0</td><td>0</td><td> 0</td><td> 0</td><td>-1</td><td> 0</td><td>0</td><td> 0</td><td>0</td></tr>\n",
       "\t<tr><td>0</td><td>0</td><td>0</td><td> 0</td><td>-1</td><td> 1</td><td> 0</td><td>1</td><td> 0</td><td>0</td></tr>\n",
       "\t<tr><td>1</td><td>0</td><td>0</td><td> 0</td><td> 0</td><td>-1</td><td> 0</td><td>0</td><td>-1</td><td>1</td></tr>\n",
       "</tbody>\n",
       "</table>\n"
      ],
      "text/latex": [
       "A matrix: 10 × 10 of type dbl\n",
       "\\begin{tabular}{llllllllll}\n",
       "\t 0 & 1 & 0 & -1 &  1 &  0 &  0 & 0 & -1 & 0\\\\\n",
       "\t 0 & 0 & 0 &  0 &  0 &  0 &  0 & 0 &  0 & 0\\\\\n",
       "\t 0 & 0 & 0 &  0 &  1 &  0 &  0 & 0 &  0 & 0\\\\\n",
       "\t 0 & 0 & 0 &  0 &  0 &  0 &  1 & 0 &  1 & 0\\\\\n",
       "\t 0 & 0 & 0 &  0 &  0 &  0 &  0 & 1 &  0 & 0\\\\\n",
       "\t 1 & 1 & 0 &  0 &  1 &  1 &  0 & 0 &  0 & 0\\\\\n",
       "\t 0 & 0 & 0 &  0 &  1 &  0 & -1 & 0 & -1 & 0\\\\\n",
       "\t 0 & 0 & 0 &  0 &  0 & -1 &  0 & 0 &  0 & 0\\\\\n",
       "\t 0 & 0 & 0 &  0 & -1 &  1 &  0 & 1 &  0 & 0\\\\\n",
       "\t 1 & 0 & 0 &  0 &  0 & -1 &  0 & 0 & -1 & 1\\\\\n",
       "\\end{tabular}\n"
      ],
      "text/markdown": [
       "\n",
       "A matrix: 10 × 10 of type dbl\n",
       "\n",
       "| 0 | 1 | 0 | -1 |  1 |  0 |  0 | 0 | -1 | 0 |\n",
       "| 0 | 0 | 0 |  0 |  0 |  0 |  0 | 0 |  0 | 0 |\n",
       "| 0 | 0 | 0 |  0 |  1 |  0 |  0 | 0 |  0 | 0 |\n",
       "| 0 | 0 | 0 |  0 |  0 |  0 |  1 | 0 |  1 | 0 |\n",
       "| 0 | 0 | 0 |  0 |  0 |  0 |  0 | 1 |  0 | 0 |\n",
       "| 1 | 1 | 0 |  0 |  1 |  1 |  0 | 0 |  0 | 0 |\n",
       "| 0 | 0 | 0 |  0 |  1 |  0 | -1 | 0 | -1 | 0 |\n",
       "| 0 | 0 | 0 |  0 |  0 | -1 |  0 | 0 |  0 | 0 |\n",
       "| 0 | 0 | 0 |  0 | -1 |  1 |  0 | 1 |  0 | 0 |\n",
       "| 1 | 0 | 0 |  0 |  0 | -1 |  0 | 0 | -1 | 1 |\n",
       "\n"
      ],
      "text/plain": [
       "      [,1] [,2] [,3] [,4] [,5] [,6] [,7] [,8] [,9] [,10]\n",
       " [1,] 0    1    0    -1    1    0    0   0    -1   0    \n",
       " [2,] 0    0    0     0    0    0    0   0     0   0    \n",
       " [3,] 0    0    0     0    1    0    0   0     0   0    \n",
       " [4,] 0    0    0     0    0    0    1   0     1   0    \n",
       " [5,] 0    0    0     0    0    0    0   1     0   0    \n",
       " [6,] 1    1    0     0    1    1    0   0     0   0    \n",
       " [7,] 0    0    0     0    1    0   -1   0    -1   0    \n",
       " [8,] 0    0    0     0    0   -1    0   0     0   0    \n",
       " [9,] 0    0    0     0   -1    1    0   1     0   0    \n",
       "[10,] 1    0    0     0    0   -1    0   0    -1   1    "
      ]
     },
     "metadata": {},
     "output_type": "display_data"
    }
   ],
   "source": [
    "# Print the matrix of attractors, repellers and neutral groups\n",
    "myAttRepMatrix"
   ]
  },
  {
   "cell_type": "code",
   "execution_count": 8,
   "id": "extensive-license",
   "metadata": {},
   "outputs": [
    {
     "name": "stdout",
     "output_type": "stream",
     "text": [
      "      [,1] [,2] [,3] [,4] [,5] [,6] [,7] [,8] [,9] [,10]\n",
      " [1,]    9    3   13   22   43    2   30   31   77    10\n",
      " [2,]    0   60   10   44   17   15   15   13   18    10\n",
      " [3,]    9    0   21    3   55   43   56   26   20    16\n",
      " [4,]   30   29   22   12   18   40   39   28   91    38\n",
      " [5,]   23   12   26   17    8   17   45   33   25    18\n",
      " [6,]   24   20    3   21   46    0    7   45   14     9\n",
      " [7,]   55   48   16   33   67   12    7   13    4     0\n",
      " [8,]   16   10   41    3   29   25   43   13   30    30\n",
      " [9,]   25    6    1   51   18   28    4    8   38     9\n",
      "[10,]   89    4    4   17   14   21   23   17   27    61\n",
      "[1] \"No. of empty groups after simulation =  4\"\n",
      "[1] \"No. of large groups after simulation =  10\"\n",
      "[1] \"No. of community members after simulation =  2411\"\n",
      "[1] \"Standard deviation after simulation =  19.19\"\n"
     ]
    },
    {
     "data": {
      "image/png": "[encoded data removed]",
      "text/plain": [
       "Plot with title \"State of community after simulation\""
      ]
     },
     "metadata": {
      "image/png": {
       "height": 420,
       "width": 420
      }
     },
     "output_type": "display_data"
    }
   ],
   "source": [
    "# Run the simulation and print the changed state of the community\n",
    "newMyMatrix <- simulation(n_trials = n_trials, matrix = myMatrix, attRepMatrix = myAttRepMatrix)\n",
    "\n",
    "print(newMyMatrix)\n",
    "print(paste(\"No. of empty groups after simulation = \", sum(newMyMatrix == 0)))\n",
    "print(paste(\"No. of large groups after simulation = \", sum(newMyMatrix >= threshold)))\n",
    "print(paste(\"No. of community members after simulation = \", sum(newMyMatrix)))\n",
    "print(paste(\"Standard deviation after simulation = \", round(sd(newMyMatrix), 2)))\n",
    "hist(newMyMatrix, col = \"green\", xlab = \"No. of group members\", ylab = \"No. of groups\", \n",
    "     breaks = 10, main = \"State of community after simulation\", \n",
    "     cex.main = 2, cex.lab = 1.5, cex.axis = 1.5)"
   ]
  },
  {
   "cell_type": "markdown",
   "id": "c4cfc04a",
   "metadata": {},
   "source": [
    "I noticed that the standard deviation consistently increased after the simulation run. Moreover, a few large groups started to emerge."
   ]
  }
 ],
 "metadata": {
  "kernelspec": {
   "display_name": "R",
   "language": "R",
   "name": "ir"
  },
  "language_info": {
   "codemirror_mode": "r",
   "file_extension": ".r",
   "mimetype": "text/x-r-source",
   "name": "R",
   "pygments_lexer": "r",
   "version": "3.6.3"
  }
 },
 "nbformat": 4,
 "nbformat_minor": 5
}
