{
 "cells": [
  {
   "cell_type": "markdown",
   "id": "entitled-banana",
   "metadata": {},
   "source": [
    "# Community evolution\n",
    "\n",
    "We represent a community of groups as a matrix. Each cell represents a group and the cell entry is the number of its members. \n",
    "The aim is to simulate the evolution of the community and its groups if members randomly join and leave the groups.\n",
    "The current implementation is incomplete. I would like to enhance the setup with `attractors` and `repellers` in future."
   ]
  },
  {
   "cell_type": "code",
   "execution_count": 1,
   "id": "hungarian-kelly",
   "metadata": {},
   "outputs": [],
   "source": [
    "# Create a community of groups as a matrix\n",
    "nRow <- 5\n",
    "nCol <- 5\n",
    "randomData <- sample(x = c(0:50), size = nRow*nCol, replace = TRUE)\n",
    "myData <- rep(randomData,nRow*nCol)\n",
    "myMatrix <- matrix(data = myData, nrow = nRow, ncol = nCol)\n",
    "threshold <- 50 # if the number of members of a group exceeds threshold it is called large"
   ]
  },
  {
   "cell_type": "code",
   "execution_count": 2,
   "id": "military-trance",
   "metadata": {},
   "outputs": [],
   "source": [
    "# The possibility to move to a neighboring group or not\n",
    "choice <- c(-1,0,1)"
   ]
  },
  {
   "cell_type": "code",
   "execution_count": 3,
   "id": "drawn-procedure",
   "metadata": {},
   "outputs": [],
   "source": [
    "# In each iteration one member can leave the current group and join a neighboring group\n",
    "iteration <- function(matrix) {\n",
    "  for (i in c(1:NROW(matrix))) {\n",
    "    for (j in c(1:NCOL(matrix))) {\n",
    "        x <- sample(choice, 1, replace = TRUE)\n",
    "        y <- sample(choice, 1, replace = TRUE)\n",
    "        if ((i+x) >= 1 # x-coordinate lower bound check\n",
    "            & (i + x) <= NROW(matrix) # x-coordinate upper bound check\n",
    "            & (j + y) >= 1 # y-coordinate lower bound check\n",
    "            & (j + y) <= NCOL(matrix) # y-coordinate upper bound check\n",
    "            & (matrix[i,j] - 1 >= 0)) { # hotspot is non-empty\n",
    "            matrix[i,j] <- matrix[i,j] - 1\n",
    "            matrix[i+x,j+y] <- matrix[i+x,j+y] + 1\n",
    "        }\n",
    "        else matrix[i,j] <- 0\n",
    "    }\n",
    "  }\n",
    "  return(matrix)\n",
    "}"
   ]
  },
  {
   "cell_type": "code",
   "execution_count": 4,
   "id": "fossil-principal",
   "metadata": {},
   "outputs": [],
   "source": [
    "# Number of iterations\n",
    "n_trials <- 1000\n",
    "\n",
    "# The noise represents the addition (birth or immigration) and the subtraction (death or emigration) of community members\n",
    "noise <- c(-2:2)"
   ]
  },
  {
   "cell_type": "code",
   "execution_count": 5,
   "id": "retained-sucking",
   "metadata": {},
   "outputs": [],
   "source": [
    "# Run the iteration for a certain number of times\n",
    "simulation <- function(n_trials, matrix) {\n",
    "    for (i in c(1:n_trials)) {\n",
    "        randomNoise <- sample(x = noise, size = nRow*nCol, replace = TRUE)\n",
    "        noiseMatrix <- matrix(data = randomNoise, nrow = nRow, ncol = nCol)\n",
    "        simulatedMatrix <- iteration(matrix + noiseMatrix)\n",
    "        }\n",
    "    return(simulatedMatrix)\n",
    "}"
   ]
  },
  {
   "cell_type": "code",
   "execution_count": 6,
   "id": "funny-complexity",
   "metadata": {},
   "outputs": [
    {
     "name": "stdout",
     "output_type": "stream",
     "text": [
      "     [,1] [,2] [,3] [,4] [,5]\n",
      "[1,]    7   24   39   15   30\n",
      "[2,]   36    4   16   15    5\n",
      "[3,]   46    8   41   21   12\n",
      "[4,]   24   13   34   39   46\n",
      "[5,]   15   32   50   42   31\n",
      "[1] \"#Empty groups before simulation =  0\"\n",
      "[1] \"#Large groups before simulation =  1\"\n",
      "[1] \"#Community members before simulation =  645\"\n",
      "[1] \"Std. Dev. before simulation =  14.3\"\n"
     ]
    }
   ],
   "source": [
    "# Print the initial state of the community\n",
    "print(myMatrix)\n",
    "print(paste(\"#Empty groups before simulation = \", sum(myMatrix == 0)))\n",
    "print(paste(\"#Large groups before simulation = \", sum(myMatrix >= threshold)))\n",
    "print(paste(\"#Community members before simulation = \", sum(myMatrix)))\n",
    "print(paste(\"Std. Dev. before simulation = \", round(sd(myMatrix),2)))"
   ]
  },
  {
   "cell_type": "code",
   "execution_count": 7,
   "id": "canadian-certificate",
   "metadata": {},
   "outputs": [
    {
     "name": "stdout",
     "output_type": "stream",
     "text": [
      "     [,1] [,2] [,3] [,4] [,5]\n",
      "[1,]    1   24   39   15   28\n",
      "[2,]   35    3   16   17    7\n",
      "[3,]   45   11   40   21   14\n",
      "[4,]   26   15   32   40    1\n",
      "[5,]   13   34   51   43   29\n",
      "[1] \"#Empty groups after simulation =  0\"\n",
      "[1] \"#Large groups after simulation =  1\"\n",
      "[1] \"#Community members after simulation =  600\"\n",
      "[1] \"Std. Dev. after simulation =  14.52\"\n"
     ]
    }
   ],
   "source": [
    "# Run the simulation and print the changed state of the community\n",
    "newMyMatrix <- simulation(n_trials, myMatrix)\n",
    "\n",
    "print(newMyMatrix)\n",
    "print(paste(\"#Empty groups after simulation = \", sum(newMyMatrix == 0)))\n",
    "print(paste(\"#Large groups after simulation = \", sum(newMyMatrix >= threshold)))\n",
    "print(paste(\"#Community members after simulation = \", sum(newMyMatrix)))\n",
    "print(paste(\"Std. Dev. after simulation = \", round(sd(newMyMatrix),2)))"
   ]
  }
 ],
 "metadata": {
  "kernelspec": {
   "display_name": "R",
   "language": "R",
   "name": "ir"
  },
  "language_info": {
   "codemirror_mode": "r",
   "file_extension": ".r",
   "mimetype": "text/x-r-source",
   "name": "R",
   "pygments_lexer": "r",
   "version": "3.6.1"
  }
 },
 "nbformat": 4,
 "nbformat_minor": 5
}
