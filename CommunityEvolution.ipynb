{
 "cells": [
  {
   "cell_type": "markdown",
   "id": "pressing-folder",
   "metadata": {},
   "source": [
    "# Community evolution\n",
    "\n",
    "We represent a community of groups as a matrix. Each cell represents a group and the cell entry is the number of its members. \n",
    "The aim is to simulate the evolution of the community and its groups under some natural dynamics.\n",
    "The current implementation is incomplete. I would like to enhance the setup with `attractors` and `repellers` in future.\n",
    "In several runs of the simulation I noticed that the shapes of the histograms depicted below remain the same.\n",
    "For the first histogram describing the initial state of the community this fact is not very surprising.\n",
    "Moreover, the standard deviation also increases after the simulation run."
   ]
  },
  {
   "cell_type": "code",
   "execution_count": 1,
   "id": "hungarian-kelly",
   "metadata": {},
   "outputs": [],
   "source": [
    "# Create a community of groups as a matrix\n",
    "nRow <- 10\n",
    "nCol <- 10\n",
    "threshold <- 50 # if the number of members of a group exceeds the threshold then I call it large\n",
    "randomData <- sample(x = c(0:threshold), size = nRow*nCol, replace = TRUE) # initial group size capped at threshold\n",
    "myData <- rep(randomData, nRow*nCol)\n",
    "myMatrix <- matrix(data = myData, nrow = nRow, ncol = nCol)"
   ]
  },
  {
   "cell_type": "code",
   "execution_count": 2,
   "id": "military-trance",
   "metadata": {},
   "outputs": [],
   "source": [
    "# The possibility to move to a neighboring group or not\n",
    "choice <- c(-1, 0, 1)"
   ]
  },
  {
   "cell_type": "code",
   "execution_count": 3,
   "id": "drawn-procedure",
   "metadata": {},
   "outputs": [],
   "source": [
    "# Iteration - somes members of a group can leave their group and join a neighboring group or leave the community altogether\n",
    "iteration <- function(matrix) {\n",
    "  for (i in c(1:NROW(matrix))) {\n",
    "    for (j in c(1:NCOL(matrix))) {\n",
    "        x <- sample(choice, 1, replace = TRUE)\n",
    "        y <- sample(choice, 1, replace = TRUE)\n",
    "        n_movers <- sample(x = c(0:matrix[i,j]), size = 1)\n",
    "        if ((i+x) >= 1 # x-coordinate lower bound check\n",
    "            & (i+x) <= NROW(matrix) # x-coordinate upper bound check\n",
    "            & (j+y) >= 1 # y-coordinate lower bound check\n",
    "            & (j+y) <= NCOL(matrix)) { # y-coordinate upper bound check\n",
    "            matrix[i,j] <- matrix[i,j] - n_movers # leave the current group\n",
    "            matrix[i+x,j+y] <- matrix[i+x,j+y] + n_movers # join the neighboring group\n",
    "        }\n",
    "        else matrix[i,j] <- matrix[i,j] - n_movers # leave the community altogether\n",
    "    }\n",
    "  }\n",
    "  return(matrix)\n",
    "}"
   ]
  },
  {
   "cell_type": "code",
   "execution_count": 4,
   "id": "fossil-principal",
   "metadata": {},
   "outputs": [],
   "source": [
    "# Number of iterations\n",
    "n_trials <- 100\n",
    "\n",
    "# The dynamics represents the growth (birth or immigration) and the contraction (death or emigration) of the community members\n",
    "dynamics <- c(-10:12) # slightly skewed toward growth"
   ]
  },
  {
   "cell_type": "code",
   "execution_count": 5,
   "id": "retained-sucking",
   "metadata": {},
   "outputs": [],
   "source": [
    "# Simulation - run the iteration for a certain number of times\n",
    "simulation <- function(n_trials, matrix) {\n",
    "    for (i in c(1:n_trials)) {\n",
    "        randomDynamics <- sample(x = dynamics, size = nRow*nCol, replace = TRUE)\n",
    "        dynamicsMatrix <- matrix(data = randomDynamics, nrow = nRow, ncol = nCol)\n",
    "        intermediateMatrix <- matrix + dynamicsMatrix # changes due to birth, death, immigration, emigration, etc.\n",
    "        intermediateMatrix[intermediateMatrix < 0] <- 0 # ensure that there is no negative group membership\n",
    "        simulatedMatrix <- iteration(intermediateMatrix)\n",
    "        }\n",
    "    return(simulatedMatrix)\n",
    "}"
   ]
  },
  {
   "cell_type": "code",
   "execution_count": 6,
   "id": "funny-complexity",
   "metadata": {},
   "outputs": [
    {
     "name": "stdout",
     "output_type": "stream",
     "text": [
      "      [,1] [,2] [,3] [,4] [,5] [,6] [,7] [,8] [,9] [,10]\n",
      " [1,]   16   22   50   50   22   38   27    8   28     4\n",
      " [2,]   41   46   38   36   19   35   24   38   27    50\n",
      " [3,]   18   13   19   31   45    3    4   12   34    12\n",
      " [4,]   24   43   38   48   16   28   20   13   36     9\n",
      " [5,]   40   30    8   23   50   27    4   23   26    16\n",
      " [6,]   49    9    1   10    5    3    6   32   45    33\n",
      " [7,]    6   33    0    3   33   22    6   12   37    15\n",
      " [8,]   10    1   13   37   28   35    4   16   50    48\n",
      " [9,]   47   44    3   39   36    2   31   32   28    47\n",
      "[10,]   18   14   35   10   32   27   37   19   30    24\n",
      "[1] \"No. of empty groups before simulation =  1\"\n",
      "[1] \"No. of large groups before simulation =  5\"\n",
      "[1] \"No. of community members before simulation =  2489\"\n",
      "[1] \"Standard deviation before simulation =  14.81\"\n"
     ]
    },
    {
     "data": {
      "image/png": "[encoded data removed]",
      "text/plain": [
       "Plot with title \"State of community before simulation\""
      ]
     },
     "metadata": {},
     "output_type": "display_data"
    }
   ],
   "source": [
    "# Print the initial state of the community\n",
    "print(myMatrix)\n",
    "print(paste(\"No. of empty groups before simulation = \", sum(myMatrix == 0)))\n",
    "print(paste(\"No. of large groups before simulation = \", sum(myMatrix >= threshold)))\n",
    "print(paste(\"No. of community members before simulation = \", sum(myMatrix)))\n",
    "print(paste(\"Standard deviation before simulation = \", round(sd(myMatrix), 2)))\n",
    "hist(myMatrix, col = \"gray\", xlab = \"Group members\", breaks = 10, main = \"State of community before simulation\")"
   ]
  },
  {
   "cell_type": "code",
   "execution_count": 7,
   "id": "extensive-license",
   "metadata": {},
   "outputs": [
    {
     "name": "stdout",
     "output_type": "stream",
     "text": [
      "      [,1] [,2] [,3] [,4] [,5] [,6] [,7] [,8] [,9] [,10]\n",
      " [1,]   15   30   63   14   30   29   21    0   36     0\n",
      " [2,]   43   49   12   26   27   15   29   49   30    25\n",
      " [3,]    3   21   43    2    4   37   17    3   17     1\n",
      " [4,]    9    9   39   14   65   43    3   31   35    56\n",
      " [5,]    2   26    9   15   15   13   13   19   18    44\n",
      " [6,]   20    5   13   34   16   24   64   15   48    10\n",
      " [7,]    6   59    6   18   16    4   36    1   98     0\n",
      " [8,]    5    4   29   35   28   54   19    4    1     5\n",
      " [9,]   50   39   28   44   23   13   34    0   30    57\n",
      "[10,]    4   21   14    2   27   17   42   38    5    19\n",
      "[1] \"No. of empty groups after simulation =  4\"\n",
      "[1] \"No. of large groups after simulation =  9\"\n",
      "[1] \"No. of community members after simulation =  2353\"\n",
      "[1] \"Standard deviation after simulation =  18.67\"\n"
     ]
    },
    {
     "data": {
      "image/png": "[encoded data removed]",
      "text/plain": [
       "Plot with title \"State of community after simulation\""
      ]
     },
     "metadata": {},
     "output_type": "display_data"
    }
   ],
   "source": [
    "# Run the simulation and print the changed state of the community\n",
    "newMyMatrix <- simulation(n_trials, myMatrix)\n",
    "\n",
    "print(newMyMatrix)\n",
    "print(paste(\"No. of empty groups after simulation = \", sum(newMyMatrix == 0)))\n",
    "print(paste(\"No. of large groups after simulation = \", sum(newMyMatrix >= threshold)))\n",
    "print(paste(\"No. of community members after simulation = \", sum(newMyMatrix)))\n",
    "print(paste(\"Standard deviation after simulation = \", round(sd(newMyMatrix), 2)))\n",
    "hist(newMyMatrix, col = \"gray\", xlab = \"Group members\", breaks = 10, main = \"State of community after simulation\")"
   ]
  }
 ],
 "metadata": {
  "kernelspec": {
   "display_name": "R",
   "language": "R",
   "name": "ir"
  },
  "language_info": {
   "codemirror_mode": "r",
   "file_extension": ".r",
   "mimetype": "text/x-r-source",
   "name": "R",
   "pygments_lexer": "r",
   "version": "3.6.1"
  }
 },
 "nbformat": 4,
 "nbformat_minor": 5
}
