{
 "cells": [
  {
   "cell_type": "markdown",
   "id": "entitled-banana",
   "metadata": {},
   "source": [
    "# Community evolution\n",
    "\n",
    "We represent a community of groups as a matrix. Each cell represents a group and the cell entry is the number of its members. \n",
    "The aim is to simulate the evolution of the community and its groups if members randomly join and leave the groups.\n",
    "The current implementation is incomplete. I would like to enhance the setup with `attractors` and `repellers` in future."
   ]
  },
  {
   "cell_type": "code",
   "execution_count": 1,
   "id": "hungarian-kelly",
   "metadata": {},
   "outputs": [],
   "source": [
    "# Create a community of groups as a matrix\n",
    "nRow <- 10\n",
    "nCol <- 10\n",
    "randomData <- sample(x = c(0:50), size = nRow*nCol, replace = TRUE)\n",
    "myData <- rep(randomData,nRow*nCol)\n",
    "myMatrix <- matrix(data = myData, nrow = nRow, ncol = nCol)\n",
    "threshold <- 50 # if the number of members of a group exceeds threshold it is called large"
   ]
  },
  {
   "cell_type": "code",
   "execution_count": 2,
   "id": "military-trance",
   "metadata": {},
   "outputs": [],
   "source": [
    "# The possibility to move to a neighboring group or not\n",
    "choice <- c(-1,0,1)"
   ]
  },
  {
   "cell_type": "code",
   "execution_count": 3,
   "id": "drawn-procedure",
   "metadata": {},
   "outputs": [],
   "source": [
    "# In each iteration one member can leave the current group and join a neighboring group\n",
    "iteration <- function(matrix) {\n",
    "  for (i in c(1:NROW(matrix))) {\n",
    "    for (j in c(1:NCOL(matrix))) {\n",
    "        x <- sample(choice, 1, replace = TRUE)\n",
    "        y <- sample(choice, 1, replace = TRUE)\n",
    "        if ((i+x) >= 1 # x-coordinate lower bound check\n",
    "            & (i + x) <= NROW(matrix) # x-coordinate upper bound check\n",
    "            & (j + y) >= 1 # y-coordinate lower bound check\n",
    "            & (j + y) <= NCOL(matrix) # y-coordinate upper bound check\n",
    "            & (matrix[i,j] - 1 >= 0)) { # group is non-empty\n",
    "            matrix[i,j] <- matrix[i,j] - 1\n",
    "            matrix[i+x,j+y] <- matrix[i+x,j+y] + 1\n",
    "        }\n",
    "        else if ((matrix[i,j] - 1 >= 0)) { \n",
    "            matrix[i,j] <- matrix[i,j] - 1 # leave the community altogether\n",
    "        } \n",
    "    }\n",
    "  }\n",
    "  return(matrix)\n",
    "}"
   ]
  },
  {
   "cell_type": "code",
   "execution_count": 4,
   "id": "fossil-principal",
   "metadata": {},
   "outputs": [],
   "source": [
    "# Number of iterations\n",
    "n_trials <- 1000\n",
    "\n",
    "# The noise represents the addition (birth or immigration) and the subtraction (death or emigration) of community members\n",
    "noise <- c(-2:2)"
   ]
  },
  {
   "cell_type": "code",
   "execution_count": 5,
   "id": "retained-sucking",
   "metadata": {},
   "outputs": [],
   "source": [
    "# Run the iteration for a certain number of times\n",
    "simulation <- function(n_trials, matrix) {\n",
    "    for (i in c(1:n_trials)) {\n",
    "        randomNoise <- sample(x = noise, size = nRow*nCol, replace = TRUE)\n",
    "        noiseMatrix <- matrix(data = randomNoise, nrow = nRow, ncol = nCol)\n",
    "        simulatedMatrix <- iteration(matrix + noiseMatrix)\n",
    "        }\n",
    "    return(simulatedMatrix)\n",
    "}"
   ]
  },
  {
   "cell_type": "code",
   "execution_count": 6,
   "id": "funny-complexity",
   "metadata": {},
   "outputs": [
    {
     "name": "stdout",
     "output_type": "stream",
     "text": [
      "      [,1] [,2] [,3] [,4] [,5] [,6] [,7] [,8] [,9] [,10]\n",
      " [1,]    3   42   12   50   34   34   41   25   13    33\n",
      " [2,]    7   43   22   18   19   10   14   35   36    36\n",
      " [3,]   37   45   20   48   10   36   12    7   28    49\n",
      " [4,]    1   33   47    6   50   33    8   32    1    30\n",
      " [5,]   10   14   32    0    6   16    6   50   37    17\n",
      " [6,]   12    9   34   46   26    2   22    2   29    11\n",
      " [7,]   27    6   12    7   24   34   20   26    3     7\n",
      " [8,]   15   40   39   17    6   38   23   38   49     9\n",
      " [9,]    5    5    4   38   40   25   12   23   34    19\n",
      "[10,]   38   47    9   34    7    3   25    7   11    26\n",
      "[1] \"#Empty groups before simulation =  1\"\n",
      "[1] \"#Large groups before simulation =  3\"\n",
      "[1] \"#Community members before simulation =  2293\"\n",
      "[1] \"Std. Dev. before simulation =  14.86\"\n"
     ]
    }
   ],
   "source": [
    "# Print the initial state of the community\n",
    "print(myMatrix)\n",
    "print(paste(\"#Empty groups before simulation = \", sum(myMatrix == 0)))\n",
    "print(paste(\"#Large groups before simulation = \", sum(myMatrix >= threshold)))\n",
    "print(paste(\"#Community members before simulation = \", sum(myMatrix)))\n",
    "print(paste(\"Std. Dev. before simulation = \", round(sd(myMatrix),2)))"
   ]
  },
  {
   "cell_type": "code",
   "execution_count": 7,
   "id": "canadian-certificate",
   "metadata": {},
   "outputs": [
    {
     "name": "stdout",
     "output_type": "stream",
     "text": [
      "      [,1] [,2] [,3] [,4] [,5] [,6] [,7] [,8] [,9] [,10]\n",
      " [1,]    1   43   13   50   33   32   43   26   13    32\n",
      " [2,]    4   42   25   18   21    7   13   34   34    37\n",
      " [3,]   39   46   17   48   11   37   13    9   29    50\n",
      " [4,]    0   33   48    4   51   32    9   33    0    28\n",
      " [5,]    7   13   31    0    4   18    8   49   38    17\n",
      " [6,]   10   14   36   48   27    1   23    0   30    11\n",
      " [7,]   28    5   12    7   24   32   19   28    3     9\n",
      " [8,]   17   40   40   17    5   36   21   41   48     9\n",
      " [9,]    3    4    4   37   39   22   10   24   38    19\n",
      "[10,]   39   45    9   36    9    2   24    8    9    23\n",
      "[1] \"#Empty groups after simulation =  4\"\n",
      "[1] \"#Large groups after simulation =  3\"\n",
      "[1] \"#Community members after simulation =  2288\"\n",
      "[1] \"Std. Dev. after simulation =  15.2\"\n"
     ]
    }
   ],
   "source": [
    "# Run the simulation and print the changed state of the community\n",
    "newMyMatrix <- simulation(n_trials, myMatrix)\n",
    "\n",
    "print(newMyMatrix)\n",
    "print(paste(\"#Empty groups after simulation = \", sum(newMyMatrix == 0)))\n",
    "print(paste(\"#Large groups after simulation = \", sum(newMyMatrix >= threshold)))\n",
    "print(paste(\"#Community members after simulation = \", sum(newMyMatrix)))\n",
    "print(paste(\"Std. Dev. after simulation = \", round(sd(newMyMatrix),2)))"
   ]
  }
 ],
 "metadata": {
  "kernelspec": {
   "display_name": "R",
   "language": "R",
   "name": "ir"
  },
  "language_info": {
   "codemirror_mode": "r",
   "file_extension": ".r",
   "mimetype": "text/x-r-source",
   "name": "R",
   "pygments_lexer": "r",
   "version": "3.6.1"
  }
 },
 "nbformat": 4,
 "nbformat_minor": 5
}
