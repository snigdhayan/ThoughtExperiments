{
 "cells": [
  {
   "cell_type": "markdown",
   "id": "liquid-manhattan",
   "metadata": {},
   "source": [
    "# Community evolution\n",
    "\n",
    "We represent a community of groups as a matrix. Each cell represents a group and the cell entry is the number of its members. \n",
    "The aim is to simulate the evolution of the community and its groups under some natural dynamics.\n",
    "The current implementation is incomplete. I would like to enhance the setup with `attractors` and `repellers` in future."
   ]
  },
  {
   "cell_type": "code",
   "execution_count": 1,
   "id": "hungarian-kelly",
   "metadata": {},
   "outputs": [],
   "source": [
    "# Create a community of groups as a matrix\n",
    "nRow <- 10\n",
    "nCol <- 10\n",
    "randomData <- sample(x = c(0:50), size = nRow*nCol, replace = TRUE)\n",
    "myData <- rep(randomData, nRow*nCol)\n",
    "myMatrix <- matrix(data = myData, nrow = nRow, ncol = nCol)\n",
    "threshold <- 50 # if the number of members of a group exceeds the threshold it is called large"
   ]
  },
  {
   "cell_type": "code",
   "execution_count": 2,
   "id": "military-trance",
   "metadata": {},
   "outputs": [],
   "source": [
    "# The possibility to move to a neighboring group or not\n",
    "choice <- c(-1, 0, 1)"
   ]
  },
  {
   "cell_type": "code",
   "execution_count": 3,
   "id": "drawn-procedure",
   "metadata": {},
   "outputs": [],
   "source": [
    "# Iteration - one member can leave the current group and join a neighboring group or leave the community altogether\n",
    "iteration <- function(matrix) {\n",
    "  for (i in c(1:NROW(matrix))) {\n",
    "    for (j in c(1:NCOL(matrix))) {\n",
    "        x <- sample(choice, 1, replace = TRUE)\n",
    "        y <- sample(choice, 1, replace = TRUE)\n",
    "        if ((i+x) >= 1 # x-coordinate lower bound check\n",
    "            & (i+x) <= NROW(matrix) # x-coordinate upper bound check\n",
    "            & (j+y) >= 1 # y-coordinate lower bound check\n",
    "            & (j+y) <= NCOL(matrix) # y-coordinate upper bound check\n",
    "            & (matrix[i,j] - 1 >= 0)) { # group is non-empty\n",
    "            matrix[i,j] <- matrix[i,j] - 1 # leave the current group\n",
    "            matrix[i+x,j+y] <- matrix[i+x,j+y] + 1 # join the neighboring group\n",
    "        }\n",
    "        else if ((matrix[i,j] - 1 >= 0)) { \n",
    "            matrix[i,j] <- matrix[i,j] - 1 # leave the community altogether\n",
    "        } \n",
    "    }\n",
    "  }\n",
    "  return(matrix)\n",
    "}"
   ]
  },
  {
   "cell_type": "code",
   "execution_count": 4,
   "id": "fossil-principal",
   "metadata": {},
   "outputs": [],
   "source": [
    "# Number of iterations\n",
    "n_trials <- 100\n",
    "\n",
    "# The dynamics represents the growth (birth or immigration) and the contraction (death or emigration) of the community members\n",
    "dynamics <- c(-10:11) # slightly skewed toward growth"
   ]
  },
  {
   "cell_type": "code",
   "execution_count": 5,
   "id": "retained-sucking",
   "metadata": {},
   "outputs": [],
   "source": [
    "# Simulation - run the iteration for a certain number of times\n",
    "simulation <- function(n_trials, matrix) {\n",
    "    for (i in c(1:n_trials)) {\n",
    "        randomDynamics <- sample(x = dynamics, size = nRow*nCol, replace = TRUE)\n",
    "        dynamicsMatrix <- matrix(data = randomDynamics, nrow = nRow, ncol = nCol)\n",
    "        intermediateMatrix <- matrix + dynamicsMatrix # changes due to birth, death, immigration, emigration, etc.\n",
    "        intermediateMatrix[intermediateMatrix < 0] <- 0 # ensure that there is no negative group membership\n",
    "        simulatedMatrix <- iteration(intermediateMatrix)\n",
    "        }\n",
    "    return(simulatedMatrix)\n",
    "}"
   ]
  },
  {
   "cell_type": "code",
   "execution_count": 6,
   "id": "funny-complexity",
   "metadata": {},
   "outputs": [
    {
     "name": "stdout",
     "output_type": "stream",
     "text": [
      "      [,1] [,2] [,3] [,4] [,5] [,6] [,7] [,8] [,9] [,10]\n",
      " [1,]   30   10   35   46   29   42   40   10   41    25\n",
      " [2,]   42   47   22    7   49   20   32    0   14     7\n",
      " [3,]    8   22    8   37   19   32   19   43    6    29\n",
      " [4,]   21   43   32   26   18   43    5   50   43     2\n",
      " [5,]    4   18   29   27   34   17   18    2   19    20\n",
      " [6,]   39   36   28   46   17   21    2   19    8    50\n",
      " [7,]   46   32   35   41   16    4   26   33   11     0\n",
      " [8,]   41   13    4   16    9   23   34   46    6    16\n",
      " [9,]   12   34   42    3   15    7   40   46   47    20\n",
      "[10,]   49   33   41    7   45    7   20   27    1    50\n",
      "[1] \"No. of empty groups before simulation =  2\"\n",
      "[1] \"No. of large groups before simulation =  3\"\n",
      "[1] \"No. of community members before simulation =  2506\"\n",
      "[1] \"Standard deviation before simulation =  15.12\"\n"
     ]
    }
   ],
   "source": [
    "# Print the initial state of the community\n",
    "print(myMatrix)\n",
    "print(paste(\"No. of empty groups before simulation = \", sum(myMatrix == 0)))\n",
    "print(paste(\"No. of large groups before simulation = \", sum(myMatrix >= threshold)))\n",
    "print(paste(\"No. of community members before simulation = \", sum(myMatrix)))\n",
    "print(paste(\"Standard deviation before simulation = \", round(sd(myMatrix), 2)))"
   ]
  },
  {
   "cell_type": "code",
   "execution_count": 7,
   "id": "canadian-certificate",
   "metadata": {},
   "outputs": [
    {
     "name": "stdout",
     "output_type": "stream",
     "text": [
      "      [,1] [,2] [,3] [,4] [,5] [,6] [,7] [,8] [,9] [,10]\n",
      " [1,]   31   16   33   48   28   40   32   17   38    32\n",
      " [2,]   44   53   27   16   57   17   37   12   14     6\n",
      " [3,]    0   28    5   36   26   31   12   47    3    21\n",
      " [4,]   11   50   35   26   26   35    0   43   44    12\n",
      " [5,]    1   28   38   26   45    6   25    0   12    19\n",
      " [6,]   36   49   38   54    7   23    9   14    1    42\n",
      " [7,]   49   30   36   42    8   12   28   30   16     7\n",
      " [8,]   39   19    1   10    7   26   30   50   10    19\n",
      " [9,]   21   30   38    6   24   13   39   44   46    21\n",
      "[10,]   55   31   32    0   51   17   20   29    0    58\n",
      "[1] \"No. of empty groups after simulation =  5\"\n",
      "[1] \"No. of large groups after simulation =  8\"\n",
      "[1] \"No. of community members after simulation =  2606\"\n",
      "[1] \"Standard deviation after simulation =  15.81\"\n"
     ]
    }
   ],
   "source": [
    "# Run the simulation and print the changed state of the community\n",
    "newMyMatrix <- simulation(n_trials, myMatrix)\n",
    "\n",
    "print(newMyMatrix)\n",
    "print(paste(\"No. of empty groups after simulation = \", sum(newMyMatrix == 0)))\n",
    "print(paste(\"No. of large groups after simulation = \", sum(newMyMatrix >= threshold)))\n",
    "print(paste(\"No. of community members after simulation = \", sum(newMyMatrix)))\n",
    "print(paste(\"Standard deviation after simulation = \", round(sd(newMyMatrix), 2)))"
   ]
  }
 ],
 "metadata": {
  "kernelspec": {
   "display_name": "R",
   "language": "R",
   "name": "ir"
  },
  "language_info": {
   "codemirror_mode": "r",
   "file_extension": ".r",
   "mimetype": "text/x-r-source",
   "name": "R",
   "pygments_lexer": "r",
   "version": "3.6.1"
  }
 },
 "nbformat": 4,
 "nbformat_minor": 5
}
