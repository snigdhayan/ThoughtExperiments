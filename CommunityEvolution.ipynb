{
 "cells": [
  {
   "cell_type": "markdown",
   "id": "liquid-manhattan",
   "metadata": {},
   "source": [
    "# Community evolution\n",
    "\n",
    "We represent a community of groups as a matrix. Each cell represents a group and the cell entry is the number of its members. \n",
    "The aim is to simulate the evolution of the community and its groups under some natural dynamics.\n",
    "The current implementation is incomplete. I would like to enhance the setup with `attractors` and `repellers` in future."
   ]
  },
  {
   "cell_type": "code",
   "execution_count": 1,
   "id": "hungarian-kelly",
   "metadata": {},
   "outputs": [],
   "source": [
    "# Create a community of groups as a matrix\n",
    "nRow <- 10\n",
    "nCol <- 10\n",
    "randomData <- sample(x = c(0:50), size = nRow*nCol, replace = TRUE)\n",
    "myData <- rep(randomData,nRow*nCol)\n",
    "myMatrix <- matrix(data = myData, nrow = nRow, ncol = nCol)\n",
    "threshold <- 50 # if the number of members of a group exceeds the threshold it is called large"
   ]
  },
  {
   "cell_type": "code",
   "execution_count": 2,
   "id": "military-trance",
   "metadata": {},
   "outputs": [],
   "source": [
    "# The possibility to move to a neighboring group or not\n",
    "choice <- c(-1,0,1)"
   ]
  },
  {
   "cell_type": "code",
   "execution_count": 3,
   "id": "drawn-procedure",
   "metadata": {},
   "outputs": [],
   "source": [
    "# Iteration - one member can leave the current group and join a neighboring group or leave the community altogether\n",
    "iteration <- function(matrix) {\n",
    "  for (i in c(1:NROW(matrix))) {\n",
    "    for (j in c(1:NCOL(matrix))) {\n",
    "        x <- sample(choice, 1, replace = TRUE)\n",
    "        y <- sample(choice, 1, replace = TRUE)\n",
    "        if ((i+x) >= 1 # x-coordinate lower bound check\n",
    "            & (i + x) <= NROW(matrix) # x-coordinate upper bound check\n",
    "            & (j + y) >= 1 # y-coordinate lower bound check\n",
    "            & (j + y) <= NCOL(matrix) # y-coordinate upper bound check\n",
    "            & (matrix[i,j] - 1 >= 0)) { # group is non-empty\n",
    "            matrix[i,j] <- matrix[i,j] - 1 # leave the group\n",
    "            matrix[i+x,j+y] <- matrix[i+x,j+y] + 1 # join the neighboring group\n",
    "        }\n",
    "        else if ((matrix[i,j] - 1 >= 0)) { \n",
    "            matrix[i,j] <- matrix[i,j] - 1 # leave the community altogether\n",
    "        } \n",
    "    }\n",
    "  }\n",
    "  return(matrix)\n",
    "}"
   ]
  },
  {
   "cell_type": "code",
   "execution_count": 4,
   "id": "fossil-principal",
   "metadata": {},
   "outputs": [],
   "source": [
    "# Number of iterations\n",
    "n_trials <- 1000\n",
    "\n",
    "# The dynamics represents the growth (birth or immigration) and the contraction (death or emigration) of the community members\n",
    "dynamics <- c(-10:11) # slightly skewed toward growth"
   ]
  },
  {
   "cell_type": "code",
   "execution_count": 5,
   "id": "retained-sucking",
   "metadata": {},
   "outputs": [],
   "source": [
    "# Simulation - run the iteration for a certain number of times\n",
    "simulation <- function(n_trials, matrix) {\n",
    "    for (i in c(1:n_trials)) {\n",
    "        randomDynamics <- sample(x = dynamics, size = nRow*nCol, replace = TRUE)\n",
    "        dynamicsMatrix <- matrix(data = randomDynamics, nrow = nRow, ncol = nCol)\n",
    "        intermediateMatrix <- matrix + dynamicsMatrix # changes due to birth, death, immigration, emigration, etc.\n",
    "        intermediateMatrix[intermediateMatrix < 0] <- 0 # ensure that there is no negative group membership\n",
    "        simulatedMatrix <- iteration(intermediateMatrix)\n",
    "        }\n",
    "    return(simulatedMatrix)\n",
    "}"
   ]
  },
  {
   "cell_type": "code",
   "execution_count": 6,
   "id": "funny-complexity",
   "metadata": {},
   "outputs": [
    {
     "name": "stdout",
     "output_type": "stream",
     "text": [
      "      [,1] [,2] [,3] [,4] [,5] [,6] [,7] [,8] [,9] [,10]\n",
      " [1,]   41   39   42   20   50   36   34   22   47    31\n",
      " [2,]   29   35   11   36   50    3   13    6   42    15\n",
      " [3,]   23   48   16   42   25   34   23   26   35     6\n",
      " [4,]   25    5   46   10    5   10   24   45   34    27\n",
      " [5,]   33    4    6   22    2   39    1   23    6    44\n",
      " [6,]   28   27   12    2   39    0   41   44   39    12\n",
      " [7,]   23   41   47   30   15   10   32   14   42    10\n",
      " [8,]   44   27   18    4    1   49    6   38   23    18\n",
      " [9,]    5   22    7   19   21   10   35   19   48    29\n",
      "[10,]    8   31   19   11   44   29   22   21    3    31\n",
      "[1] \"No. of empty groups before simulation =  1\"\n",
      "[1] \"No. of large groups before simulation =  2\"\n",
      "[1] \"No. of community members before simulation =  2461\"\n",
      "[1] \"Standard deviation before simulation =  14.61\"\n"
     ]
    }
   ],
   "source": [
    "# Print the initial state of the community\n",
    "print(myMatrix)\n",
    "print(paste(\"No. of empty groups before simulation = \", sum(myMatrix == 0)))\n",
    "print(paste(\"No. of large groups before simulation = \", sum(myMatrix >= threshold)))\n",
    "print(paste(\"No. of community members before simulation = \", sum(myMatrix)))\n",
    "print(paste(\"Standard deviation before simulation = \", round(sd(myMatrix),2)))"
   ]
  },
  {
   "cell_type": "code",
   "execution_count": 7,
   "id": "canadian-certificate",
   "metadata": {},
   "outputs": [
    {
     "name": "stdout",
     "output_type": "stream",
     "text": [
      "      [,1] [,2] [,3] [,4] [,5] [,6] [,7] [,8] [,9] [,10]\n",
      " [1,]   48   40   47   15   47   40   28   20   53    31\n",
      " [2,]   37   41   15   39   60   10   16    2   35    17\n",
      " [3,]   27   55   21   46   19   33   17   20   32     1\n",
      " [4,]   30    3   50   12    0   20   29   54   35    27\n",
      " [5,]   26    0   17   28    4   31    7   32   16    34\n",
      " [6,]   38   21   23    0   45    2   31   34   36    12\n",
      " [7,]   31   39   57   28   19   21   25   23   45    15\n",
      " [8,]   41   27   18    1    0   47   10   42   13    29\n",
      " [9,]    6   31    5   26   25    9   31   29   59    20\n",
      "[10,]    3   29   29    5   36   24   27   18    0    31\n",
      "[1] \"No. of empty groups after simulation =  5\"\n",
      "[1] \"No. of large groups after simulation =  7\"\n",
      "[1] \"No. of community members after simulation =  2583\"\n",
      "[1] \"Standard deviation after simulation =  15.32\"\n"
     ]
    }
   ],
   "source": [
    "# Run the simulation and print the changed state of the community\n",
    "newMyMatrix <- simulation(n_trials, myMatrix)\n",
    "\n",
    "print(newMyMatrix)\n",
    "print(paste(\"No. of empty groups after simulation = \", sum(newMyMatrix == 0)))\n",
    "print(paste(\"No. of large groups after simulation = \", sum(newMyMatrix >= threshold)))\n",
    "print(paste(\"No. of community members after simulation = \", sum(newMyMatrix)))\n",
    "print(paste(\"Standard deviation after simulation = \", round(sd(newMyMatrix),2)))"
   ]
  }
 ],
 "metadata": {
  "kernelspec": {
   "display_name": "R",
   "language": "R",
   "name": "ir"
  },
  "language_info": {
   "codemirror_mode": "r",
   "file_extension": ".r",
   "mimetype": "text/x-r-source",
   "name": "R",
   "pygments_lexer": "r",
   "version": "3.6.1"
  }
 },
 "nbformat": 4,
 "nbformat_minor": 5
}
