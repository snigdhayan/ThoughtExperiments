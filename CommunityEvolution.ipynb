{
 "cells": [
  {
   "cell_type": "markdown",
   "id": "entitled-banana",
   "metadata": {},
   "source": [
    "# Community evolution\n",
    "\n",
    "We represent a community of groups as a matrix. Each cell represents a group and the cell entry is the number of its members. \n",
    "The aim is to simulate the evolution of the community and its groups if members randomly join and leave the groups.\n",
    "The current implementation is incomplete. I would like to enhance the setup with `attractors` and `repellers` in future."
   ]
  },
  {
   "cell_type": "code",
   "execution_count": 1,
   "id": "hungarian-kelly",
   "metadata": {},
   "outputs": [],
   "source": [
    "# Create a community of groups as a matrix\n",
    "nRow <- 10\n",
    "nCol <- 10\n",
    "randomData <- sample(x = c(0:50), size = nRow*nCol, replace = TRUE)\n",
    "myData <- rep(randomData,nRow*nCol)\n",
    "myMatrix <- matrix(data = myData, nrow = nRow, ncol = nCol)\n",
    "threshold <- 50 # if the number of members of a group exceeds threshold it is called large"
   ]
  },
  {
   "cell_type": "code",
   "execution_count": 2,
   "id": "military-trance",
   "metadata": {},
   "outputs": [],
   "source": [
    "# The possibility to move to a neighboring group or not\n",
    "choice <- c(-1,0,1)"
   ]
  },
  {
   "cell_type": "code",
   "execution_count": 3,
   "id": "drawn-procedure",
   "metadata": {},
   "outputs": [],
   "source": [
    "# Iteration - one member can leave the current group and join a neighboring group or leave the community altogether\n",
    "iteration <- function(matrix) {\n",
    "  for (i in c(1:NROW(matrix))) {\n",
    "    for (j in c(1:NCOL(matrix))) {\n",
    "        x <- sample(choice, 1, replace = TRUE)\n",
    "        y <- sample(choice, 1, replace = TRUE)\n",
    "        if ((i+x) >= 1 # x-coordinate lower bound check\n",
    "            & (i + x) <= NROW(matrix) # x-coordinate upper bound check\n",
    "            & (j + y) >= 1 # y-coordinate lower bound check\n",
    "            & (j + y) <= NCOL(matrix) # y-coordinate upper bound check\n",
    "            & (matrix[i,j] - 1 >= 0)) { # group is non-empty\n",
    "            matrix[i,j] <- matrix[i,j] - 1 # leave the group\n",
    "            matrix[i+x,j+y] <- matrix[i+x,j+y] + 1 # join the neighboring group\n",
    "        }\n",
    "        else if ((matrix[i,j] - 1 >= 0)) { \n",
    "            matrix[i,j] <- matrix[i,j] - 1 # leave the community altogether\n",
    "        } \n",
    "    }\n",
    "  }\n",
    "  return(matrix)\n",
    "}"
   ]
  },
  {
   "cell_type": "code",
   "execution_count": 4,
   "id": "fossil-principal",
   "metadata": {},
   "outputs": [],
   "source": [
    "# Number of iterations\n",
    "n_trials <- 1000\n",
    "\n",
    "# The noise represents the growth (birth or immigration) and the contraction (death or emigration) of the community members\n",
    "noise <- c(-10:12) # slightly skewed toward growth"
   ]
  },
  {
   "cell_type": "code",
   "execution_count": 5,
   "id": "retained-sucking",
   "metadata": {},
   "outputs": [],
   "source": [
    "# Simulation - run the iteration for a certain number of times\n",
    "simulation <- function(n_trials, matrix) {\n",
    "    for (i in c(1:n_trials)) {\n",
    "        randomNoise <- sample(x = noise, size = nRow*nCol, replace = TRUE)\n",
    "        noiseMatrix <- matrix(data = randomNoise, nrow = nRow, ncol = nCol)\n",
    "        intermediateMatrix <- matrix + noiseMatrix # changes due to birth, death, immigration, emigration, etc.\n",
    "        intermediateMatrix[intermediateMatrix < 0] <- 0 # ensure that there is no negative group membership\n",
    "        simulatedMatrix <- iteration(intermediateMatrix)\n",
    "        }\n",
    "    return(simulatedMatrix)\n",
    "}"
   ]
  },
  {
   "cell_type": "code",
   "execution_count": 6,
   "id": "funny-complexity",
   "metadata": {},
   "outputs": [
    {
     "name": "stdout",
     "output_type": "stream",
     "text": [
      "      [,1] [,2] [,3] [,4] [,5] [,6] [,7] [,8] [,9] [,10]\n",
      " [1,]   39   27   12    5   17   34   49   44   30     5\n",
      " [2,]   14    9   49   17   33   10    6    2   24     3\n",
      " [3,]   40    6    0   10   13   45   36    5   12    26\n",
      " [4,]   46   45   24   15   29   39   35   31   24    20\n",
      " [5,]   43   37   41   50   50   35   36   30   34    17\n",
      " [6,]   21   25   15    9    9   12    0   13   35     3\n",
      " [7,]   46    2   28   32   22   20   26   43   43    45\n",
      " [8,]   49   33    8    8   36   45   24   12   50     6\n",
      " [9,]   23    5   42   32   38   50   27   29    3    10\n",
      "[10,]   42   44   46   35   21   21   36   31   48    34\n",
      "[1] \"#Empty groups before simulation =  2\"\n",
      "[1] \"#Large groups before simulation =  4\"\n",
      "[1] \"#Community members before simulation =  2640\"\n",
      "[1] \"Std. Dev. before simulation =  15.08\"\n"
     ]
    }
   ],
   "source": [
    "# Print the initial state of the community\n",
    "print(myMatrix)\n",
    "print(paste(\"#Empty groups before simulation = \", sum(myMatrix == 0)))\n",
    "print(paste(\"#Large groups before simulation = \", sum(myMatrix >= threshold)))\n",
    "print(paste(\"#Community members before simulation = \", sum(myMatrix)))\n",
    "print(paste(\"Std. Dev. before simulation = \", round(sd(myMatrix),2)))"
   ]
  },
  {
   "cell_type": "code",
   "execution_count": 7,
   "id": "canadian-certificate",
   "metadata": {},
   "outputs": [
    {
     "name": "stdout",
     "output_type": "stream",
     "text": [
      "      [,1] [,2] [,3] [,4] [,5] [,6] [,7] [,8] [,9] [,10]\n",
      " [1,]   47   18    5   10   13   32   45   51   32     9\n",
      " [2,]   12    9   43   22   35   11    6    6   33    10\n",
      " [3,]   48    1   10    2    4   52   30   14   21    16\n",
      " [4,]   47   48   31    5   27   50   42   44   32    10\n",
      " [5,]   41   46   32   45   58   44   47   24   42    23\n",
      " [6,]   31   30   10    3   15   10    3    6   36     0\n",
      " [7,]   51    9   39   40   19   20   19   35   51    37\n",
      " [8,]   41   31   12   18   40   35   17    4   57     0\n",
      " [9,]   16    7   45   29   43   50   25   25    4     3\n",
      "[10,]   42   34   37   39   21   22   47   43   54    39\n",
      "[1] \"#Empty groups after simulation =  2\"\n",
      "[1] \"#Large groups after simulation =  9\"\n",
      "[1] \"#Community members after simulation =  2729\"\n",
      "[1] \"Std. Dev. after simulation =  16.59\"\n"
     ]
    }
   ],
   "source": [
    "# Run the simulation and print the changed state of the community\n",
    "newMyMatrix <- simulation(n_trials, myMatrix)\n",
    "\n",
    "print(newMyMatrix)\n",
    "print(paste(\"#Empty groups after simulation = \", sum(newMyMatrix == 0)))\n",
    "print(paste(\"#Large groups after simulation = \", sum(newMyMatrix >= threshold)))\n",
    "print(paste(\"#Community members after simulation = \", sum(newMyMatrix)))\n",
    "print(paste(\"Std. Dev. after simulation = \", round(sd(newMyMatrix),2)))"
   ]
  }
 ],
 "metadata": {
  "kernelspec": {
   "display_name": "R",
   "language": "R",
   "name": "ir"
  },
  "language_info": {
   "codemirror_mode": "r",
   "file_extension": ".r",
   "mimetype": "text/x-r-source",
   "name": "R",
   "pygments_lexer": "r",
   "version": "3.6.1"
  }
 },
 "nbformat": 4,
 "nbformat_minor": 5
}
