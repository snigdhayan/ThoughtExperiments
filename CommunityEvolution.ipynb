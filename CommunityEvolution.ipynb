{
 "cells": [
  {
   "cell_type": "markdown",
   "id": "owned-alberta",
   "metadata": {},
   "source": [
    "# Community evolution\n",
    "\n",
    "We represent a community of groups as a matrix. Each cell represents a group and the cell entry is the number of its members. \n",
    "The aim is to simulate the evolution of the community and its groups under some natural dynamics.\n",
    "The current implementation is incomplete. I would like to enhance the setup with `attractors` and `repellers` in future.\n",
    "In several runs of the simulation I noticed that the shapes of the histograms depicted below remain the same.\n",
    "For the first histogram describing the initial state of the community this fact is not very surprising."
   ]
  },
  {
   "cell_type": "code",
   "execution_count": 1,
   "id": "hungarian-kelly",
   "metadata": {},
   "outputs": [],
   "source": [
    "# Create a community of groups as a matrix\n",
    "nRow <- 10\n",
    "nCol <- 10\n",
    "threshold <- 50 # if the number of members of a group exceeds the threshold I call it large\n",
    "randomData <- sample(x = c(0:threshold), size = nRow*nCol, replace = TRUE) # initial group size capped at threshold\n",
    "myData <- rep(randomData, nRow*nCol)\n",
    "myMatrix <- matrix(data = myData, nrow = nRow, ncol = nCol)\n"
   ]
  },
  {
   "cell_type": "code",
   "execution_count": 2,
   "id": "military-trance",
   "metadata": {},
   "outputs": [],
   "source": [
    "# The possibility to move to a neighboring group or not\n",
    "choice <- c(-1, 0, 1)"
   ]
  },
  {
   "cell_type": "code",
   "execution_count": 3,
   "id": "drawn-procedure",
   "metadata": {},
   "outputs": [],
   "source": [
    "# Iteration - somes members of a group can leave their group and join a neighboring group or leave the community altogether\n",
    "iteration <- function(matrix) {\n",
    "  for (i in c(1:NROW(matrix))) {\n",
    "    for (j in c(1:NCOL(matrix))) {\n",
    "        x <- sample(choice, 1, replace = TRUE)\n",
    "        y <- sample(choice, 1, replace = TRUE)\n",
    "        n_movers <- sample(x = c(0:matrix[i,j]), size = 1)\n",
    "        if ((i+x) >= 1 # x-coordinate lower bound check\n",
    "            & (i+x) <= NROW(matrix) # x-coordinate upper bound check\n",
    "            & (j+y) >= 1 # y-coordinate lower bound check\n",
    "            & (j+y) <= NCOL(matrix)) { # y-coordinate upper bound check\n",
    "            matrix[i,j] <- matrix[i,j] - n_movers # leave the current group\n",
    "            matrix[i+x,j+y] <- matrix[i+x,j+y] + n_movers # join the neighboring group\n",
    "        }\n",
    "        else matrix[i,j] <- matrix[i,j] - n_movers # leave the community altogether\n",
    "    }\n",
    "  }\n",
    "  return(matrix)\n",
    "}"
   ]
  },
  {
   "cell_type": "code",
   "execution_count": 4,
   "id": "fossil-principal",
   "metadata": {},
   "outputs": [],
   "source": [
    "# Number of iterations\n",
    "n_trials <- 100\n",
    "\n",
    "# The dynamics represents the growth (birth or immigration) and the contraction (death or emigration) of the community members\n",
    "dynamics <- c(-10:12) # slightly skewed toward growth"
   ]
  },
  {
   "cell_type": "code",
   "execution_count": 5,
   "id": "retained-sucking",
   "metadata": {},
   "outputs": [],
   "source": [
    "# Simulation - run the iteration for a certain number of times\n",
    "simulation <- function(n_trials, matrix) {\n",
    "    for (i in c(1:n_trials)) {\n",
    "        randomDynamics <- sample(x = dynamics, size = nRow*nCol, replace = TRUE)\n",
    "        dynamicsMatrix <- matrix(data = randomDynamics, nrow = nRow, ncol = nCol)\n",
    "        intermediateMatrix <- matrix + dynamicsMatrix # changes due to birth, death, immigration, emigration, etc.\n",
    "        intermediateMatrix[intermediateMatrix < 0] <- 0 # ensure that there is no negative group membership\n",
    "        simulatedMatrix <- iteration(intermediateMatrix)\n",
    "        }\n",
    "    return(simulatedMatrix)\n",
    "}"
   ]
  },
  {
   "cell_type": "code",
   "execution_count": 6,
   "id": "funny-complexity",
   "metadata": {},
   "outputs": [
    {
     "name": "stdout",
     "output_type": "stream",
     "text": [
      "      [,1] [,2] [,3] [,4] [,5] [,6] [,7] [,8] [,9] [,10]\n",
      " [1,]    4   35   18   17   10   13   40   11   10     2\n",
      " [2,]   33   26   31   24   19    2    2    7   44     0\n",
      " [3,]   28   15   38    2    5   31    7   43   47    16\n",
      " [4,]   42   48   11   14   16    5   29   15   49    32\n",
      " [5,]   18   41   24   19   47   42   18   44   22    47\n",
      " [6,]   48   41   43   48   38   39   48   24   44    15\n",
      " [7,]   40   35   28   36   35   15   21   38   31     3\n",
      " [8,]   26   38   42   26   13    1   16   41   50    30\n",
      " [9,]   47   38    2   15   43   11   21   18   28    44\n",
      "[10,]   24   31   20    9   42   26   41   28   45    33\n",
      "[1] \"No. of empty groups before simulation =  1\"\n",
      "[1] \"No. of large groups before simulation =  1\"\n",
      "[1] \"No. of community members before simulation =  2682\"\n",
      "[1] \"Standard deviation before simulation =  14.67\"\n"
     ]
    },
    {
     "data": {
      "image/png": "[encoded data removed]",
      "text/plain": [
       "Plot with title \"Histogram of myMatrix\""
      ]
     },
     "metadata": {},
     "output_type": "display_data"
    }
   ],
   "source": [
    "# Print the initial state of the community\n",
    "print(myMatrix)\n",
    "print(paste(\"No. of empty groups before simulation = \", sum(myMatrix == 0)))\n",
    "print(paste(\"No. of large groups before simulation = \", sum(myMatrix >= threshold)))\n",
    "print(paste(\"No. of community members before simulation = \", sum(myMatrix)))\n",
    "print(paste(\"Standard deviation before simulation = \", round(sd(myMatrix), 2)))\n",
    "hist(myMatrix, col = \"gray\", xlab = \"Group members\", breaks = 10)"
   ]
  },
  {
   "cell_type": "code",
   "execution_count": 7,
   "id": "extensive-license",
   "metadata": {},
   "outputs": [
    {
     "name": "stdout",
     "output_type": "stream",
     "text": [
      "      [,1] [,2] [,3] [,4] [,5] [,6] [,7] [,8] [,9] [,10]\n",
      " [1,]   13   17   11   14    9    2   66   16    4     2\n",
      " [2,]   12   13   13   31    7    4    0    2   23    10\n",
      " [3,]   10   29   42   11    8   28   36   64   22    34\n",
      " [4,]   38   28   23   10   34    3   29   20   48    33\n",
      " [5,]   26   44   51    4   39   32   38   13   78    28\n",
      " [6,]   24   55   49   23   93   29   34   15    8     5\n",
      " [7,]   23   14   34   54   15    2   59   66   52    12\n",
      " [8,]    7   14   41    5   13    1    1   25   57     8\n",
      " [9,]   54   37    9   12   48   32   12   16   34    24\n",
      "[10,]   28   61    6   14   39   64   58   34    0    43\n",
      "[1] \"No. of empty groups after simulation =  2\"\n",
      "[1] \"No. of large groups after simulation =  15\"\n",
      "[1] \"No. of community members after simulation =  2635\"\n",
      "[1] \"Standard deviation after simulation =  20.04\"\n"
     ]
    },
    {
     "data": {
      "image/png": "[encoded data removed]",
      "text/plain": [
       "Plot with title \"Histogram of newMyMatrix\""
      ]
     },
     "metadata": {},
     "output_type": "display_data"
    }
   ],
   "source": [
    "# Run the simulation and print the changed state of the community\n",
    "newMyMatrix <- simulation(n_trials, myMatrix)\n",
    "\n",
    "print(newMyMatrix)\n",
    "print(paste(\"No. of empty groups after simulation = \", sum(newMyMatrix == 0)))\n",
    "print(paste(\"No. of large groups after simulation = \", sum(newMyMatrix >= threshold)))\n",
    "print(paste(\"No. of community members after simulation = \", sum(newMyMatrix)))\n",
    "print(paste(\"Standard deviation after simulation = \", round(sd(newMyMatrix), 2)))\n",
    "hist(newMyMatrix, col = \"gray\", xlab = \"Group members\", breaks = 10)"
   ]
  }
 ],
 "metadata": {
  "kernelspec": {
   "display_name": "R",
   "language": "R",
   "name": "ir"
  },
  "language_info": {
   "codemirror_mode": "r",
   "file_extension": ".r",
   "mimetype": "text/x-r-source",
   "name": "R",
   "pygments_lexer": "r",
   "version": "3.6.1"
  }
 },
 "nbformat": 4,
 "nbformat_minor": 5
}
