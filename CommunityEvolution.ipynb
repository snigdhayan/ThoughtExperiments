{
 "cells": [
  {
   "cell_type": "markdown",
   "id": "pressing-folder",
   "metadata": {},
   "source": [
    "# Community evolution\n",
    "\n",
    "We represent a community of groups as a matrix. Each cell represents a group and the cell entry is the number of its members. \n",
    "The aim is to simulate the evolution of the community and its groups under some natural dynamics.\n",
    "The current implementation is incomplete. I would like to enhance the setup with `attractors` and `repellers` in future.\n",
    "In several runs of the simulation I noticed that the shapes of the histograms depicted below remain the same.\n",
    "For the first histogram describing the initial state of the community this fact is not very surprising.\n",
    "Moreover, the standard deviation also increases after the simulation run."
   ]
  },
  {
   "cell_type": "code",
   "execution_count": 1,
   "id": "hungarian-kelly",
   "metadata": {},
   "outputs": [],
   "source": [
    "# Create a community of groups as a matrix\n",
    "nRow <- 10\n",
    "nCol <- 10\n",
    "threshold <- 50 # if the number of members of a group exceeds the threshold then I call it large\n",
    "randomData <- sample(x = c(0:threshold), size = nRow*nCol, replace = TRUE) # initial group size capped at threshold\n",
    "myData <- rep(randomData, nRow*nCol)\n",
    "myMatrix <- matrix(data = myData, nrow = nRow, ncol = nCol)"
   ]
  },
  {
   "cell_type": "code",
   "execution_count": 2,
   "id": "military-trance",
   "metadata": {},
   "outputs": [],
   "source": [
    "# The possibility to move to a neighboring group or not\n",
    "choice <- c(-1, 0, 1)"
   ]
  },
  {
   "cell_type": "code",
   "execution_count": 3,
   "id": "drawn-procedure",
   "metadata": {},
   "outputs": [],
   "source": [
    "# Iteration - somes members of a group can leave their group and join a neighboring group or leave the community altogether\n",
    "iteration <- function(matrix) {\n",
    "  for (i in c(1:NROW(matrix))) {\n",
    "    for (j in c(1:NCOL(matrix))) {\n",
    "        x <- sample(choice, 1, replace = TRUE)\n",
    "        y <- sample(choice, 1, replace = TRUE)\n",
    "        n_movers <- sample(x = c(0:matrix[i,j]), size = 1)\n",
    "        if ((i+x) >= 1 # x-coordinate lower bound check\n",
    "            & (i+x) <= NROW(matrix) # x-coordinate upper bound check\n",
    "            & (j+y) >= 1 # y-coordinate lower bound check\n",
    "            & (j+y) <= NCOL(matrix)) { # y-coordinate upper bound check\n",
    "            matrix[i,j] <- matrix[i,j] - n_movers # leave the current group\n",
    "            matrix[i+x,j+y] <- matrix[i+x,j+y] + n_movers # join the neighboring group\n",
    "        }\n",
    "        else matrix[i,j] <- matrix[i,j] - n_movers # leave the community altogether\n",
    "    }\n",
    "  }\n",
    "  return(matrix)\n",
    "}"
   ]
  },
  {
   "cell_type": "code",
   "execution_count": 4,
   "id": "fossil-principal",
   "metadata": {},
   "outputs": [],
   "source": [
    "# Number of iterations\n",
    "n_trials <- 100\n",
    "\n",
    "# The dynamics represents the growth (birth or immigration) and the contraction (death or emigration) of the community members\n",
    "dynamics <- c(-10:12) # slightly skewed toward growth"
   ]
  },
  {
   "cell_type": "code",
   "execution_count": 5,
   "id": "retained-sucking",
   "metadata": {},
   "outputs": [],
   "source": [
    "# Simulation - run the iteration for a certain number of times\n",
    "simulation <- function(n_trials, matrix) {\n",
    "    for (i in c(1:n_trials)) {\n",
    "        randomDynamics <- sample(x = dynamics, size = nRow*nCol, replace = TRUE)\n",
    "        dynamicsMatrix <- matrix(data = randomDynamics, nrow = nRow, ncol = nCol)\n",
    "        intermediateMatrix <- matrix + dynamicsMatrix # changes due to birth, death, immigration, emigration, etc.\n",
    "        intermediateMatrix[intermediateMatrix < 0] <- 0 # ensure that there is no negative group membership\n",
    "        simulatedMatrix <- iteration(intermediateMatrix)\n",
    "        }\n",
    "    return(simulatedMatrix)\n",
    "}"
   ]
  },
  {
   "cell_type": "code",
   "execution_count": 6,
   "id": "funny-complexity",
   "metadata": {},
   "outputs": [
    {
     "name": "stdout",
     "output_type": "stream",
     "text": [
      "      [,1] [,2] [,3] [,4] [,5] [,6] [,7] [,8] [,9] [,10]\n",
      " [1,]   23   50   32   28   15   32   48   43   38    15\n",
      " [2,]   50   11   47   17   43    5    2    0   43    34\n",
      " [3,]   14    4   32    8   33   16   23   37    9     8\n",
      " [4,]   12    9   25    6   49   12   25    6   27    16\n",
      " [5,]   50   10   12   29   49    2   29   17   32    34\n",
      " [6,]   43   18    8    5   14    1    8   16    2    40\n",
      " [7,]   28   45   16   33   32   42    1   17   41    33\n",
      " [8,]   26   32   23   48   25   22   17    3   16    11\n",
      " [9,]   30   32    2   22   23   50   20   14    5     8\n",
      "[10,]    8    2   36   43   37   43    7   18   50     3\n",
      "[1] \"No. of empty groups before simulation =  1\"\n",
      "[1] \"No. of large groups before simulation =  5\"\n",
      "[1] \"No. of community members before simulation =  2330\"\n",
      "[1] \"Standard deviation before simulation =  15.18\"\n"
     ]
    },
    {
     "data": {
      "image/png": "[encoded data removed]",
      "text/plain": [
       "Plot with title \"Histogram of myMatrix\""
      ]
     },
     "metadata": {},
     "output_type": "display_data"
    }
   ],
   "source": [
    "# Print the initial state of the community\n",
    "print(myMatrix)\n",
    "print(paste(\"No. of empty groups before simulation = \", sum(myMatrix == 0)))\n",
    "print(paste(\"No. of large groups before simulation = \", sum(myMatrix >= threshold)))\n",
    "print(paste(\"No. of community members before simulation = \", sum(myMatrix)))\n",
    "print(paste(\"Standard deviation before simulation = \", round(sd(myMatrix), 2)))\n",
    "hist(myMatrix, col = \"gray\", xlab = \"Group members\", breaks = 10)"
   ]
  },
  {
   "cell_type": "code",
   "execution_count": 7,
   "id": "extensive-license",
   "metadata": {},
   "outputs": [
    {
     "name": "stdout",
     "output_type": "stream",
     "text": [
      "      [,1] [,2] [,3] [,4] [,5] [,6] [,7] [,8] [,9] [,10]\n",
      " [1,]    0   56    9   29    2   19   33   71    2    12\n",
      " [2,]   26   20   57    8   51   25   25    0    6    21\n",
      " [3,]    2    8   26    7   52   46   10   30   18    24\n",
      " [4,]   32   18   10    9   60   10   48    3   11    47\n",
      " [5,]   18    1   33   15    5   34   29    0   70    37\n",
      " [6,]    6   14   11   34   25    0    2   29    1     0\n",
      " [7,]   58    3   28   18   28   13    0   46   43    20\n",
      " [8,]   18   57   54   64   36   34    4    0    7    20\n",
      " [9,]   33    7   41   28    3   37   58   30    7     2\n",
      "[10,]   17    0   11   37    6   40    4   11   56     1\n",
      "[1] \"No. of empty groups after simulation =  8\"\n",
      "[1] \"No. of large groups after simulation =  13\"\n",
      "[1] \"No. of community members after simulation =  2287\"\n",
      "[1] \"Standard deviation after simulation =  19.25\"\n"
     ]
    },
    {
     "data": {
      "image/png": "[encoded data removed]",
      "text/plain": [
       "Plot with title \"Histogram of newMyMatrix\""
      ]
     },
     "metadata": {},
     "output_type": "display_data"
    }
   ],
   "source": [
    "# Run the simulation and print the changed state of the community\n",
    "newMyMatrix <- simulation(n_trials, myMatrix)\n",
    "\n",
    "print(newMyMatrix)\n",
    "print(paste(\"No. of empty groups after simulation = \", sum(newMyMatrix == 0)))\n",
    "print(paste(\"No. of large groups after simulation = \", sum(newMyMatrix >= threshold)))\n",
    "print(paste(\"No. of community members after simulation = \", sum(newMyMatrix)))\n",
    "print(paste(\"Standard deviation after simulation = \", round(sd(newMyMatrix), 2)))\n",
    "hist(newMyMatrix, col = \"gray\", xlab = \"Group members\", breaks = 10)"
   ]
  }
 ],
 "metadata": {
  "kernelspec": {
   "display_name": "R",
   "language": "R",
   "name": "ir"
  },
  "language_info": {
   "codemirror_mode": "r",
   "file_extension": ".r",
   "mimetype": "text/x-r-source",
   "name": "R",
   "pygments_lexer": "r",
   "version": "3.6.1"
  }
 },
 "nbformat": 4,
 "nbformat_minor": 5
}
