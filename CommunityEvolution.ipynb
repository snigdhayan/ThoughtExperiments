{
 "cells": [
  {
   "cell_type": "markdown",
   "id": "entitled-banana",
   "metadata": {},
   "source": [
    "# Community evolution\n",
    "\n",
    "We represent a community of groups as a matrix. Each cell represents a group and the cell entry is the number of its members. \n",
    "The aim is to simulate the evolution of the community and its groups if members randomly join and leave the groups.\n",
    "The current implementation is incomplete. I would like to enhance the setup with `attractors` and `repellers` in future."
   ]
  },
  {
   "cell_type": "code",
   "execution_count": 1,
   "id": "hungarian-kelly",
   "metadata": {},
   "outputs": [],
   "source": [
    "# Create a community of groups as a matrix\n",
    "nRow <- 10\n",
    "nCol <- 10\n",
    "randomData <- sample(x = c(0:50), size = nRow*nCol, replace = TRUE)\n",
    "myData <- rep(randomData,nRow*nCol)\n",
    "myMatrix <- matrix(data = myData, nrow = nRow, ncol = nCol)\n",
    "threshold <- 50 # if the number of members of a group exceeds threshold it is called large"
   ]
  },
  {
   "cell_type": "code",
   "execution_count": 2,
   "id": "military-trance",
   "metadata": {},
   "outputs": [],
   "source": [
    "# The possibility to move to a neighboring group or not\n",
    "choice <- c(-1,0,1)"
   ]
  },
  {
   "cell_type": "code",
   "execution_count": 3,
   "id": "drawn-procedure",
   "metadata": {},
   "outputs": [],
   "source": [
    "# In each iteration one member can leave the current group and join a neighboring group\n",
    "iteration <- function(matrix) {\n",
    "  for (i in c(1:NROW(matrix))) {\n",
    "    for (j in c(1:NCOL(matrix))) {\n",
    "        x <- sample(choice, 1, replace = TRUE)\n",
    "        y <- sample(choice, 1, replace = TRUE)\n",
    "        if ((i+x) >= 1 # x-coordinate lower bound check\n",
    "            & (i + x) <= NROW(matrix) # x-coordinate upper bound check\n",
    "            & (j + y) >= 1 # y-coordinate lower bound check\n",
    "            & (j + y) <= NCOL(matrix) # y-coordinate upper bound check\n",
    "            & (matrix[i,j] - 1 >= 0)) { # group is non-empty\n",
    "            matrix[i,j] <- matrix[i,j] - 1 # leave the group\n",
    "            matrix[i+x,j+y] <- matrix[i+x,j+y] + 1 # join the neighboring group\n",
    "        }\n",
    "        else if ((matrix[i,j] - 1 >= 0)) { \n",
    "            matrix[i,j] <- matrix[i,j] - 1 # leave the community altogether\n",
    "        } \n",
    "    }\n",
    "  }\n",
    "  return(matrix)\n",
    "}"
   ]
  },
  {
   "cell_type": "code",
   "execution_count": 4,
   "id": "fossil-principal",
   "metadata": {},
   "outputs": [],
   "source": [
    "# Number of iterations\n",
    "n_trials <- 1000\n",
    "\n",
    "# The noise represents the addition (birth or immigration) and the subtraction (death or emigration) of community members\n",
    "noise <- c(-2:2)"
   ]
  },
  {
   "cell_type": "code",
   "execution_count": 5,
   "id": "retained-sucking",
   "metadata": {},
   "outputs": [],
   "source": [
    "# Run the iteration for a certain number of times\n",
    "simulation <- function(n_trials, matrix) {\n",
    "    for (i in c(1:n_trials)) {\n",
    "        randomNoise <- sample(x = noise, size = nRow*nCol, replace = TRUE)\n",
    "        noiseMatrix <- matrix(data = randomNoise, nrow = nRow, ncol = nCol)\n",
    "        simulatedMatrix <- iteration(matrix + noiseMatrix)\n",
    "        }\n",
    "    return(simulatedMatrix)\n",
    "}"
   ]
  },
  {
   "cell_type": "code",
   "execution_count": 6,
   "id": "funny-complexity",
   "metadata": {},
   "outputs": [
    {
     "name": "stdout",
     "output_type": "stream",
     "text": [
      "      [,1] [,2] [,3] [,4] [,5] [,6] [,7] [,8] [,9] [,10]\n",
      " [1,]   18    1   43    4    4   21   36   35   21    11\n",
      " [2,]   12    6    0   39   50   27    9   21    6     4\n",
      " [3,]    0   47   41   16   40   26   42   39   47    42\n",
      " [4,]    5   34   10   44    5   47   42   35   44    45\n",
      " [5,]   48   41   27   29   42   30   26   12   19    10\n",
      " [6,]   11   49   26   14   40   40    9   39   47     5\n",
      " [7,]   25   50    3    1   31   46   21   34   17     4\n",
      " [8,]    6    8   29   31   26   40   10    3   48    47\n",
      " [9,]    3   43   41   38    7   15   30    0   16    43\n",
      "[10,]   24   29   39   49   28    9   13    4   15     8\n",
      "[1] \"#Empty groups before simulation =  3\"\n",
      "[1] \"#Large groups before simulation =  2\"\n",
      "[1] \"#Community members before simulation =  2517\"\n",
      "[1] \"Std. Dev. before simulation =  16.13\"\n"
     ]
    }
   ],
   "source": [
    "# Print the initial state of the community\n",
    "print(myMatrix)\n",
    "print(paste(\"#Empty groups before simulation = \", sum(myMatrix == 0)))\n",
    "print(paste(\"#Large groups before simulation = \", sum(myMatrix >= threshold)))\n",
    "print(paste(\"#Community members before simulation = \", sum(myMatrix)))\n",
    "print(paste(\"Std. Dev. before simulation = \", round(sd(myMatrix),2)))"
   ]
  },
  {
   "cell_type": "code",
   "execution_count": 7,
   "id": "canadian-certificate",
   "metadata": {},
   "outputs": [
    {
     "name": "stdout",
     "output_type": "stream",
     "text": [
      "      [,1] [,2] [,3] [,4] [,5] [,6] [,7] [,8] [,9] [,10]\n",
      " [1,]   18    0   45    4    4   21   35   37   19    12\n",
      " [2,]   13    5    0   42   50   28    6   20    6     1\n",
      " [3,]    0   44   38   15   40   25   41   39   45    41\n",
      " [4,]    6   32   12   43    7   50   40   36   44    44\n",
      " [5,]   49   41   26   29   41   29   25   14   17     7\n",
      " [6,]   11   49   26   14   41   40    7   36   49     7\n",
      " [7,]   23   48    2   -1   34   48   21   32   16     2\n",
      " [8,]    4   12   29   30   26   38   12    1   50    48\n",
      " [9,]    2   40   40   40    5   16   30    2   13    44\n",
      "[10,]   22   32   37   48   27    9   12    5   15    10\n",
      "[1] \"#Empty groups after simulation =  3\"\n",
      "[1] \"#Large groups after simulation =  3\"\n",
      "[1] \"#Community members after simulation =  2490\"\n",
      "[1] \"Std. Dev. after simulation =  16.23\"\n"
     ]
    }
   ],
   "source": [
    "# Run the simulation and print the changed state of the community\n",
    "newMyMatrix <- simulation(n_trials, myMatrix)\n",
    "\n",
    "print(newMyMatrix)\n",
    "print(paste(\"#Empty groups after simulation = \", sum(newMyMatrix == 0)))\n",
    "print(paste(\"#Large groups after simulation = \", sum(newMyMatrix >= threshold)))\n",
    "print(paste(\"#Community members after simulation = \", sum(newMyMatrix)))\n",
    "print(paste(\"Std. Dev. after simulation = \", round(sd(newMyMatrix),2)))"
   ]
  }
 ],
 "metadata": {
  "kernelspec": {
   "display_name": "R",
   "language": "R",
   "name": "ir"
  },
  "language_info": {
   "codemirror_mode": "r",
   "file_extension": ".r",
   "mimetype": "text/x-r-source",
   "name": "R",
   "pygments_lexer": "r",
   "version": "3.6.1"
  }
 },
 "nbformat": 4,
 "nbformat_minor": 5
}
