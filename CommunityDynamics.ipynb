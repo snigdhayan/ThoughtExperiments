{
 "cells": [
  {
   "cell_type": "markdown",
   "id": "premier-illinois",
   "metadata": {},
   "source": [
    "# Community dynamics\n",
    "\n",
    "I represent a community of groups as a matrix. Each cell represents a group and the cell entry is the number of its members. \n",
    "The aim is to simulate the evolution of the community and its groups under some natural dynamics. \n",
    "In several runs of the simulation I noticed that the shapes of the histograms depicted below remain approximately the same.\n",
    "For the first histogram describing the initial state of the community this fact is not very surprising based on my simulation \n",
    "parameters. Moreover, the standard deviation also increases after the simulation run."
   ]
  },
  {
   "cell_type": "code",
   "execution_count": 1,
   "id": "hungarian-kelly",
   "metadata": {},
   "outputs": [],
   "source": [
    "# Create a community of groups as a matrix\n",
    "nRow <- 10\n",
    "nCol <- 10\n",
    "threshold <- 50 # if the number of members of a group exceeds the threshold then I call it large\n",
    "randomData <- sample(x = c(0:threshold), size = nRow*nCol, replace = TRUE) # initial group size capped at threshold\n",
    "myData <- rep(randomData, nRow*nCol)\n",
    "myMatrix <- matrix(data = myData, nrow = nRow, ncol = nCol)"
   ]
  },
  {
   "cell_type": "code",
   "execution_count": 2,
   "id": "military-trance",
   "metadata": {},
   "outputs": [],
   "source": [
    "# Label groups as repeller,  neutral and attractor by -1, 0 and 1 respectively\n",
    "att = 0.2 # fraction of attractors\n",
    "rep = 0.1 # fraction of repellers\n",
    "neutral = 1 - att - rep # fraction of neutral groups\n",
    "\n",
    "attRep <- sample(x = c(-1, 0, 1), size = nRow*nCol, replace = TRUE, prob = c(rep, neutral, att)) # randomly label the groups\n",
    "myAttRep <- rep(attRep, nRow*nCol)\n",
    "myAttRepMatrix <- matrix(data = myAttRep, nrow = nRow, ncol = nCol)\n",
    "\n",
    "# The propensity of the members to move is controlled by the type of the group (attractor, repeller or neutral)\n",
    "attChoice <- c(-1, 0, 1, prob = c(0.1,0.8,0.1)) # high probability to stay in the group\n",
    "repChoice <- c(-1, 0, 1, prob = c(0.4,0.2,0.4)) # high probability to move out of the group\n",
    "neutralChoice <- c(-1, 0, 1, prob = c(0.25,0.5,0.25)) # balanced probabilities "
   ]
  },
  {
   "cell_type": "code",
   "execution_count": 3,
   "id": "drawn-procedure",
   "metadata": {},
   "outputs": [],
   "source": [
    "# Iteration - somes members of a group can leave their group and join a neighboring group or leave the community altogether\n",
    "iteration <- function(matrix, attRepMatrix) {\n",
    "  for (i in c(1:NROW(matrix))) {\n",
    "    for (j in c(1:NCOL(matrix))) {\n",
    "        if (attRepMatrix[i,j] == -1) {\n",
    "            x <- sample(x = repChoice, 1, replace = TRUE)\n",
    "            y <- sample(x = repChoice, 1, replace = TRUE)\n",
    "        }\n",
    "        if (attRepMatrix[i,j] == 1) {\n",
    "            x <- sample(x = attChoice, 1, replace = TRUE)\n",
    "            y <- sample(x = attChoice, 1, replace = TRUE)\n",
    "        }\n",
    "        if (attRepMatrix[i,j] == 0) {\n",
    "            x <- sample(x = neutralChoice, 1, replace = TRUE)\n",
    "            y <- sample(x = neutralChoice, 1, replace = TRUE)\n",
    "        }\n",
    "        n_movers <- sample(x = c(0:matrix[i,j]), size = 1)\n",
    "        if ((i+x) >= 1 # x-coordinate lower bound check\n",
    "            & (i+x) <= NROW(matrix) # x-coordinate upper bound check\n",
    "            & (j+y) >= 1 # y-coordinate lower bound check\n",
    "            & (j+y) <= NCOL(matrix)) { # y-coordinate upper bound check\n",
    "            matrix[i,j] <- matrix[i,j] - n_movers # leave the current group\n",
    "            matrix[i+x,j+y] <- matrix[i+x,j+y] + n_movers # join the neighboring group\n",
    "        }\n",
    "        else matrix[i,j] <- matrix[i,j] - n_movers # leave the community altogether\n",
    "    }\n",
    "  }\n",
    "  return(matrix)\n",
    "}"
   ]
  },
  {
   "cell_type": "code",
   "execution_count": 4,
   "id": "fossil-principal",
   "metadata": {},
   "outputs": [],
   "source": [
    "# Number of iterations\n",
    "n_trials <- 1000\n",
    "\n",
    "# The dynamics represents the growth (birth or immigration) and the contraction (death or emigration) of the community members\n",
    "dynamics <- c(-10:12) # slightly skewed toward growth"
   ]
  },
  {
   "cell_type": "code",
   "execution_count": 5,
   "id": "retained-sucking",
   "metadata": {},
   "outputs": [],
   "source": [
    "# Simulation - run the iteration for a certain number of times\n",
    "simulation <- function(n_trials, matrix, attRepMatrix) {\n",
    "    for (i in c(1:n_trials)) {\n",
    "        randomDynamics <- sample(x = dynamics, size = nRow*nCol, replace = TRUE)\n",
    "        dynamicsMatrix <- matrix(data = randomDynamics, nrow = nRow, ncol = nCol)\n",
    "        intermediateMatrix <- matrix + dynamicsMatrix # add dynamics due to birth, death, immigration, emigration, etc.\n",
    "        intermediateMatrix[intermediateMatrix < 0] <- 0 # ensure that there is no negative group membership\n",
    "        simulatedMatrix <- iteration(matrix = intermediateMatrix, attRepMatrix = attRepMatrix)\n",
    "        }\n",
    "    return(simulatedMatrix)\n",
    "}"
   ]
  },
  {
   "cell_type": "code",
   "execution_count": 6,
   "id": "funny-complexity",
   "metadata": {},
   "outputs": [
    {
     "name": "stdout",
     "output_type": "stream",
     "text": [
      "      [,1] [,2] [,3] [,4] [,5] [,6] [,7] [,8] [,9] [,10]\n",
      " [1,]   46    1   36   26   28   23    3   38    4    15\n",
      " [2,]   30   46   50   29    9   42   23    2    8    35\n",
      " [3,]    8   48   49   25   18   27    5    1   42     2\n",
      " [4,]   31   36   42   23    1   21   37    1   28    30\n",
      " [5,]   32   20   21   43    2   16   38   31   23     6\n",
      " [6,]    0   31   23   42    2    6    6   25   34    42\n",
      " [7,]   17   44   50   48   35   26    5   28   35     1\n",
      " [8,]   37   27   13   45   38   49   20   50   28    37\n",
      " [9,]   49   40   37   30   39   49   43    1   29    26\n",
      "[10,]   10   42   35   16   12   44   37   14   28    47\n",
      "[1] \"No. of empty groups before simulation =  1\"\n",
      "[1] \"No. of large groups before simulation =  3\"\n",
      "[1] \"No. of community members before simulation =  2673\"\n",
      "[1] \"Standard deviation before simulation =  15.4\"\n"
     ]
    },
    {
     "data": {
      "image/png": "[encoded data removed]",
      "text/plain": [
       "Plot with title \"State of community before simulation\""
      ]
     },
     "metadata": {},
     "output_type": "display_data"
    }
   ],
   "source": [
    "# Print the initial state of the community\n",
    "print(myMatrix)\n",
    "print(paste(\"No. of empty groups before simulation = \", sum(myMatrix == 0)))\n",
    "print(paste(\"No. of large groups before simulation = \", sum(myMatrix >= threshold)))\n",
    "print(paste(\"No. of community members before simulation = \", sum(myMatrix)))\n",
    "print(paste(\"Standard deviation before simulation = \", round(sd(myMatrix), 2)))\n",
    "hist(myMatrix, col = \"gray\", xlab = \"Group members\", breaks = 10, main = \"State of community before simulation\")"
   ]
  },
  {
   "cell_type": "code",
   "execution_count": 7,
   "id": "unauthorized-numbers",
   "metadata": {},
   "outputs": [
    {
     "data": {
      "text/html": [
       "<table>\n",
       "<tbody>\n",
       "\t<tr><td> 0</td><td>-1</td><td>-1</td><td> 0</td><td> 0</td><td>0 </td><td>0 </td><td> 0</td><td> 0</td><td> 0</td></tr>\n",
       "\t<tr><td>-1</td><td> 0</td><td> 0</td><td> 0</td><td> 0</td><td>0 </td><td>1 </td><td>-1</td><td> 0</td><td> 1</td></tr>\n",
       "\t<tr><td> 0</td><td>-1</td><td> 1</td><td> 1</td><td> 0</td><td>0 </td><td>0 </td><td>-1</td><td> 0</td><td> 0</td></tr>\n",
       "\t<tr><td> 1</td><td> 0</td><td> 0</td><td>-1</td><td>-1</td><td>0 </td><td>0 </td><td> 0</td><td> 0</td><td> 0</td></tr>\n",
       "\t<tr><td> 0</td><td> 1</td><td> 0</td><td> 0</td><td>-1</td><td>0 </td><td>0 </td><td> 0</td><td> 0</td><td>-1</td></tr>\n",
       "\t<tr><td>-1</td><td> 0</td><td> 0</td><td>-1</td><td> 0</td><td>1 </td><td>0 </td><td> 0</td><td> 1</td><td>-1</td></tr>\n",
       "\t<tr><td> 0</td><td> 0</td><td> 1</td><td> 1</td><td> 0</td><td>0 </td><td>0 </td><td> 0</td><td> 0</td><td> 0</td></tr>\n",
       "\t<tr><td> 0</td><td> 0</td><td> 0</td><td> 0</td><td> 0</td><td>1 </td><td>0 </td><td> 1</td><td> 0</td><td> 0</td></tr>\n",
       "\t<tr><td> 0</td><td> 0</td><td> 0</td><td> 0</td><td> 0</td><td>1 </td><td>0 </td><td> 0</td><td> 0</td><td> 0</td></tr>\n",
       "\t<tr><td> 0</td><td> 0</td><td> 0</td><td>-1</td><td> 0</td><td>1 </td><td>1 </td><td> 0</td><td>-1</td><td>-1</td></tr>\n",
       "</tbody>\n",
       "</table>\n"
      ],
      "text/latex": [
       "\\begin{tabular}{llllllllll}\n",
       "\t  0 & -1 & -1 &  0 &  0 & 0  & 0  &  0 &  0 &  0\\\\\n",
       "\t -1 &  0 &  0 &  0 &  0 & 0  & 1  & -1 &  0 &  1\\\\\n",
       "\t  0 & -1 &  1 &  1 &  0 & 0  & 0  & -1 &  0 &  0\\\\\n",
       "\t  1 &  0 &  0 & -1 & -1 & 0  & 0  &  0 &  0 &  0\\\\\n",
       "\t  0 &  1 &  0 &  0 & -1 & 0  & 0  &  0 &  0 & -1\\\\\n",
       "\t -1 &  0 &  0 & -1 &  0 & 1  & 0  &  0 &  1 & -1\\\\\n",
       "\t  0 &  0 &  1 &  1 &  0 & 0  & 0  &  0 &  0 &  0\\\\\n",
       "\t  0 &  0 &  0 &  0 &  0 & 1  & 0  &  1 &  0 &  0\\\\\n",
       "\t  0 &  0 &  0 &  0 &  0 & 1  & 0  &  0 &  0 &  0\\\\\n",
       "\t  0 &  0 &  0 & -1 &  0 & 1  & 1  &  0 & -1 & -1\\\\\n",
       "\\end{tabular}\n"
      ],
      "text/markdown": [
       "\n",
       "|  0 | -1 | -1 |  0 |  0 | 0  | 0  |  0 |  0 |  0 |\n",
       "| -1 |  0 |  0 |  0 |  0 | 0  | 1  | -1 |  0 |  1 |\n",
       "|  0 | -1 |  1 |  1 |  0 | 0  | 0  | -1 |  0 |  0 |\n",
       "|  1 |  0 |  0 | -1 | -1 | 0  | 0  |  0 |  0 |  0 |\n",
       "|  0 |  1 |  0 |  0 | -1 | 0  | 0  |  0 |  0 | -1 |\n",
       "| -1 |  0 |  0 | -1 |  0 | 1  | 0  |  0 |  1 | -1 |\n",
       "|  0 |  0 |  1 |  1 |  0 | 0  | 0  |  0 |  0 |  0 |\n",
       "|  0 |  0 |  0 |  0 |  0 | 1  | 0  |  1 |  0 |  0 |\n",
       "|  0 |  0 |  0 |  0 |  0 | 1  | 0  |  0 |  0 |  0 |\n",
       "|  0 |  0 |  0 | -1 |  0 | 1  | 1  |  0 | -1 | -1 |\n",
       "\n"
      ],
      "text/plain": [
       "      [,1] [,2] [,3] [,4] [,5] [,6] [,7] [,8] [,9] [,10]\n",
       " [1,]  0   -1   -1    0    0   0    0     0    0    0   \n",
       " [2,] -1    0    0    0    0   0    1    -1    0    1   \n",
       " [3,]  0   -1    1    1    0   0    0    -1    0    0   \n",
       " [4,]  1    0    0   -1   -1   0    0     0    0    0   \n",
       " [5,]  0    1    0    0   -1   0    0     0    0   -1   \n",
       " [6,] -1    0    0   -1    0   1    0     0    1   -1   \n",
       " [7,]  0    0    1    1    0   0    0     0    0    0   \n",
       " [8,]  0    0    0    0    0   1    0     1    0    0   \n",
       " [9,]  0    0    0    0    0   1    0     0    0    0   \n",
       "[10,]  0    0    0   -1    0   1    1     0   -1   -1   "
      ]
     },
     "metadata": {},
     "output_type": "display_data"
    }
   ],
   "source": [
    "# Print the matrix of attractors, repellers and neutral groups\n",
    "myAttRepMatrix"
   ]
  },
  {
   "cell_type": "code",
   "execution_count": 8,
   "id": "extensive-license",
   "metadata": {},
   "outputs": [
    {
     "name": "stdout",
     "output_type": "stream",
     "text": [
      "      [,1] [,2] [,3] [,4] [,5] [,6] [,7] [,8] [,9] [,10]\n",
      " [1,]   44    0   26   18   23   13    4   34    0     2\n",
      " [2,]   26   90   77   19    0   27   29    6   11    16\n",
      " [3,]    5   21   54    7   60   16    0    0   44     0\n",
      " [4,]    1   65   19   21    0   43    9    3   24     8\n",
      " [5,]   13    3   96   34    7   22    8   69   13    28\n",
      " [6,]    0   34   23    5   13    0    0    7   31    33\n",
      " [7,]   27    5   58   76   54   16   31   25   27     5\n",
      " [8,]  100    3   21   27   37   13    2   73   24     0\n",
      " [9,]   16   43   36   42   38   98   46    5   38    33\n",
      "[10,]    2   11   47    1    8   23   27   18   21    23\n",
      "[1] \"No. of empty groups after simulation =  11\"\n",
      "[1] \"No. of large groups after simulation =  13\"\n",
      "[1] \"No. of community members after simulation =  2504\"\n",
      "[1] \"Standard deviation after simulation =  23.93\"\n"
     ]
    },
    {
     "data": {
      "image/png": "[encoded data removed]",
      "text/plain": [
       "Plot with title \"State of community after simulation\""
      ]
     },
     "metadata": {},
     "output_type": "display_data"
    }
   ],
   "source": [
    "# Run the simulation and print the changed state of the community\n",
    "newMyMatrix <- simulation(n_trials = n_trials, matrix = myMatrix, attRepMatrix = myAttRepMatrix)\n",
    "\n",
    "print(newMyMatrix)\n",
    "print(paste(\"No. of empty groups after simulation = \", sum(newMyMatrix == 0)))\n",
    "print(paste(\"No. of large groups after simulation = \", sum(newMyMatrix >= threshold)))\n",
    "print(paste(\"No. of community members after simulation = \", sum(newMyMatrix)))\n",
    "print(paste(\"Standard deviation after simulation = \", round(sd(newMyMatrix), 2)))\n",
    "hist(newMyMatrix, col = \"gray\", xlab = \"Group members\", breaks = 10, main = \"State of community after simulation\")"
   ]
  }
 ],
 "metadata": {
  "kernelspec": {
   "display_name": "R",
   "language": "R",
   "name": "ir"
  },
  "language_info": {
   "codemirror_mode": "r",
   "file_extension": ".r",
   "mimetype": "text/x-r-source",
   "name": "R",
   "pygments_lexer": "r",
   "version": "3.6.1"
  }
 },
 "nbformat": 4,
 "nbformat_minor": 5
}
