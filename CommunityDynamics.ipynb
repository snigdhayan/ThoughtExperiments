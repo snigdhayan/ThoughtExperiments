{
 "cells": [
  {
   "cell_type": "markdown",
   "id": "harmful-independence",
   "metadata": {},
   "source": [
    "# Community dynamics\n",
    "\n",
    "I represent a community of groups as a matrix. Each cell represents a group and the cell entry is the number of its members. \n",
    "The aim is to simulate the evolution of the community and its groups under some natural dynamics. \n",
    "In several runs of the simulation I noticed that the shapes of the histograms depicted below remain approximately the same.\n",
    "For the first histogram describing the initial state of the community this fact is not very surprising based on my simulation \n",
    "parameters. Moreover, the standard deviation also increases after the simulation run."
   ]
  },
  {
   "cell_type": "code",
   "execution_count": 1,
   "id": "hungarian-kelly",
   "metadata": {},
   "outputs": [],
   "source": [
    "# Create a community of groups as a matrix\n",
    "nRow <- 10\n",
    "nCol <- 10\n",
    "threshold <- 50 # if the number of members of a group exceeds the threshold then I call it large\n",
    "randomData <- sample(x = c(0:threshold), size = nRow*nCol, replace = TRUE) # initial group size capped at threshold\n",
    "myData <- rep(randomData, nRow*nCol)\n",
    "myMatrix <- matrix(data = myData, nrow = nRow, ncol = nCol)"
   ]
  },
  {
   "cell_type": "code",
   "execution_count": 2,
   "id": "military-trance",
   "metadata": {},
   "outputs": [],
   "source": [
    "# Label groups as repeller,  neutral and attractor by -1, 0 and 1 respectively\n",
    "att = 0.2 # fraction of attractors\n",
    "rep = 0.1 # fraction of repellers\n",
    "neutral = 1 - att - rep # fraction of neutral groups\n",
    "\n",
    "attRep <- sample(x = c(-1, 0, 1), size = nRow*nCol, replace = TRUE, prob = c(rep, neutral, att)) # randomly label the groups\n",
    "myAttRep <- rep(attRep, nRow*nCol)\n",
    "myAttRepMatrix <- matrix(data = myAttRep, nrow = nRow, ncol = nCol)\n",
    "\n",
    "# The propensity of the members to move is controlled by the type of the group (attractor, repeller or neutral)\n",
    "attChoice <- c(-1, 0, 1, prob = c(0.1,0.8,0.1)) # high probability to stay in the group\n",
    "repChoice <- c(-1, 0, 1, prob = c(0.4,0.2,0.4)) # high probability to move out of the group\n",
    "neutralChoice <- c(-1, 0, 1, prob = c(0.25,0.5,0.25)) # balanced probabilities "
   ]
  },
  {
   "cell_type": "code",
   "execution_count": 3,
   "id": "drawn-procedure",
   "metadata": {},
   "outputs": [],
   "source": [
    "# Iteration - somes members of a group can leave their group and join a neighboring group or leave the community altogether\n",
    "iteration <- function(matrix, attRepMatrix) {\n",
    "  for (i in c(1:NROW(matrix))) {\n",
    "    for (j in c(1:NCOL(matrix))) {\n",
    "        if (attRepMatrix[i,j] == -1) {\n",
    "            x <- sample(x = repChoice, 1, replace = TRUE)\n",
    "            y <- sample(x = repChoice, 1, replace = TRUE)\n",
    "        }\n",
    "        if (attRepMatrix[i,j] == 0) {\n",
    "            x <- sample(x = neutralChoice, 1, replace = TRUE)\n",
    "            y <- sample(x = neutralChoice, 1, replace = TRUE)\n",
    "        }\n",
    "        if (attRepMatrix[i,j] == 1) {\n",
    "            x <- sample(x = attChoice, 1, replace = TRUE)\n",
    "            y <- sample(x = attChoice, 1, replace = TRUE)\n",
    "        }\n",
    "        n_movers <- sample(x = c(0:matrix[i,j]), size = 1)\n",
    "        if ((i+x) >= 1 # x-coordinate lower bound check\n",
    "            & (i+x) <= NROW(matrix) # x-coordinate upper bound check\n",
    "            & (j+y) >= 1 # y-coordinate lower bound check\n",
    "            & (j+y) <= NCOL(matrix)) { # y-coordinate upper bound check\n",
    "            matrix[i,j] <- matrix[i,j] - n_movers # leave the current group\n",
    "            matrix[i+x,j+y] <- matrix[i+x,j+y] + n_movers # join the neighboring group\n",
    "        }\n",
    "        else matrix[i,j] <- matrix[i,j] - n_movers # leave the community altogether\n",
    "    }\n",
    "  }\n",
    "  return(matrix)\n",
    "}"
   ]
  },
  {
   "cell_type": "code",
   "execution_count": 4,
   "id": "fossil-principal",
   "metadata": {},
   "outputs": [],
   "source": [
    "# Number of iterations\n",
    "n_trials <- 1000\n",
    "\n",
    "# The dynamics represents the growth (birth or immigration) and the contraction (death or emigration) of the community members\n",
    "dynamics <- c(-10:12) # slightly skewed toward growth"
   ]
  },
  {
   "cell_type": "code",
   "execution_count": 5,
   "id": "retained-sucking",
   "metadata": {},
   "outputs": [],
   "source": [
    "# Simulation - run the iteration for a certain number of times\n",
    "simulation <- function(n_trials, matrix, attRepMatrix) {\n",
    "    for (i in c(1:n_trials)) {\n",
    "        randomDynamics <- sample(x = dynamics, size = nRow*nCol, replace = TRUE)\n",
    "        dynamicsMatrix <- matrix(data = randomDynamics, nrow = nRow, ncol = nCol)\n",
    "        intermediateMatrix <- matrix + dynamicsMatrix # add dynamics due to birth, death, immigration, emigration, etc.\n",
    "        intermediateMatrix[intermediateMatrix < 0] <- 0 # ensure that there is no negative group membership\n",
    "        simulatedMatrix <- iteration(matrix = intermediateMatrix, attRepMatrix = attRepMatrix)\n",
    "        }\n",
    "    return(simulatedMatrix)\n",
    "}"
   ]
  },
  {
   "cell_type": "code",
   "execution_count": 6,
   "id": "funny-complexity",
   "metadata": {},
   "outputs": [
    {
     "name": "stdout",
     "output_type": "stream",
     "text": [
      "      [,1] [,2] [,3] [,4] [,5] [,6] [,7] [,8] [,9] [,10]\n",
      " [1,]   25   17   36   36   21   33   40   26   29    10\n",
      " [2,]   28    2    5   32   17   47   49    5   45     0\n",
      " [3,]   44   45   48   16   25   41   44   50   36    44\n",
      " [4,]   31   21   21   29   47    3   49   29    0    30\n",
      " [5,]   25   18   37   46   30   29   13   39   24    47\n",
      " [6,]    7   23   17   19   44   43   16   48    9    10\n",
      " [7,]   27    6   29   37   14   35   40   32   47    22\n",
      " [8,]   13   35   40   31   18   31   21   15   27    18\n",
      " [9,]   15   30   22   48   17   31   18   17   12    44\n",
      "[10,]   39   26   21    4    2   16    4   21   44    46\n",
      "[1] \"No. of empty groups before simulation =  2\"\n",
      "[1] \"No. of large groups before simulation =  1\"\n",
      "[1] \"No. of community members before simulation =  2715\"\n",
      "[1] \"Standard deviation before simulation =  13.93\"\n"
     ]
    },
    {
     "data": {
      "image/png": "[encoded data removed]",
      "text/plain": [
       "Plot with title \"State of community before simulation\""
      ]
     },
     "metadata": {},
     "output_type": "display_data"
    }
   ],
   "source": [
    "# Print the initial state of the community\n",
    "print(myMatrix)\n",
    "print(paste(\"No. of empty groups before simulation = \", sum(myMatrix == 0)))\n",
    "print(paste(\"No. of large groups before simulation = \", sum(myMatrix >= threshold)))\n",
    "print(paste(\"No. of community members before simulation = \", sum(myMatrix)))\n",
    "print(paste(\"Standard deviation before simulation = \", round(sd(myMatrix), 2)))\n",
    "hist(myMatrix, col = \"gray\", xlab = \"No. of group members\", ylab = \"No. of groups\", \n",
    "     breaks = 10, main = \"State of community before simulation\")"
   ]
  },
  {
   "cell_type": "code",
   "execution_count": 7,
   "id": "naughty-dancing",
   "metadata": {},
   "outputs": [
    {
     "data": {
      "text/html": [
       "<table>\n",
       "<tbody>\n",
       "\t<tr><td> 0</td><td>0 </td><td> 1</td><td> 0</td><td> 0</td><td> 0</td><td>0 </td><td> 0</td><td> 0</td><td>-1</td></tr>\n",
       "\t<tr><td>-1</td><td>0 </td><td> 0</td><td> 1</td><td> 1</td><td> 1</td><td>0 </td><td> 0</td><td> 1</td><td> 0</td></tr>\n",
       "\t<tr><td> 0</td><td>0 </td><td> 1</td><td>-1</td><td>-1</td><td> 1</td><td>0 </td><td>-1</td><td> 1</td><td> 0</td></tr>\n",
       "\t<tr><td> 0</td><td>0 </td><td> 0</td><td> 0</td><td> 0</td><td>-1</td><td>1 </td><td> 0</td><td> 0</td><td> 0</td></tr>\n",
       "\t<tr><td> 1</td><td>0 </td><td> 1</td><td> 0</td><td> 0</td><td> 0</td><td>1 </td><td> 0</td><td> 1</td><td> 1</td></tr>\n",
       "\t<tr><td> 1</td><td>0 </td><td>-1</td><td> 0</td><td> 0</td><td> 1</td><td>0 </td><td> 0</td><td> 0</td><td> 0</td></tr>\n",
       "\t<tr><td> 0</td><td>0 </td><td>-1</td><td> 0</td><td>-1</td><td> 0</td><td>0 </td><td> 0</td><td>-1</td><td> 0</td></tr>\n",
       "\t<tr><td> 1</td><td>0 </td><td> 0</td><td> 0</td><td>-1</td><td> 0</td><td>0 </td><td>-1</td><td> 0</td><td> 0</td></tr>\n",
       "\t<tr><td> 0</td><td>0 </td><td> 0</td><td> 0</td><td> 0</td><td> 1</td><td>0 </td><td> 0</td><td> 0</td><td> 0</td></tr>\n",
       "\t<tr><td> 0</td><td>0 </td><td> 0</td><td> 1</td><td> 0</td><td> 0</td><td>0 </td><td> 0</td><td> 0</td><td> 0</td></tr>\n",
       "</tbody>\n",
       "</table>\n"
      ],
      "text/latex": [
       "\\begin{tabular}{llllllllll}\n",
       "\t  0 & 0  &  1 &  0 &  0 &  0 & 0  &  0 &  0 & -1\\\\\n",
       "\t -1 & 0  &  0 &  1 &  1 &  1 & 0  &  0 &  1 &  0\\\\\n",
       "\t  0 & 0  &  1 & -1 & -1 &  1 & 0  & -1 &  1 &  0\\\\\n",
       "\t  0 & 0  &  0 &  0 &  0 & -1 & 1  &  0 &  0 &  0\\\\\n",
       "\t  1 & 0  &  1 &  0 &  0 &  0 & 1  &  0 &  1 &  1\\\\\n",
       "\t  1 & 0  & -1 &  0 &  0 &  1 & 0  &  0 &  0 &  0\\\\\n",
       "\t  0 & 0  & -1 &  0 & -1 &  0 & 0  &  0 & -1 &  0\\\\\n",
       "\t  1 & 0  &  0 &  0 & -1 &  0 & 0  & -1 &  0 &  0\\\\\n",
       "\t  0 & 0  &  0 &  0 &  0 &  1 & 0  &  0 &  0 &  0\\\\\n",
       "\t  0 & 0  &  0 &  1 &  0 &  0 & 0  &  0 &  0 &  0\\\\\n",
       "\\end{tabular}\n"
      ],
      "text/markdown": [
       "\n",
       "|  0 | 0  |  1 |  0 |  0 |  0 | 0  |  0 |  0 | -1 |\n",
       "| -1 | 0  |  0 |  1 |  1 |  1 | 0  |  0 |  1 |  0 |\n",
       "|  0 | 0  |  1 | -1 | -1 |  1 | 0  | -1 |  1 |  0 |\n",
       "|  0 | 0  |  0 |  0 |  0 | -1 | 1  |  0 |  0 |  0 |\n",
       "|  1 | 0  |  1 |  0 |  0 |  0 | 1  |  0 |  1 |  1 |\n",
       "|  1 | 0  | -1 |  0 |  0 |  1 | 0  |  0 |  0 |  0 |\n",
       "|  0 | 0  | -1 |  0 | -1 |  0 | 0  |  0 | -1 |  0 |\n",
       "|  1 | 0  |  0 |  0 | -1 |  0 | 0  | -1 |  0 |  0 |\n",
       "|  0 | 0  |  0 |  0 |  0 |  1 | 0  |  0 |  0 |  0 |\n",
       "|  0 | 0  |  0 |  1 |  0 |  0 | 0  |  0 |  0 |  0 |\n",
       "\n"
      ],
      "text/plain": [
       "      [,1] [,2] [,3] [,4] [,5] [,6] [,7] [,8] [,9] [,10]\n",
       " [1,]  0   0     1    0    0    0   0     0    0   -1   \n",
       " [2,] -1   0     0    1    1    1   0     0    1    0   \n",
       " [3,]  0   0     1   -1   -1    1   0    -1    1    0   \n",
       " [4,]  0   0     0    0    0   -1   1     0    0    0   \n",
       " [5,]  1   0     1    0    0    0   1     0    1    1   \n",
       " [6,]  1   0    -1    0    0    1   0     0    0    0   \n",
       " [7,]  0   0    -1    0   -1    0   0     0   -1    0   \n",
       " [8,]  1   0     0    0   -1    0   0    -1    0    0   \n",
       " [9,]  0   0     0    0    0    1   0     0    0    0   \n",
       "[10,]  0   0     0    1    0    0   0     0    0    0   "
      ]
     },
     "metadata": {},
     "output_type": "display_data"
    }
   ],
   "source": [
    "# Print the matrix of attractors, repellers and neutral groups\n",
    "myAttRepMatrix"
   ]
  },
  {
   "cell_type": "code",
   "execution_count": 8,
   "id": "extensive-license",
   "metadata": {},
   "outputs": [
    {
     "name": "stdout",
     "output_type": "stream",
     "text": [
      "      [,1] [,2] [,3] [,4] [,5] [,6] [,7] [,8] [,9] [,10]\n",
      " [1,]   50   16   35   41   10   35    1    6   12    16\n",
      " [2,]    6   23    0   36   25   16   53   17   33     0\n",
      " [3,]   42   18   96   23   20   63   15  113   19    28\n",
      " [4,]    7   25    5   32   39   39   64   26   19     1\n",
      " [5,]   44   24   46   14    0   29    4   47   53    29\n",
      " [6,]    0   18   13    4   99   33   13   51   10     3\n",
      " [7,]   26   15   19   14   20   12   72   29   39    21\n",
      " [8,]    5   43   50   40   14   27   36    2   27    31\n",
      " [9,]   49   11   34   64    5   13    2   29    6    54\n",
      "[10,]   15   13    8    0    0   16    4   27   18     8\n",
      "[1] \"No. of empty groups after simulation =  6\"\n",
      "[1] \"No. of large groups after simulation =  13\"\n",
      "[1] \"No. of community members after simulation =  2577\"\n",
      "[1] \"Standard deviation after simulation =  21.9\"\n"
     ]
    },
    {
     "data": {
      "image/png": "[encoded data removed]",
      "text/plain": [
       "Plot with title \"State of community after simulation\""
      ]
     },
     "metadata": {},
     "output_type": "display_data"
    }
   ],
   "source": [
    "# Run the simulation and print the changed state of the community\n",
    "newMyMatrix <- simulation(n_trials = n_trials, matrix = myMatrix, attRepMatrix = myAttRepMatrix)\n",
    "\n",
    "print(newMyMatrix)\n",
    "print(paste(\"No. of empty groups after simulation = \", sum(newMyMatrix == 0)))\n",
    "print(paste(\"No. of large groups after simulation = \", sum(newMyMatrix >= threshold)))\n",
    "print(paste(\"No. of community members after simulation = \", sum(newMyMatrix)))\n",
    "print(paste(\"Standard deviation after simulation = \", round(sd(newMyMatrix), 2)))\n",
    "hist(newMyMatrix, col = \"gray\", xlab = \"No. of group members\", ylab = \"No. of groups\", \n",
    "     breaks = 10, main = \"State of community after simulation\")"
   ]
  }
 ],
 "metadata": {
  "kernelspec": {
   "display_name": "R",
   "language": "R",
   "name": "ir"
  },
  "language_info": {
   "codemirror_mode": "r",
   "file_extension": ".r",
   "mimetype": "text/x-r-source",
   "name": "R",
   "pygments_lexer": "r",
   "version": "3.6.1"
  }
 },
 "nbformat": 4,
 "nbformat_minor": 5
}
