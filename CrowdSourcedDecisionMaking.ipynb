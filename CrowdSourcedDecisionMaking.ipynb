{
 "cells": [
  {
   "cell_type": "markdown",
   "id": "about-shade",
   "metadata": {},
   "source": [
    "## Decision-making simulation\n",
    "In this notebook I am simulating the effect of overall decision accuracy according to the population distribution of average, bad, good and excellent decision-makers.\n",
    "\n",
    "    - A decision consists of a few options with one of them being correct.\n",
    "    - A decision-maker is classified as average, bad, good or excellent according to the probability of making the correct decision.\n",
    "\n",
    "I specify the relative weights of average, bad, good and excellent decision makers. Then I create a population distribution according to the weights and let them decide independently. Finally, I collect the decision of the majority of the population and check if it is correct. I iterate the whole process over various population sizes and compute the accuracy of this majority decision."
   ]
  },
  {
   "cell_type": "code",
   "execution_count": 1,
   "id": "inside-driving",
   "metadata": {},
   "outputs": [],
   "source": [
    "import numpy as np\n",
    "import matplotlib.pyplot as plt"
   ]
  },
  {
   "cell_type": "code",
   "execution_count": 2,
   "id": "tracked-composer",
   "metadata": {},
   "outputs": [],
   "source": [
    "# Global parameters of the experiment\n",
    "\n",
    "n_trials = 50 # the number of trials\n",
    "n_options = 2 # the number of decision options to choose from\n",
    "average_weight = 100 # the weight of average decision-makers\n",
    "bad_weight = 10 # the weight of bad decision-makers\n",
    "good_weight = 10 # the weight of good decision-makers\n",
    "excellent_weight = 5 # the weight of excellent decision-makers"
   ]
  },
  {
   "cell_type": "code",
   "execution_count": 3,
   "id": "editorial-intersection",
   "metadata": {},
   "outputs": [],
   "source": [
    "# Create probability distribution of average, good and excellent decision-makers\n",
    "\n",
    "total_weight = average_weight + bad_weight + good_weight + excellent_weight\n",
    "prob_distn = np.asarray([average_weight, bad_weight, good_weight, excellent_weight])/total_weight"
   ]
  },
  {
   "cell_type": "code",
   "execution_count": 4,
   "id": "eleven-modeling",
   "metadata": {},
   "outputs": [],
   "source": [
    "# Decision setup - options to choose from and the correct option\n",
    "\n",
    "decision_options = np.asarray(range(1, n_options+1)) # decision options\n",
    "correct_option = np.random.choice(decision_options) # the correct option\n",
    "initial_accuracy = 100/n_options # probability of correct decision if all options are equally likely"
   ]
  },
  {
   "cell_type": "code",
   "execution_count": 5,
   "id": "finnish-upset",
   "metadata": {},
   "outputs": [],
   "source": [
    "class decision_maker:\n",
    "    '''\n",
    "    generic decision-maker\n",
    "    \n",
    "    '''\n",
    "    \n",
    "    options = decision_options\n",
    "    bias = np.ones(n_options)*(100/n_options) # all decision options are equally likely\n",
    "    \n",
    "    def __init__(self):\n",
    "        pass\n",
    "\n",
    "    def decide(self):\n",
    "        return np.random.choice(self.options, p=self.bias)"
   ]
  },
  {
   "cell_type": "code",
   "execution_count": 6,
   "id": "valued-lebanon",
   "metadata": {},
   "outputs": [],
   "source": [
    "class average_decision_maker(decision_maker):\n",
    "    '''\n",
    "    random probability of making correct decision\n",
    "    \n",
    "    '''\n",
    "\n",
    "    def __init__(self):\n",
    "        array = np.random.choice(range(1,100), n_options)\n",
    "        self.bias = array/sum(array)"
   ]
  },
  {
   "cell_type": "code",
   "execution_count": 7,
   "id": "valued-insider",
   "metadata": {},
   "outputs": [],
   "source": [
    "class bad_decision_maker(decision_maker):\n",
    "    '''\n",
    "    unlikely to make the correct decision\n",
    "    \n",
    "    '''\n",
    "    \n",
    "    def __init__(self):\n",
    "        array = np.random.choice(range(1,100), n_options)\n",
    "        array[correct_option-1] = min(array)/2 # probability of correct decision is very low\n",
    "        self.bias = array/sum(array)"
   ]
  },
  {
   "cell_type": "code",
   "execution_count": 8,
   "id": "distinguished-support",
   "metadata": {},
   "outputs": [],
   "source": [
    "class good_decision_maker(decision_maker):\n",
    "    '''\n",
    "    quite likely to make the correct decision\n",
    "    \n",
    "    '''\n",
    "    \n",
    "    def __init__(self):\n",
    "        array = np.random.choice(range(1,100), n_options)\n",
    "        array[correct_option-1] = 2*max(array) # probability of correct decision is quite high\n",
    "        self.bias = array/sum(array)"
   ]
  },
  {
   "cell_type": "code",
   "execution_count": 9,
   "id": "transparent-clinic",
   "metadata": {},
   "outputs": [],
   "source": [
    "class excellent_decision_maker(decision_maker):\n",
    "    '''\n",
    "    makes the correct decision with very high probability\n",
    "    \n",
    "    '''\n",
    "    \n",
    "    def __init__(self):\n",
    "        array = np.random.choice(range(1,100), n_options)\n",
    "        array[correct_option-1] = 10*max(array) # probability of correct decision is extremely high\n",
    "        self.bias = array/sum(array)"
   ]
  },
  {
   "cell_type": "code",
   "execution_count": 10,
   "id": "tough-token",
   "metadata": {},
   "outputs": [],
   "source": [
    "def crowd_source_decisions(population_size):\n",
    "    '''\n",
    "    creates a population of decision-makers according to population distribution and returns their decisions\n",
    "\n",
    "    '''\n",
    "    \n",
    "    decisions = []\n",
    "    \n",
    "    for i in range(1, population_size+1):\n",
    "        decision_maker_type = np.random.choice(len(prob_distn), 1, p=prob_distn)[0]\n",
    "        if (decision_maker_type==0):\n",
    "            decision_maker = average_decision_maker()\n",
    "            decisions.append(decision_maker.decide())\n",
    "        if (decision_maker_type==1):\n",
    "            decision_maker = bad_decision_maker()\n",
    "            decisions.append(decision_maker.decide())\n",
    "        if (decision_maker_type==2):\n",
    "            decision_maker = good_decision_maker()\n",
    "            decisions.append(decision_maker.decide())\n",
    "        if (decision_maker_type==3):\n",
    "            decision_maker = excellent_decision_maker()\n",
    "            decisions.append(decision_maker.decide())\n",
    "                \n",
    "    return decisions"
   ]
  },
  {
   "cell_type": "code",
   "execution_count": 11,
   "id": "chief-headset",
   "metadata": {
    "scrolled": true
   },
   "outputs": [],
   "source": [
    "# Run the decision-making process for the selected number of trials with increasing population size and compute results\n",
    "\n",
    "n_decision_makers = []\n",
    "accuracy_values = []\n",
    "majority_vote = []\n",
    "for i in range(1, n_trials+1):\n",
    "    population_decisions = crowd_source_decisions(i*10)\n",
    "    n_decision_makers.append(i*10) # number of decision makers\n",
    "    accuracy_values.append((sum(population_decisions == correct_option)/(i*10))*100)\n",
    "    majority_vote.append(max(population_decisions, key=population_decisions.count))\n",
    "    \n",
    "majority_vote_accuracy = round((sum(majority_vote == correct_option)*100)/len(majority_vote),2)"
   ]
  },
  {
   "cell_type": "code",
   "execution_count": 12,
   "id": "helpful-round",
   "metadata": {},
   "outputs": [
    {
     "data": {
      "image/png": "[encoded data removed]",
      "text/plain": [
       "<Figure size 432x288 with 1 Axes>"
      ]
     },
     "metadata": {
      "needs_background": "light"
     },
     "output_type": "display_data"
    }
   ],
   "source": [
    "# Plot results\n",
    "\n",
    "# x-axis values \n",
    "x = n_decision_makers\n",
    "# y-axis values \n",
    "y = accuracy_values\n",
    "\n",
    "# Plot the points \n",
    "plt.plot(x, y) \n",
    "\n",
    "plt.hlines(majority_vote_accuracy, min(x), max(x), color='green')\n",
    "plt.hlines(100/n_options, min(x), max(x), color='orange')\n",
    "\n",
    "# x-axis name\n",
    "plt.xlabel('Population size of decision makers') \n",
    "# y-axis name \n",
    "plt.ylabel('Accuracy (percentage)') \n",
    "\n",
    "# Graph title\n",
    "plt.title(F'Majority Vote Accuracy\\n') \n",
    "\n",
    "\n",
    "# Plot legends\n",
    "plt.xlim((min(x), max(x)))\n",
    "plt.ylim(0, 100)\n",
    "legends = [F'Time series', \n",
    "           F'Majority vote accuracy = {majority_vote_accuracy}%', \n",
    "           F'Initial accuracy = {initial_accuracy}%']\n",
    "plt.legend(legends, loc='lower right')\n",
    "\n",
    "# Display the graph\n",
    "plt.show() "
   ]
  }
 ],
 "metadata": {
  "kernelspec": {
   "display_name": "Python 3",
   "language": "python",
   "name": "python3"
  },
  "language_info": {
   "codemirror_mode": {
    "name": "ipython",
    "version": 3
   },
   "file_extension": ".py",
   "mimetype": "text/x-python",
   "name": "python",
   "nbconvert_exporter": "python",
   "pygments_lexer": "ipython3",
   "version": "3.7.9"
  }
 },
 "nbformat": 4,
 "nbformat_minor": 5
}
