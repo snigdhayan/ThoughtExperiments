{
 "cells": [
  {
   "cell_type": "markdown",
   "id": "frequent-platform",
   "metadata": {},
   "source": [
    "## Decision-making simulation\n",
    "In this notebook I simulate the effect of overall decision accuracy in the presence of random, bad, good and excellent decision-makers.\n",
    "\n",
    "    - A decision consists of a few options with one of them being correct.\n",
    "    - A decision-maker is classified as random, bad, good or excellent according to the probability of making the correct decision.\n",
    "\n",
    "I specify the relative weights of random, bad, good and excellent decision makers. Then I create a population distribution according to the relative weights and let them decide independently (i.e., crowd-source decision-making). Finally, I identify the decision of the majority of the population and check if it is correct. \n",
    "I simulate the whole process over various population sizes and compute the overall accuracy of the majority decision."
   ]
  },
  {
   "cell_type": "code",
   "execution_count": 1,
   "id": "inclusive-preference",
   "metadata": {},
   "outputs": [],
   "source": [
    "import numpy as np\n",
    "import matplotlib.pyplot as plt"
   ]
  },
  {
   "cell_type": "code",
   "execution_count": 2,
   "id": "tracked-composer",
   "metadata": {},
   "outputs": [],
   "source": [
    "# Global parameters of the experiment\n",
    "\n",
    "n_options = 2 # the number of decision options to choose from\n",
    "random_weight = 100 # the weight of random decision-makers\n",
    "bad_weight = 10 # the weight of bad decision-makers\n",
    "good_weight = 10 # the weight of good decision-makers\n",
    "excellent_weight = 5 # the weight of excellent decision-makers"
   ]
  },
  {
   "cell_type": "code",
   "execution_count": 3,
   "id": "editorial-intersection",
   "metadata": {},
   "outputs": [],
   "source": [
    "# Create the population distribution of random, bad, good and excellent decision-makers\n",
    "\n",
    "total_weight = random_weight + bad_weight + good_weight + excellent_weight\n",
    "population_distribution = np.asarray([random_weight, bad_weight, good_weight, excellent_weight])/total_weight"
   ]
  },
  {
   "cell_type": "code",
   "execution_count": 4,
   "id": "eleven-modeling",
   "metadata": {},
   "outputs": [],
   "source": [
    "# Decision setup - options to choose from and the correct option\n",
    "\n",
    "decision_options = np.asarray(range(1, n_options+1)) # decision options\n",
    "correct_option = np.random.choice(decision_options) # the correct option"
   ]
  },
  {
   "cell_type": "code",
   "execution_count": 5,
   "id": "finnish-upset",
   "metadata": {},
   "outputs": [],
   "source": [
    "class decision_maker:\n",
    "    '''\n",
    "    generic decision-maker\n",
    "    \n",
    "    '''\n",
    "    \n",
    "    options = decision_options\n",
    "    bias = np.ones(n_options)*(100/n_options) # all decision options are equally likely\n",
    "    \n",
    "    def __init__(self):\n",
    "        pass\n",
    "\n",
    "    def decide(self):\n",
    "        return np.random.choice(self.options, p=self.bias)"
   ]
  },
  {
   "cell_type": "code",
   "execution_count": 6,
   "id": "valued-lebanon",
   "metadata": {},
   "outputs": [],
   "source": [
    "class random_decision_maker(decision_maker):\n",
    "    '''\n",
    "    randomly makes a decision\n",
    "    \n",
    "    '''\n",
    "\n",
    "    def __init__(self): \n",
    "        array = np.random.choice(range(1,100), n_options) # probability of correct decision is random\n",
    "        self.bias = array/sum(array)"
   ]
  },
  {
   "cell_type": "code",
   "execution_count": 7,
   "id": "valued-insider",
   "metadata": {},
   "outputs": [],
   "source": [
    "class bad_decision_maker(decision_maker):\n",
    "    '''\n",
    "    unlikely to make the correct decision\n",
    "    \n",
    "    '''\n",
    "    \n",
    "    def __init__(self):\n",
    "        array = np.random.choice(range(1,100), n_options)\n",
    "        array[correct_option-1] = min(array)/2 # probability of correct decision is very low\n",
    "        self.bias = array/sum(array)"
   ]
  },
  {
   "cell_type": "code",
   "execution_count": 8,
   "id": "distinguished-support",
   "metadata": {},
   "outputs": [],
   "source": [
    "class good_decision_maker(decision_maker):\n",
    "    '''\n",
    "    quite likely to make the correct decision\n",
    "    \n",
    "    '''\n",
    "    \n",
    "    def __init__(self):\n",
    "        array = np.random.choice(range(1,100), n_options)\n",
    "        array[correct_option-1] = 2*max(array) # probability of correct decision is quite high\n",
    "        self.bias = array/sum(array)"
   ]
  },
  {
   "cell_type": "code",
   "execution_count": 9,
   "id": "transparent-clinic",
   "metadata": {},
   "outputs": [],
   "source": [
    "class excellent_decision_maker(decision_maker):\n",
    "    '''\n",
    "    makes the correct decision with very high probability\n",
    "    \n",
    "    '''\n",
    "    \n",
    "    def __init__(self):\n",
    "        array = np.random.choice(range(1,100), n_options)\n",
    "        array[correct_option-1] = 10*max(array) # probability of correct decision is extremely high\n",
    "        self.bias = array/sum(array)"
   ]
  },
  {
   "cell_type": "code",
   "execution_count": 10,
   "id": "tough-token",
   "metadata": {},
   "outputs": [],
   "source": [
    "def crowd_source_decisions(population_size, population_distn):\n",
    "    '''\n",
    "    creates a population of decision-makers according to population distribution and returns their decisions\n",
    "\n",
    "    '''\n",
    "    \n",
    "    decisions = []\n",
    "    \n",
    "    for i in range(1, population_size+1):\n",
    "        decision_maker_type = np.random.choice(len(population_distn), p=population_distn)\n",
    "        if (decision_maker_type==0):\n",
    "            decision_maker = random_decision_maker()\n",
    "            decisions.append(decision_maker.decide())\n",
    "        if (decision_maker_type==1):\n",
    "            decision_maker = bad_decision_maker()\n",
    "            decisions.append(decision_maker.decide())\n",
    "        if (decision_maker_type==2):\n",
    "            decision_maker = good_decision_maker()\n",
    "            decisions.append(decision_maker.decide())\n",
    "        if (decision_maker_type==3):\n",
    "            decision_maker = excellent_decision_maker()\n",
    "            decisions.append(decision_maker.decide())\n",
    "                \n",
    "    return decisions"
   ]
  },
  {
   "cell_type": "code",
   "execution_count": 11,
   "id": "chief-headset",
   "metadata": {
    "scrolled": true
   },
   "outputs": [],
   "source": [
    "def simulate_decision_making(n_trials, population_distn):\n",
    "    '''\n",
    "    simulate crowd-sourced decision-making for a certain number of trials\n",
    "\n",
    "    '''\n",
    "    \n",
    "    n_decision_makers = [] # the numbers of the decision-makers involved in the trials\n",
    "    accuracy_values = [] # the percentages of the correct decisions in the trials\n",
    "    majority_decision = [] # the outcomes of the majority decisions in the trials\n",
    "    \n",
    "    for i in range(1, n_trials+1):\n",
    "        number = i*10 # number of decision makers\n",
    "        population_decisions = crowd_source_decisions(number, population_distn)\n",
    "        n_decision_makers.append(number)\n",
    "        accuracy_values.append((sum(population_decisions == correct_option)/(i*10))*100)\n",
    "        majority_decision.append(max(population_decisions, key=population_decisions.count))\n",
    "        \n",
    "    return n_decision_makers, accuracy_values, majority_decision"
   ]
  },
  {
   "cell_type": "code",
   "execution_count": 12,
   "id": "tribal-budget",
   "metadata": {},
   "outputs": [],
   "source": [
    "# Define the number of simulation trials and run the simulation\n",
    "\n",
    "n_trials = 100 # the number of trials for the simulation\n",
    "n_decision_makers, accuracy_values, majority_decision = simulate_decision_making(n_trials, population_distribution)"
   ]
  },
  {
   "cell_type": "code",
   "execution_count": 13,
   "id": "czech-process",
   "metadata": {},
   "outputs": [],
   "source": [
    "# Compute the overall accuracy of the majority decision\n",
    "\n",
    "majority_decision_accuracy = round((sum(majority_decision == correct_option)*100)/len(majority_decision),2)\n",
    "\n",
    "# Also compute the expected accuracy of random decision-making if all options are equally likely\n",
    "\n",
    "random_decision_accuracy = 100/n_options "
   ]
  },
  {
   "cell_type": "code",
   "execution_count": 14,
   "id": "helpful-round",
   "metadata": {},
   "outputs": [
    {
     "data": {
      "image/png": "[encoded data removed]",
      "text/plain": [
       "<Figure size 432x288 with 1 Axes>"
      ]
     },
     "metadata": {
      "needs_background": "light"
     },
     "output_type": "display_data"
    }
   ],
   "source": [
    "# Plot results\n",
    "\n",
    "# x-axis values \n",
    "x = n_decision_makers\n",
    "# y-axis values \n",
    "y = accuracy_values\n",
    "\n",
    "# Plot the points \n",
    "plt.plot(x, y) \n",
    "\n",
    "plt.hlines(majority_decision_accuracy, min(x), max(x), color='green')\n",
    "plt.hlines(100/n_options, min(x), max(x), color='orange')\n",
    "\n",
    "# x-axis name\n",
    "plt.xlabel('Population size of decision makers') \n",
    "# y-axis name \n",
    "plt.ylabel('Accuracy (percentage)') \n",
    "\n",
    "# Graph title\n",
    "plt.title(F'Majority Decision Accuracy vs Random Decision Accuracy\\n') \n",
    "\n",
    "\n",
    "# Plot legends\n",
    "plt.xlim((min(x), max(x)))\n",
    "plt.ylim(0, 100)\n",
    "legends = [F'Crowd-sourced decision accuracy', \n",
    "           F'Majority decision accuracy = {majority_decision_accuracy}%', \n",
    "           F'Random decision accuracy = {random_decision_accuracy}%']\n",
    "plt.legend(legends, loc='lower right')\n",
    "\n",
    "# Display the graph\n",
    "plt.show() "
   ]
  },
  {
   "cell_type": "markdown",
   "id": "unique-state",
   "metadata": {},
   "source": [
    "The graph demonstrates how a few good and excellent decision-makers can improve upon the baseline, namely, the accuracy of random decision-making. The challenge for an organization is to identify the good and excellent decision-makers and spread them judiciously."
   ]
  }
 ],
 "metadata": {
  "kernelspec": {
   "display_name": "Python 3",
   "language": "python",
   "name": "python3"
  },
  "language_info": {
   "codemirror_mode": {
    "name": "ipython",
    "version": 3
   },
   "file_extension": ".py",
   "mimetype": "text/x-python",
   "name": "python",
   "nbconvert_exporter": "python",
   "pygments_lexer": "ipython3",
   "version": "3.7.9"
  }
 },
 "nbformat": 4,
 "nbformat_minor": 5
}
