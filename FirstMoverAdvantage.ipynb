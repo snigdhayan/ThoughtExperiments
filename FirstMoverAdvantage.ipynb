{
 "cells": [
  {
   "cell_type": "markdown",
   "id": "gross-register",
   "metadata": {},
   "source": [
    "# First-mover advantage\n",
    "I will formulate a problem in terms of a hypothetical match-making game. Suppose there is a blind dating game, where a woman has to select a partner among various players based on conversation only. The rules are as follows:\n",
    "1. There are 10 players and the game ends only if she selects one of them.\n",
    "2. There is a predetermined order in which she gets to speak with the players.\n",
    "3. In each round she selects one conversation topic and she is allowed to discuss only that topic with the players.\n",
    "3. At the end of each conversation she gives a rating (1-4). The rating=1 signifies partner selection which ends the game; otherwise, she proceeds to the next one.\n",
    "4. If she has spoken with all 10 players and not selected anybody, then she can start another round of conversations based on a new topic.\n",
    "\n",
    "Among all players there is one (let us say the 8th player), whom she would have chosen if she did not have the restriction to stick to one conversation topic only. For simplicity, let us assume that all others have a low probability of being selected (let us say capped at 0.4) and the 8th player has a high probability of being selected at any round of conversation. Suppose we play this game with 1000 different women. How many of them will actually select the 8th player?"
   ]
  },
  {
   "cell_type": "code",
   "execution_count": 1,
   "id": "thousand-plate",
   "metadata": {},
   "outputs": [],
   "source": [
    "# Context information\n",
    "n_outcomes <- 4 # after conversation she gives a rating 1-4 (1 being the best rating)\n",
    "outcomes <- c(1:n_outcomes)\n",
    "winningOutcome <- 1 # 1 signifies partner selection\n",
    "players <- c(1:10) # in ascending order of priority - 7 candidates before the 8th one"
   ]
  },
  {
   "cell_type": "code",
   "execution_count": 2,
   "id": "legal-denver",
   "metadata": {},
   "outputs": [
    {
     "data": {
      "text/html": [
       "<ol class=list-inline>\n",
       "\t<li>0.386058981233244</li>\n",
       "\t<li>0.257372654155496</li>\n",
       "\t<li>0.17426273458445</li>\n",
       "\t<li>0.18230563002681</li>\n",
       "</ol>\n"
      ],
      "text/latex": [
       "\\begin{enumerate*}\n",
       "\\item 0.386058981233244\n",
       "\\item 0.257372654155496\n",
       "\\item 0.17426273458445\n",
       "\\item 0.18230563002681\n",
       "\\end{enumerate*}\n"
      ],
      "text/markdown": [
       "1. 0.386058981233244\n",
       "2. 0.257372654155496\n",
       "3. 0.17426273458445\n",
       "4. 0.18230563002681\n",
       "\n",
       "\n"
      ],
      "text/plain": [
       "[1] 0.3860590 0.2573727 0.1742627 0.1823056"
      ]
     },
     "metadata": {},
     "output_type": "display_data"
    }
   ],
   "source": [
    "# Probabilistic winner - the player with the highest probability of winning (8th one)\n",
    "probabilistic_winner <- 8\n",
    "gen_winner_prob <- function() {\n",
    "    vector <- sample(c(1:100), size=length(outcomes), replace=TRUE)\n",
    "    vector[winningOutcome] <- 1.5*max(vector) # increase the probability of winning\n",
    "    winner_prob <- vector/sum(vector) # scale it to make it a probability vector\n",
    "    return(winner_prob)\n",
    "}\n",
    "gen_winner_prob()"
   ]
  },
  {
   "cell_type": "code",
   "execution_count": 3,
   "id": "unnecessary-think",
   "metadata": {},
   "outputs": [
    {
     "data": {
      "text/html": [
       "<ol class=list-inline>\n",
       "\t<li>0.0567721404833719</li>\n",
       "\t<li>0.414255478841762</li>\n",
       "\t<li>0.0254926448518008</li>\n",
       "\t<li>0.503479735823065</li>\n",
       "</ol>\n"
      ],
      "text/latex": [
       "\\begin{enumerate*}\n",
       "\\item 0.0567721404833719\n",
       "\\item 0.414255478841762\n",
       "\\item 0.0254926448518008\n",
       "\\item 0.503479735823065\n",
       "\\end{enumerate*}\n"
      ],
      "text/markdown": [
       "1. 0.0567721404833719\n",
       "2. 0.414255478841762\n",
       "3. 0.0254926448518008\n",
       "4. 0.503479735823065\n",
       "\n",
       "\n"
      ],
      "text/plain": [
       "[1] 0.05677214 0.41425548 0.02549264 0.50347974"
      ]
     },
     "metadata": {},
     "output_type": "display_data"
    }
   ],
   "source": [
    "# Others - all others have a low probability of winning\n",
    "probability_cap <- 0.4\n",
    "gen_others_prob <- function() {\n",
    "    p <- runif(1, min=0.01, max=probability_cap) # probability of winning capped at probability_cap\n",
    "    vector <- sample(c(0:100), size=length(outcomes)-1, replace=TRUE)\n",
    "    vector <- ((1-p)*vector)/sum(vector)\n",
    "    others_prob <- c(p, vector) # set p as the probability of winning for others\n",
    "    return(others_prob)\n",
    "}\n",
    "gen_others_prob()"
   ]
  },
  {
   "cell_type": "code",
   "execution_count": 4,
   "id": "incorporate-homeless",
   "metadata": {},
   "outputs": [],
   "source": [
    "# Play - one round so that each player gets a chance according to the order of priority\n",
    "play <- function() {\n",
    "    for (i in players) {\n",
    "        if (i == probabilistic_winner) {\n",
    "            winner_prob <- gen_winner_prob()\n",
    "            x <- sample(outcomes, size=1, replace=TRUE, prob = winner_prob) # use high probability of winning\n",
    "        }\n",
    "        if (i != probabilistic_winner) {\n",
    "            others_prob <- gen_others_prob()\n",
    "            x <- sample(outcomes, size=1, replace=TRUE, prob = others_prob) # no enhanced probability of winning\n",
    "        } \n",
    "        if (x==winningOutcome) return(i)\n",
    "    }\n",
    "}"
   ]
  },
  {
   "cell_type": "code",
   "execution_count": 5,
   "id": "liable-angel",
   "metadata": {},
   "outputs": [],
   "source": [
    "# Game - keep playing until the game ends with a winner\n",
    "game <- function() {\n",
    "  counter <- 1\n",
    "  outcome <- integer(2)\n",
    "  while (TRUE) {\n",
    "    result <- play()\n",
    "    outcome[2] <- counter\n",
    "    if (is.null(result)==FALSE) {\n",
    "      outcome[1] <- result\n",
    "      return(outcome)\n",
    "    }\n",
    "    else {\n",
    "      counter <- counter + 1\n",
    "      }\n",
    "    }\n",
    "}"
   ]
  },
  {
   "cell_type": "code",
   "execution_count": 6,
   "id": "alpine-chair",
   "metadata": {},
   "outputs": [],
   "source": [
    "# Define simulation parameters and run it\n",
    "n_trials <- 1000 # play the same game with 1000 different women\n",
    "gameLength <- integer(n_trials) # keep track of the number of rounds needed to complete the game\n",
    "victoryTable <- integer(n_trials) # keep track of the winners\n",
    "\n",
    "for (i in c(1:n_trials)) {\n",
    "  winner <- game()\n",
    "  gameLength[i] <- winner[2]\n",
    "  victoryTable[i] <- winner[1]\n",
    "}"
   ]
  },
  {
   "cell_type": "code",
   "execution_count": 7,
   "id": "defensive-ukraine",
   "metadata": {},
   "outputs": [
    {
     "name": "stdout",
     "output_type": "stream",
     "text": [
      "victoryTable\n",
      "  1   2   3   4   5   6   7   8   9  10 \n",
      "205 173 150 107 102  62  60  99  25  17 \n"
     ]
    }
   ],
   "source": [
    "# Show the frequency table of the victories of the players\n",
    "frequency_victory <- table(victoryTable)\n",
    "print(frequency_victory)"
   ]
  },
  {
   "cell_type": "code",
   "execution_count": 8,
   "id": "wired-stopping",
   "metadata": {},
   "outputs": [
    {
     "data": {
      "image/png": "[encoded data removed]",
      "text/plain": [
       "Plot with title \"Victory table\""
      ]
     },
     "metadata": {},
     "output_type": "display_data"
    }
   ],
   "source": [
    "# Show the victory table as a barplot - look at the 8th column!!\n",
    "barplot(frequency_victory, xlab = \"Players\", ylab = \"No. of victories\", \n",
    "     main = \"Victory table\")"
   ]
  },
  {
   "cell_type": "code",
   "execution_count": 9,
   "id": "irish-zambia",
   "metadata": {},
   "outputs": [
    {
     "name": "stdout",
     "output_type": "stream",
     "text": [
      "gameLength\n",
      "  1   2   3 \n",
      "932  60   8 \n"
     ]
    }
   ],
   "source": [
    "# Show the frequency table of the lengths of the games\n",
    "frequency_gameLength <- table(gameLength)\n",
    "print(frequency_gameLength)"
   ]
  },
  {
   "cell_type": "code",
   "execution_count": 10,
   "id": "integral-glance",
   "metadata": {},
   "outputs": [
    {
     "data": {
      "image/png": "[encoded data removed]",
      "text/plain": [
       "Plot with title \"Game length distribution\""
      ]
     },
     "metadata": {},
     "output_type": "display_data"
    }
   ],
   "source": [
    "# Show the histogram of the lengths of the games\n",
    "hist(gameLength, col = \"gray\", \n",
    "     xlab = \"No. of rounds\", ylab = \"No. of games\", \n",
    "     main = \"Game length distribution\")"
   ]
  },
  {
   "cell_type": "markdown",
   "id": "postal-headquarters",
   "metadata": {},
   "source": [
    "One can now play with the parameters like `n_outcomes`, `players`, `probability_cap` and the functions like `gen_winner_prob()`, `gen_others_prob()` to analyze various scenarios. Quite predictably, the first-mover advantage is governed by the probability of winning, which in turn depends on factors like `n_outcomes`, `players`, `probability_cap`, etc."
   ]
  }
 ],
 "metadata": {
  "kernelspec": {
   "display_name": "R",
   "language": "R",
   "name": "ir"
  },
  "language_info": {
   "codemirror_mode": "r",
   "file_extension": ".r",
   "mimetype": "text/x-r-source",
   "name": "R",
   "pygments_lexer": "r",
   "version": "3.6.1"
  }
 },
 "nbformat": 4,
 "nbformat_minor": 5
}
